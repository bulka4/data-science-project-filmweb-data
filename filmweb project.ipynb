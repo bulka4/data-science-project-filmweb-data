{
 "cells": [
  {
   "cell_type": "markdown",
   "metadata": {},
   "source": [
    "## collecting data"
   ]
  },
  {
   "cell_type": "markdown",
   "metadata": {},
   "source": [
    "In this notebook I will create a data set about movies from a base at filmweb.pl using a BeautifulSoup and try to predict a rating of movies."
   ]
  },
  {
   "cell_type": "code",
   "execution_count": 1,
   "metadata": {},
   "outputs": [],
   "source": [
    "from bs4 import BeautifulSoup as bs\n",
    "import requests\n",
    "import pandas as pd\n",
    "import numpy as np\n",
    "import seaborn as sns\n",
    "import matplotlib.pyplot as plt\n",
    "from datetime import datetime\n",
    "%matplotlib inline"
   ]
  },
  {
   "cell_type": "code",
   "execution_count": 2,
   "metadata": {},
   "outputs": [],
   "source": [
    "#function getting information about 1 film\n",
    "\n",
    "def get_info(link):\n",
    "    \n",
    "    r=requests.get(link)\n",
    "    soup=bs(r.content)\n",
    "\n",
    "    movie_info={}\n",
    "    \n",
    "    #info about directors,...,premiere \n",
    "    info_box=soup.find(class_='filmPosterSection__info filmInfo')\n",
    "\n",
    "    keys=info_box.find_all(class_='filmInfo__header')\n",
    "    values=info_box.find_all(class_='filmInfo__info')\n",
    "\n",
    "    for i in range(5):\n",
    "        key=keys[i].get_text(strip=True).split('(')[0]\n",
    "        value=values[i].get_text(strip=True).split('(')[0]\n",
    "        movie_info[key]=value\n",
    "        \n",
    "    #info about title and actors\n",
    "    for i in range(10):\n",
    "        try:\n",
    "            base_link='https://www.filmweb.pl'\n",
    "            actors_link=base_link+soup.find_all(class_='page__moreButton')[i].a['href']\n",
    "\n",
    "            r2=requests.get(actors_link)\n",
    "            soup2=bs(r2.content)\n",
    "\n",
    "            movie_info['title']=soup2.find(class_='filmHeaderSection__title').get_text(strip=True)\n",
    "\n",
    "            actors_table=soup2.find(class_='filmFullCastSection__list')\n",
    "            actors_rows=actors_table.find_all(class_='castRoleListElement__info')\n",
    "            movie_info['actors']=[]\n",
    "\n",
    "            for index, row in enumerate(actors_rows):\n",
    "                actor_name=row.a.get_text(strip=True)\n",
    "                movie_info['actors'].append(actor_name)\n",
    "                if index>10:\n",
    "                    break\n",
    "        except:\n",
    "            continue\n",
    "\n",
    "    #info about boxoffice,..., oryginal title\n",
    "    info_box3=soup.find(class_='filmOtherInfoSection__group')\n",
    "    info_rows3=info_box3.find_all(class_='filmInfo__group')\n",
    "\n",
    "    for index, row in enumerate(info_rows3):\n",
    "        if index<5:\n",
    "            keys=row.find_all(class_='filmInfo__header')\n",
    "            values=row.find_all(class_='filmInfo__info')\n",
    "            for i in range(2):\n",
    "                try:\n",
    "                    key2=keys[i].get_text(strip=True).split('(')[0]\n",
    "                    value2=values[i].get_text(strip=True).split('(')[0]\n",
    "                    movie_info[key2]=value2\n",
    "                except:\n",
    "                    continue\n",
    "        else:\n",
    "            break\n",
    "    \n",
    "    #info about rating\n",
    "    movie_info['rating']=soup.find(class_='filmRating__rateValue').get_text(strip=True)\n",
    "            \n",
    "    return movie_info"
   ]
  },
  {
   "cell_type": "markdown",
   "metadata": {},
   "source": [
    "We will use link: https://www.filmweb.pl/films/search?endRate=9&orderBy=rate&descending=true&startCount=8000&startRate=8, and get information about movies with rates from 3.9 to 8.9 stars."
   ]
  },
  {
   "cell_type": "code",
   "execution_count": 3,
   "metadata": {},
   "outputs": [],
   "source": [
    "movies_info_list=[]\n",
    "\n",
    "for l in range(6):\n",
    "    k=10 #setting number of pages\n",
    "    j=3+l\n",
    "\n",
    "    for i in range(k):\n",
    "        link='https://www.filmweb.pl/films/search?endRate={}'.format(j+1)+'&orderBy=rate&descending=true&startCount=8000'+'&startRate={}'.format(j)+'&page={}'.format(i+1)\n",
    "        \n",
    "        r=requests.get(link)\n",
    "        soup=bs(r.content)\n",
    "        film_list=soup.select('.wrapperContent.page__section')\n",
    "        film_rows=film_list[0].find_all('li')\n",
    "\n",
    "        for index, row in enumerate(film_rows):\n",
    "            if index<80:\n",
    "                try:\n",
    "                    base_link='https://www.filmweb.pl'\n",
    "                    link=base_link+row.find(class_='filmPreview__titleDetails').a['href']\n",
    "                    movies_info_list.append(get_info(link))\n",
    "                except:\n",
    "                    continue"
   ]
  },
  {
   "cell_type": "code",
   "execution_count": 4,
   "metadata": {},
   "outputs": [],
   "source": [
    "#creating a DataFrame\n",
    "df=pd.DataFrame(movies_info_list)"
   ]
  },
  {
   "cell_type": "code",
   "execution_count": 5,
   "metadata": {},
   "outputs": [
    {
     "data": {
      "text/plain": [
       "Index(['actors', 'boxoffice', 'budÅ¼et', 'budżet', 'data produkcji',\n",
       "       'dystrybucja', 'gatunek', 'inne tytuÅ‚y', 'inne tytuły', 'na podstawie',\n",
       "       'premiera', 'produkcja', 'rating', 'reÅ¼yseria', 'reżyseria',\n",
       "       'scenariusz', 'studio', 'title', 'tytuÅ‚ oryg.', 'tytuł oryg.'],\n",
       "      dtype='object')"
      ]
     },
     "execution_count": 5,
     "metadata": {},
     "output_type": "execute_result"
    }
   ],
   "source": [
    "df.columns"
   ]
  },
  {
   "cell_type": "markdown",
   "metadata": {},
   "source": [
    "Removing unnecessary columns"
   ]
  },
  {
   "cell_type": "code",
   "execution_count": 6,
   "metadata": {},
   "outputs": [],
   "source": [
    "df.drop(['budÅ¼et','dystrybucja','inne tytuÅ‚y','inne tytuły','na podstawie','reÅ¼yseria','tytuÅ‚ oryg.','tytuł oryg.'],axis=1\n",
    "       ,inplace=True)"
   ]
  },
  {
   "cell_type": "code",
   "execution_count": 7,
   "metadata": {
    "scrolled": true
   },
   "outputs": [],
   "source": [
    "df=df.rename(columns={'budżet':'budget', 'data produkcji': 'date of production', 'gatunek': 'genre', 'premiera': 'premiere', \n",
    "           'produkcja': 'production', 'reżyseria': 'directing','scenariusz': 'scenario'})"
   ]
  },
  {
   "cell_type": "code",
   "execution_count": 9,
   "metadata": {},
   "outputs": [
    {
     "data": {
      "text/html": [
       "<div>\n",
       "<style scoped>\n",
       "    .dataframe tbody tr th:only-of-type {\n",
       "        vertical-align: middle;\n",
       "    }\n",
       "\n",
       "    .dataframe tbody tr th {\n",
       "        vertical-align: top;\n",
       "    }\n",
       "\n",
       "    .dataframe thead th {\n",
       "        text-align: right;\n",
       "    }\n",
       "</style>\n",
       "<table border=\"1\" class=\"dataframe\">\n",
       "  <thead>\n",
       "    <tr style=\"text-align: right;\">\n",
       "      <th></th>\n",
       "      <th>actors</th>\n",
       "      <th>boxoffice</th>\n",
       "      <th>budget</th>\n",
       "      <th>date of production</th>\n",
       "      <th>genre</th>\n",
       "      <th>premiere</th>\n",
       "      <th>production</th>\n",
       "      <th>rating</th>\n",
       "      <th>directing</th>\n",
       "      <th>scenario</th>\n",
       "      <th>studio</th>\n",
       "      <th>title</th>\n",
       "    </tr>\n",
       "  </thead>\n",
       "  <tbody>\n",
       "    <tr>\n",
       "      <th>0</th>\n",
       "      <td>[Anthony Ilott, Chris Jarvis, Aqueela Zoll, Sa...</td>\n",
       "      <td>NaN</td>\n",
       "      <td>NaN</td>\n",
       "      <td>2014</td>\n",
       "      <td>Horror</td>\n",
       "      <td>22 sierpnia 2014</td>\n",
       "      <td>USA</td>\n",
       "      <td>3,9</td>\n",
       "      <td>Valeri Milev</td>\n",
       "      <td>Frank H. Woodward</td>\n",
       "      <td>UFO International Productions</td>\n",
       "      <td>Droga bez powrotu 6: Hotel na uboczu</td>\n",
       "    </tr>\n",
       "    <tr>\n",
       "      <th>1</th>\n",
       "      <td>[Piotr Stramowski, Mikołaj Roznerski, Katarzyn...</td>\n",
       "      <td>NaN</td>\n",
       "      <td>NaN</td>\n",
       "      <td>2019</td>\n",
       "      <td>Dramat/Sportowy</td>\n",
       "      <td>15 lipca 2019</td>\n",
       "      <td>Polska</td>\n",
       "      <td>3,9</td>\n",
       "      <td>Konrad Maximilian</td>\n",
       "      <td>Konrad Maximilian</td>\n",
       "      <td>Domino Film/Exotic Car Club Sp. z o.o.</td>\n",
       "      <td>Fighter</td>\n",
       "    </tr>\n",
       "    <tr>\n",
       "      <th>2</th>\n",
       "      <td>[Michał Żebrowski, Zbigniew Zamachowski, Macie...</td>\n",
       "      <td>NaN</td>\n",
       "      <td>NaN</td>\n",
       "      <td>2001</td>\n",
       "      <td>Fantasy/Przygodowy</td>\n",
       "      <td>9 listopada 2001</td>\n",
       "      <td>Polska</td>\n",
       "      <td>3,9</td>\n",
       "      <td>Marek Brodzki</td>\n",
       "      <td>Michał Szczerbic</td>\n",
       "      <td>Héritage Films</td>\n",
       "      <td>Wiedźmin</td>\n",
       "    </tr>\n",
       "    <tr>\n",
       "      <th>3</th>\n",
       "      <td>[Jess Weixler, Hale Appleman, Laila Liliana Ga...</td>\n",
       "      <td>$2 340 110 na świecie$347 578 w USA$1 992 532 ...</td>\n",
       "      <td>NaN</td>\n",
       "      <td>2007</td>\n",
       "      <td>Czarna komedia</td>\n",
       "      <td>19 stycznia 2007</td>\n",
       "      <td>USA</td>\n",
       "      <td>3,8</td>\n",
       "      <td>Mitchell Lichtenstein</td>\n",
       "      <td>Mitchell Lichtenstein</td>\n",
       "      <td>Teeth</td>\n",
       "      <td>Zęby</td>\n",
       "    </tr>\n",
       "    <tr>\n",
       "      <th>4</th>\n",
       "      <td>[Marlon Wayans, Kali Hawk, Fred Willard, Mike ...</td>\n",
       "      <td>$22 227 514 na świecie$11 686 940 w USA$10 540...</td>\n",
       "      <td>$5 000 000</td>\n",
       "      <td>2016</td>\n",
       "      <td>Komedia</td>\n",
       "      <td>28 stycznia 2016</td>\n",
       "      <td>USA</td>\n",
       "      <td>3,8</td>\n",
       "      <td>Michael Tiddes</td>\n",
       "      <td>Rick Alvarez/Marlon Wayans</td>\n",
       "      <td>Baby Way Productions/IM Global</td>\n",
       "      <td>Pięćdziesiąt twarzy Blacka</td>\n",
       "    </tr>\n",
       "  </tbody>\n",
       "</table>\n",
       "</div>"
      ],
      "text/plain": [
       "                                              actors  \\\n",
       "0  [Anthony Ilott, Chris Jarvis, Aqueela Zoll, Sa...   \n",
       "1  [Piotr Stramowski, Mikołaj Roznerski, Katarzyn...   \n",
       "2  [Michał Żebrowski, Zbigniew Zamachowski, Macie...   \n",
       "3  [Jess Weixler, Hale Appleman, Laila Liliana Ga...   \n",
       "4  [Marlon Wayans, Kali Hawk, Fred Willard, Mike ...   \n",
       "\n",
       "                                           boxoffice      budget  \\\n",
       "0                                                NaN         NaN   \n",
       "1                                                NaN         NaN   \n",
       "2                                                NaN         NaN   \n",
       "3  $2 340 110 na świecie$347 578 w USA$1 992 532 ...         NaN   \n",
       "4  $22 227 514 na świecie$11 686 940 w USA$10 540...  $5 000 000   \n",
       "\n",
       "  date of production               genre           premiere production rating  \\\n",
       "0               2014              Horror  22 sierpnia 2014         USA    3,9   \n",
       "1               2019     Dramat/Sportowy     15 lipca 2019      Polska    3,9   \n",
       "2               2001  Fantasy/Przygodowy  9 listopada 2001      Polska    3,9   \n",
       "3               2007      Czarna komedia  19 stycznia 2007         USA    3,8   \n",
       "4               2016             Komedia  28 stycznia 2016         USA    3,8   \n",
       "\n",
       "               directing                    scenario  \\\n",
       "0           Valeri Milev           Frank H. Woodward   \n",
       "1      Konrad Maximilian           Konrad Maximilian   \n",
       "2          Marek Brodzki            Michał Szczerbic   \n",
       "3  Mitchell Lichtenstein       Mitchell Lichtenstein   \n",
       "4         Michael Tiddes  Rick Alvarez/Marlon Wayans   \n",
       "\n",
       "                                   studio  \\\n",
       "0           UFO International Productions   \n",
       "1  Domino Film/Exotic Car Club Sp. z o.o.   \n",
       "2                          Héritage Films   \n",
       "3                                   Teeth   \n",
       "4          Baby Way Productions/IM Global   \n",
       "\n",
       "                                  title  \n",
       "0  Droga bez powrotu 6: Hotel na uboczu  \n",
       "1                               Fighter  \n",
       "2                              Wiedźmin  \n",
       "3                                  Zęby  \n",
       "4            Pięćdziesiąt twarzy Blacka  "
      ]
     },
     "execution_count": 9,
     "metadata": {},
     "output_type": "execute_result"
    }
   ],
   "source": [
    "df.head()"
   ]
  },
  {
   "cell_type": "code",
   "execution_count": 10,
   "metadata": {},
   "outputs": [
    {
     "data": {
      "text/plain": [
       "<matplotlib.axes._subplots.AxesSubplot at 0x248cc819cc0>"
      ]
     },
     "execution_count": 10,
     "metadata": {},
     "output_type": "execute_result"
    },
    {
     "data": {
      "image/png": "[encoded data removed]",
      "text/plain": [
       "<Figure size 432x288 with 2 Axes>"
      ]
     },
     "metadata": {
      "needs_background": "light"
     },
     "output_type": "display_data"
    }
   ],
   "source": [
    "#checking NaN values\n",
    "sns.heatmap(df.isnull())"
   ]
  },
  {
   "cell_type": "markdown",
   "metadata": {},
   "source": [
    "There is a lot of NaN values in budget and boxoffice columns so we will create 1 additional DataFrame without this colmns. We will remove rows with NaN values in studio and directing."
   ]
  },
  {
   "cell_type": "code",
   "execution_count": 11,
   "metadata": {},
   "outputs": [],
   "source": [
    "#df1 will be a dataFrame without budget and boxoffice columns\n",
    "df1=df.copy()"
   ]
  },
  {
   "cell_type": "code",
   "execution_count": 12,
   "metadata": {},
   "outputs": [],
   "source": [
    "df1.drop(['budget','boxoffice'],axis=1,inplace=True)"
   ]
  },
  {
   "cell_type": "code",
   "execution_count": 13,
   "metadata": {},
   "outputs": [],
   "source": [
    "df=df[df['directing'].isnull()==False]\n",
    "df=df[df['studio'].isnull()==False]\n",
    "df=df[df['budget'].isnull()==False]\n",
    "df=df[df['boxoffice'].isnull()==False]\n",
    "df1=df1[df1['directing'].isnull()==False]\n",
    "df1=df1[df1['studio'].isnull()==False]"
   ]
  },
  {
   "cell_type": "code",
   "execution_count": 14,
   "metadata": {},
   "outputs": [],
   "source": [
    "df=df.reset_index()\n",
    "df1=df1.reset_index()"
   ]
  },
  {
   "cell_type": "code",
   "execution_count": 15,
   "metadata": {},
   "outputs": [],
   "source": [
    "df.drop('index',axis=1,inplace=True)\n",
    "df1.drop('index',axis=1,inplace=True)"
   ]
  },
  {
   "cell_type": "markdown",
   "metadata": {},
   "source": [
    "Now we will transform values in some columns. In the 'boxoffice' column we will grab only the first number which is the boxoffice in the world and set a type of this value as float, in the 'budget' column we will remove a dollar sign and also set a type as a float, values in the 'premiere' column will be a datetime objects, in the 'production', 'directing', 'scenario' and 'studio' columns we will have lists of strings instead of one string and we will set a type of rating values as float. Let's define functions in order to do that."
   ]
  },
  {
   "cell_type": "code",
   "execution_count": 16,
   "metadata": {},
   "outputs": [],
   "source": [
    "#functions to clean data\n",
    "def clean_boxoffice(value):\n",
    "    value= value.split('na')[0].split('$')[1]\n",
    "    \n",
    "    for i in range(1):\n",
    "        try:\n",
    "            value=value.split('w')[0]\n",
    "        except:\n",
    "            continue\n",
    "    \n",
    "    return ''.join(value.split())\n",
    "\n",
    "def clean_scenario(value):\n",
    "    #changing string into list\n",
    "    lst=value.split('/')   \n",
    "    length=len(lst)\n",
    "    if lst[length-1]=='więcej...':\n",
    "        del lst[length-1]\n",
    "    elif lst[length-1]=='Więcej...':\n",
    "        del lst[length-1]\n",
    "    \n",
    "    return lst\n",
    "\n",
    "def clean_prod(value):\n",
    "    return value.split(', ')\n",
    "\n",
    "def clean_studio(value):\n",
    "    if ' '.join(value).split()[-1]=='Więcej...':\n",
    "        return ' '.join(value).split()[:-1]\n",
    "    else:\n",
    "        return ' '.join(value).split()\n",
    "\n",
    "def miesiac_ang(miesiac):\n",
    "    if miesiac=='stycznia' or miesiac=='styczeń':\n",
    "        return 'January'\n",
    "    if miesiac=='lutego' or miesiac=='luty':\n",
    "        return 'February'\n",
    "    if miesiac=='marca' or miesiac=='marzec':\n",
    "        return 'March'\n",
    "    if miesiac=='kwietnia' or miesiac=='kwiecień':\n",
    "        return 'April'\n",
    "    if miesiac=='maja' or miesiac=='maj':\n",
    "        return 'May'\n",
    "    if miesiac=='czerwca' or miesiac=='czerwiec':\n",
    "        return 'June'\n",
    "    if miesiac=='lipca' or miesiac=='lipiec':\n",
    "        return 'July'\n",
    "    if miesiac=='sierpnia' or miesiac=='sierpień':\n",
    "        return 'August'\n",
    "    if miesiac=='września' or miesiac=='wrzesień':\n",
    "        return 'September'\n",
    "    if miesiac=='października' or miesiac=='październik':\n",
    "        return 'October'\n",
    "    if miesiac=='listopada' or miesiac=='listopad':\n",
    "        return 'November'\n",
    "    if miesiac=='grudnia' or miesiac=='grudzień':\n",
    "        return 'December'\n",
    "    \n",
    "def translating_date(date):\n",
    "    lst=date.split()\n",
    "    if len(lst)==3:\n",
    "        lst[1]=miesiac_ang(date.split()[1])\n",
    "        return ' '.join(lst)\n",
    "    else:\n",
    "        lst[0]=miesiac_ang(date.split()[0])\n",
    "        return '1 '+' '.join(lst)\n",
    "\n",
    "def transform_rating(value):\n",
    "    return '.'.join(value.split(','))"
   ]
  },
  {
   "cell_type": "markdown",
   "metadata": {},
   "source": [
    "Transforming df"
   ]
  },
  {
   "cell_type": "code",
   "execution_count": 17,
   "metadata": {},
   "outputs": [
    {
     "name": "stderr",
     "output_type": "stream",
     "text": [
      "C:\\ProgramData\\Anaconda3\\lib\\site-packages\\ipykernel_launcher.py:20: SettingWithCopyWarning: \n",
      "A value is trying to be set on a copy of a slice from a DataFrame\n",
      "\n",
      "See the caveats in the documentation: http://pandas.pydata.org/pandas-docs/stable/indexing.html#indexing-view-versus-copy\n"
     ]
    }
   ],
   "source": [
    "#cleaning 'boxoffice' and 'budget' column\n",
    "df['boxoffice']=df['boxoffice'].apply(clean_boxoffice)\n",
    "df['boxoffice']=df['boxoffice'].apply(int)\n",
    "df['budget']=df['budget'].apply(clean_boxoffice)\n",
    "df['budget']=df['budget'].apply(float)\n",
    "df['rating']=df['rating'].apply(transform_rating)\n",
    "df['date of production']=df['date of production'].apply(float)\n",
    "df['rating']=df['rating'].apply(float)\n",
    "\n",
    "\n",
    "#cleaning 'scenario', 'production' and 'directing' column\n",
    "df['scenario']=df['scenario'].apply(clean_scenario)\n",
    "df['directing']=df['directing'].apply(clean_scenario)\n",
    "df['production']=df['production'].apply(clean_scenario)\n",
    "df['studio']=df['studio'].apply(clean_scenario)\n",
    "\n",
    "#changing 'premiere' column into datetime object\n",
    "df['premiere']=df['premiere'].apply(translating_date)\n",
    "for i in range(df['rating'].count()):\n",
    "    df['premiere'][i]=datetime.strptime(df['premiere'][i],'%d %B %Y')"
   ]
  },
  {
   "cell_type": "markdown",
   "metadata": {},
   "source": [
    "Transforming df1"
   ]
  },
  {
   "cell_type": "code",
   "execution_count": 18,
   "metadata": {},
   "outputs": [
    {
     "name": "stderr",
     "output_type": "stream",
     "text": [
      "C:\\ProgramData\\Anaconda3\\lib\\site-packages\\ipykernel_launcher.py:14: SettingWithCopyWarning: \n",
      "A value is trying to be set on a copy of a slice from a DataFrame\n",
      "\n",
      "See the caveats in the documentation: http://pandas.pydata.org/pandas-docs/stable/indexing.html#indexing-view-versus-copy\n",
      "  \n"
     ]
    }
   ],
   "source": [
    "df1['rating']=df1['rating'].apply(transform_rating)\n",
    "df1['date of production']=df1['date of production'].apply(float)\n",
    "df1['rating']=df1['rating'].apply(float)\n",
    "\n",
    "#cleaning 'scenario', 'production' ,'studio' and 'directing' column\n",
    "df1['scenario']=df1['scenario'].apply(clean_scenario)\n",
    "df1['directing']=df1['directing'].apply(clean_scenario)\n",
    "df1['production']=df1['production'].apply(clean_scenario)\n",
    "df1['studio']=df1['studio'].apply(clean_scenario)\n",
    "\n",
    "#changing 'premiera' column into datetime object\n",
    "df1['premiere']=df1['premiere'].apply(translating_date)\n",
    "for i in range(df1['rating'].count()):\n",
    "    df1['premiere'][i]=datetime.strptime(df1['premiere'][i],'%d %B %Y')"
   ]
  },
  {
   "cell_type": "markdown",
   "metadata": {},
   "source": [
    "Now we will create additional columns: 'num of famous actors and actresses', 'num of famous directors' and 'num of famous screenwriters' representing number of famous actors etc. In order to do that we will create at first lists of famous actors, directors and screenwriters, that will be persons with the highest ratings at filmweb.pl."
   ]
  },
  {
   "cell_type": "code",
   "execution_count": 20,
   "metadata": {},
   "outputs": [
    {
     "data": {
      "text/html": [
       "<div>\n",
       "<style scoped>\n",
       "    .dataframe tbody tr th:only-of-type {\n",
       "        vertical-align: middle;\n",
       "    }\n",
       "\n",
       "    .dataframe tbody tr th {\n",
       "        vertical-align: top;\n",
       "    }\n",
       "\n",
       "    .dataframe thead th {\n",
       "        text-align: right;\n",
       "    }\n",
       "</style>\n",
       "<table border=\"1\" class=\"dataframe\">\n",
       "  <thead>\n",
       "    <tr style=\"text-align: right;\">\n",
       "      <th></th>\n",
       "      <th>actors</th>\n",
       "      <th>boxoffice</th>\n",
       "      <th>budget</th>\n",
       "      <th>date of production</th>\n",
       "      <th>genre</th>\n",
       "      <th>premiere</th>\n",
       "      <th>production</th>\n",
       "      <th>rating</th>\n",
       "      <th>directing</th>\n",
       "      <th>scenario</th>\n",
       "      <th>studio</th>\n",
       "      <th>title</th>\n",
       "    </tr>\n",
       "  </thead>\n",
       "  <tbody>\n",
       "    <tr>\n",
       "      <th>0</th>\n",
       "      <td>[Marlon Wayans, Kali Hawk, Fred Willard, Mike ...</td>\n",
       "      <td>22227514</td>\n",
       "      <td>5000000.0</td>\n",
       "      <td>2016.0</td>\n",
       "      <td>Komedia</td>\n",
       "      <td>2016-01-28 00:00:00</td>\n",
       "      <td>[USA]</td>\n",
       "      <td>3.8</td>\n",
       "      <td>[Michael Tiddes]</td>\n",
       "      <td>[Rick Alvarez, Marlon Wayans]</td>\n",
       "      <td>[Baby Way Productions, IM Global]</td>\n",
       "      <td>Pięćdziesiąt twarzy Blacka</td>\n",
       "    </tr>\n",
       "    <tr>\n",
       "      <th>1</th>\n",
       "      <td>[Kristanna Loken, Ben Kingsley, Will Sanderson...</td>\n",
       "      <td>3650275</td>\n",
       "      <td>25000000.0</td>\n",
       "      <td>2005.0</td>\n",
       "      <td>Fantasy/Horror/Akcja</td>\n",
       "      <td>2005-10-23 00:00:00</td>\n",
       "      <td>[Niemcy, USA]</td>\n",
       "      <td>3.8</td>\n",
       "      <td>[Uwe Boll]</td>\n",
       "      <td>[Guinevere Turner]</td>\n",
       "      <td>[Boll Kino Beteiligungs GmbH &amp; Co. KG, Herold ...</td>\n",
       "      <td>BloodRayne</td>\n",
       "    </tr>\n",
       "    <tr>\n",
       "      <th>2</th>\n",
       "      <td>[Nicolas Cage, Chad Michael Murray, Nicky Whel...</td>\n",
       "      <td>19682924</td>\n",
       "      <td>16000000.0</td>\n",
       "      <td>2014.0</td>\n",
       "      <td>Thriller/Akcja/Sci-Fi</td>\n",
       "      <td>2014-10-02 00:00:00</td>\n",
       "      <td>[USA]</td>\n",
       "      <td>3.8</td>\n",
       "      <td>[Vic Armstrong]</td>\n",
       "      <td>[Paul Lalonde, John Patus]</td>\n",
       "      <td>[Stoney Lake Entertainment]</td>\n",
       "      <td>Czasy ostateczne: Pozostawieni</td>\n",
       "    </tr>\n",
       "    <tr>\n",
       "      <th>3</th>\n",
       "      <td>[Danielle Panabaker, Matt Bush, David Koechner...</td>\n",
       "      <td>8493728</td>\n",
       "      <td>5000000.0</td>\n",
       "      <td>2012.0</td>\n",
       "      <td>Horror/Komedia</td>\n",
       "      <td>2012-05-11 00:00:00</td>\n",
       "      <td>[USA]</td>\n",
       "      <td>3.7</td>\n",
       "      <td>[John Gulager]</td>\n",
       "      <td>[Patrick Melton, Marcus Dunstan,  więcej...]</td>\n",
       "      <td>[Dimension Films]</td>\n",
       "      <td>Pirania 3DD</td>\n",
       "    </tr>\n",
       "    <tr>\n",
       "      <th>4</th>\n",
       "      <td>[Jamie Kennedy, Alan Cumming, Traylor Howard, ...</td>\n",
       "      <td>57552641</td>\n",
       "      <td>84000000.0</td>\n",
       "      <td>2005.0</td>\n",
       "      <td>Fantasy/Komedia/Przygodowy</td>\n",
       "      <td>2005-02-11 00:00:00</td>\n",
       "      <td>[Niemcy, USA]</td>\n",
       "      <td>3.6</td>\n",
       "      <td>[Lawrence Guterman]</td>\n",
       "      <td>[Lance Khazei]</td>\n",
       "      <td>[Dark Horse Entertainment, Kumar Mobiliengesel...</td>\n",
       "      <td>Dziedzic maski</td>\n",
       "    </tr>\n",
       "  </tbody>\n",
       "</table>\n",
       "</div>"
      ],
      "text/plain": [
       "                                              actors  boxoffice      budget  \\\n",
       "0  [Marlon Wayans, Kali Hawk, Fred Willard, Mike ...   22227514   5000000.0   \n",
       "1  [Kristanna Loken, Ben Kingsley, Will Sanderson...    3650275  25000000.0   \n",
       "2  [Nicolas Cage, Chad Michael Murray, Nicky Whel...   19682924  16000000.0   \n",
       "3  [Danielle Panabaker, Matt Bush, David Koechner...    8493728   5000000.0   \n",
       "4  [Jamie Kennedy, Alan Cumming, Traylor Howard, ...   57552641  84000000.0   \n",
       "\n",
       "   date of production                       genre             premiere  \\\n",
       "0              2016.0                     Komedia  2016-01-28 00:00:00   \n",
       "1              2005.0        Fantasy/Horror/Akcja  2005-10-23 00:00:00   \n",
       "2              2014.0       Thriller/Akcja/Sci-Fi  2014-10-02 00:00:00   \n",
       "3              2012.0              Horror/Komedia  2012-05-11 00:00:00   \n",
       "4              2005.0  Fantasy/Komedia/Przygodowy  2005-02-11 00:00:00   \n",
       "\n",
       "      production  rating            directing  \\\n",
       "0          [USA]     3.8     [Michael Tiddes]   \n",
       "1  [Niemcy, USA]     3.8           [Uwe Boll]   \n",
       "2          [USA]     3.8      [Vic Armstrong]   \n",
       "3          [USA]     3.7       [John Gulager]   \n",
       "4  [Niemcy, USA]     3.6  [Lawrence Guterman]   \n",
       "\n",
       "                                       scenario  \\\n",
       "0                 [Rick Alvarez, Marlon Wayans]   \n",
       "1                            [Guinevere Turner]   \n",
       "2                    [Paul Lalonde, John Patus]   \n",
       "3  [Patrick Melton, Marcus Dunstan,  więcej...]   \n",
       "4                                [Lance Khazei]   \n",
       "\n",
       "                                              studio  \\\n",
       "0                  [Baby Way Productions, IM Global]   \n",
       "1  [Boll Kino Beteiligungs GmbH & Co. KG, Herold ...   \n",
       "2                        [Stoney Lake Entertainment]   \n",
       "3                                  [Dimension Films]   \n",
       "4  [Dark Horse Entertainment, Kumar Mobiliengesel...   \n",
       "\n",
       "                            title  \n",
       "0      Pięćdziesiąt twarzy Blacka  \n",
       "1                      BloodRayne  \n",
       "2  Czasy ostateczne: Pozostawieni  \n",
       "3                     Pirania 3DD  \n",
       "4                  Dziedzic maski  "
      ]
     },
     "execution_count": 20,
     "metadata": {},
     "output_type": "execute_result"
    }
   ],
   "source": [
    "df.head()"
   ]
  },
  {
   "cell_type": "code",
   "execution_count": 21,
   "metadata": {},
   "outputs": [],
   "source": [
    "def get_famous_actors(link):\n",
    "    r=requests.get(link)\n",
    "    soup=bs(r.content)\n",
    "\n",
    "    actors_info=soup.find(class_='page__container rankingTypeSection__container')\n",
    "    actors_rows=actors_info.find_all(class_='rankingTypePerson__header')\n",
    "\n",
    "    for row in actors_rows:\n",
    "        famous_actors_list.append(row.get_text())\n",
    "    \n"
   ]
  },
  {
   "cell_type": "code",
   "execution_count": 22,
   "metadata": {},
   "outputs": [],
   "source": [
    "def get_famous_actress(link):\n",
    "    r=requests.get(link)\n",
    "    soup=bs(r.content)\n",
    "\n",
    "    actors_info=soup.find(class_='page__container rankingTypeSection__container')\n",
    "    actors_rows=actors_info.find_all(class_='rankingTypePerson__header')\n",
    "\n",
    "    for row in actors_rows:\n",
    "        famous_actress_list.append(row.get_text())\n",
    "    \n"
   ]
  },
  {
   "cell_type": "code",
   "execution_count": 23,
   "metadata": {},
   "outputs": [],
   "source": [
    "def get_famous_directors(link):\n",
    "    r=requests.get(link)\n",
    "    soup=bs(r.content)\n",
    "\n",
    "    actors_info=soup.find(class_='page__container rankingTypeSection__container')\n",
    "    actors_rows=actors_info.find_all(class_='rankingTypePerson__header')\n",
    "\n",
    "    for row in actors_rows:\n",
    "        famous_directors_list.append(row.get_text())\n",
    "    \n"
   ]
  },
  {
   "cell_type": "code",
   "execution_count": 24,
   "metadata": {},
   "outputs": [],
   "source": [
    "def get_famous_screenwriters(link):\n",
    "    r=requests.get(link)\n",
    "    soup=bs(r.content)\n",
    "\n",
    "    actors_info=soup.find(class_='page__container rankingTypeSection__container')\n",
    "    actors_rows=actors_info.find_all(class_='rankingTypePerson__header')\n",
    "\n",
    "    for row in actors_rows:\n",
    "        famous_screenwriters_list.append(row.get_text())\n",
    "    \n"
   ]
  },
  {
   "cell_type": "code",
   "execution_count": 25,
   "metadata": {},
   "outputs": [],
   "source": [
    "#creating list of famous actors\n",
    "famous_actors_list=[]\n",
    "link='https://www.filmweb.pl/ranking/person/actors/male'\n",
    "r=requests.get(link)\n",
    "soup=bs(r.content)\n",
    "pages=soup.find(class_='pagination__list').find_all('li')\n",
    "\n",
    "for i in range(5):\n",
    "    try:\n",
    "        link=pages[i].a['href']\n",
    "        base_link='https://www.filmweb.pl'\n",
    "        link=base_link+link\n",
    "    except:\n",
    "        get_famous_actors(link)\n",
    "        continue\n",
    "\n",
    "    get_famous_actors(link)\n",
    "\n",
    "for j in range(3):\n",
    "    link='https://www.filmweb.pl/ranking/person/actors/male?page={}'.format(8+5*j)\n",
    "    r=requests.get(link)\n",
    "    soup=bs(r.content)\n",
    "    pages=soup.find(class_='pagination__list').find_all('li')\n",
    "\n",
    "    for i in range(5):\n",
    "        try:\n",
    "            link=pages[i+2].a['href']\n",
    "            base_link='https://www.filmweb.pl'\n",
    "            link=base_link+link\n",
    "        except:\n",
    "            link='https://www.filmweb.pl/ranking/person/actors/male?page={}'.format(8+5*j)\n",
    "\n",
    "        get_famous_actors(link)"
   ]
  },
  {
   "cell_type": "code",
   "execution_count": 38,
   "metadata": {},
   "outputs": [],
   "source": [
    "#creating list of famous actresses\n",
    "famous_actress_list=[]\n",
    "link='https://www.filmweb.pl/ranking/person/actors/female'\n",
    "r=requests.get(link)\n",
    "soup=bs(r.content)\n",
    "pages=soup.find(class_='pagination__list').find_all('li')\n",
    "\n",
    "for i in range(5):\n",
    "    try:\n",
    "        link=pages[i].a['href']\n",
    "        base_link='https://www.filmweb.pl'\n",
    "        link=base_link+link\n",
    "    except:\n",
    "        get_famous_actress(link)\n",
    "        continue\n",
    "\n",
    "    get_famous_actress(link)\n",
    "\n",
    "for j in range(2):\n",
    "    link='https://www.filmweb.pl/ranking/person/actors/female?page={}'.format(8+5*j)\n",
    "    r=requests.get(link)\n",
    "    soup=bs(r.content)\n",
    "    pages=soup.find(class_='pagination__list').find_all('li')\n",
    "\n",
    "    for i in range(5):\n",
    "        try:\n",
    "            link=pages[i+2].a['href']\n",
    "            base_link='https://www.filmweb.pl'\n",
    "            link=base_link+link\n",
    "        except:\n",
    "            link='https://www.filmweb.pl/ranking/person/actors/female?page={}'.format(8+5*j)\n",
    "\n",
    "        get_famous_actress(link)"
   ]
  },
  {
   "cell_type": "code",
   "execution_count": 36,
   "metadata": {},
   "outputs": [],
   "source": [
    "#creating list of famous directors\n",
    "famous_directors_list=[]\n",
    "link='https://www.filmweb.pl/ranking/person/director'\n",
    "r=requests.get(link)\n",
    "soup=bs(r.content)\n",
    "pages=soup.find(class_='pagination__list').find_all('li')\n",
    "\n",
    "for i in range(5):\n",
    "    try:\n",
    "        link=pages[i].a['href']\n",
    "        base_link='https://www.filmweb.pl'\n",
    "        link=base_link+link\n",
    "    except:\n",
    "        get_famous_directors(link)\n",
    "        continue\n",
    "\n",
    "    get_famous_directors(link)\n",
    "\n",
    "\n",
    "link='https://www.filmweb.pl/ranking/person/director?page=5'\n",
    "r=requests.get(link)\n",
    "soup=bs(r.content)\n",
    "pages=soup.find(class_='pagination__list').find_all('li')\n",
    "\n",
    "for i in range(2):\n",
    "    try:\n",
    "        link=pages[i+5].a['href']\n",
    "        base_link='https://www.filmweb.pl'\n",
    "        link=base_link+link\n",
    "    except:\n",
    "        link='https://www.filmweb.pl/ranking/person/director?page=5'\n",
    "\n",
    "    get_famous_directors(link)"
   ]
  },
  {
   "cell_type": "code",
   "execution_count": 37,
   "metadata": {},
   "outputs": [],
   "source": [
    "#creating list of famous screenwriters\n",
    "famous_screenwriters_list=[]\n",
    "link='https://www.filmweb.pl/ranking/person/screenwriter'\n",
    "r=requests.get(link)\n",
    "soup=bs(r.content)\n",
    "pages=soup.find(class_='pagination__list').find_all('li')\n",
    "\n",
    "for i in range(5):\n",
    "    try:\n",
    "        link=pages[i].a['href']\n",
    "        base_link='https://www.filmweb.pl'\n",
    "        link=base_link+link\n",
    "    except:\n",
    "        get_famous_screenwriters(link)\n",
    "        continue\n",
    "\n",
    "    get_famous_screenwriters(link)\n",
    "\n",
    "\n",
    "for j in range(3):\n",
    "    link='https://www.filmweb.pl/ranking/person/screenwriter?page={}'.format(8+5*j)\n",
    "    r=requests.get(link)\n",
    "    soup=bs(r.content)\n",
    "    pages=soup.find(class_='pagination__list').find_all('li')\n",
    "\n",
    "    for i in range(5):\n",
    "        try:\n",
    "            link=pages[i+2].a['href']\n",
    "            base_link='https://www.filmweb.pl'\n",
    "            link=base_link+link\n",
    "        except:\n",
    "            link='https://www.filmweb.pl/ranking/person/screenwriter?page={}'.format(8+5*j)\n",
    "\n",
    "        get_famous_screenwriters(link)"
   ]
  },
  {
   "cell_type": "code",
   "execution_count": 29,
   "metadata": {},
   "outputs": [
    {
     "data": {
      "text/plain": [
       "875"
      ]
     },
     "execution_count": 29,
     "metadata": {},
     "output_type": "execute_result"
    }
   ],
   "source": [
    "famous_actors_actress_list=famous_actors_list + famous_actress_list\n",
    "len(famous_actors_actress_list)"
   ]
  },
  {
   "cell_type": "markdown",
   "metadata": {},
   "source": [
    "Creating a columns."
   ]
  },
  {
   "cell_type": "code",
   "execution_count": 30,
   "metadata": {},
   "outputs": [],
   "source": [
    "df['num of famous actors and actresses']=0\n",
    "df['num of famous directors']=0\n",
    "df['num of famous screenwriters']=0"
   ]
  },
  {
   "cell_type": "code",
   "execution_count": 31,
   "metadata": {},
   "outputs": [
    {
     "name": "stderr",
     "output_type": "stream",
     "text": [
      "C:\\ProgramData\\Anaconda3\\lib\\site-packages\\ipykernel_launcher.py:5: SettingWithCopyWarning: \n",
      "A value is trying to be set on a copy of a slice from a DataFrame\n",
      "\n",
      "See the caveats in the documentation: http://pandas.pydata.org/pandas-docs/stable/indexing.html#indexing-view-versus-copy\n",
      "  \"\"\"\n",
      "C:\\ProgramData\\Anaconda3\\lib\\site-packages\\ipykernel_launcher.py:13: SettingWithCopyWarning: \n",
      "A value is trying to be set on a copy of a slice from a DataFrame\n",
      "\n",
      "See the caveats in the documentation: http://pandas.pydata.org/pandas-docs/stable/indexing.html#indexing-view-versus-copy\n",
      "  del sys.path[0]\n",
      "C:\\ProgramData\\Anaconda3\\lib\\site-packages\\ipykernel_launcher.py:21: SettingWithCopyWarning: \n",
      "A value is trying to be set on a copy of a slice from a DataFrame\n",
      "\n",
      "See the caveats in the documentation: http://pandas.pydata.org/pandas-docs/stable/indexing.html#indexing-view-versus-copy\n"
     ]
    }
   ],
   "source": [
    "for i in range(df['rating'].count()):\n",
    "    for j in range(10):\n",
    "        try:\n",
    "            if df['actors'][i][j] in famous_actors_actress_list:\n",
    "                df['num of famous actors and actresses'][i]+=1\n",
    "        except:\n",
    "            continue\n",
    "            \n",
    "for i in range(df['rating'].count()):\n",
    "    for j in range(3):\n",
    "        try:\n",
    "            if df['directing'][i][j] in famous_directors_list:\n",
    "                df['num of famous directors'][i]+=1\n",
    "        except:\n",
    "            continue\n",
    "            \n",
    "for i in range(df['rating'].count()):\n",
    "    for j in range(3):\n",
    "        try:\n",
    "            if df['scenario'][i][j] in famous_screenwriters_list:\n",
    "                df['num of famous screenwriters'][i]+=1\n",
    "        except:\n",
    "            continue"
   ]
  },
  {
   "cell_type": "code",
   "execution_count": 32,
   "metadata": {},
   "outputs": [],
   "source": [
    "df1['num of famous actors and actresses']=0\n",
    "df1['num of famous directors']=0\n",
    "df1['num of famous screenwriters']=0"
   ]
  },
  {
   "cell_type": "code",
   "execution_count": 33,
   "metadata": {},
   "outputs": [
    {
     "name": "stderr",
     "output_type": "stream",
     "text": [
      "C:\\ProgramData\\Anaconda3\\lib\\site-packages\\ipykernel_launcher.py:5: SettingWithCopyWarning: \n",
      "A value is trying to be set on a copy of a slice from a DataFrame\n",
      "\n",
      "See the caveats in the documentation: http://pandas.pydata.org/pandas-docs/stable/indexing.html#indexing-view-versus-copy\n",
      "  \"\"\"\n",
      "C:\\ProgramData\\Anaconda3\\lib\\site-packages\\ipykernel_launcher.py:13: SettingWithCopyWarning: \n",
      "A value is trying to be set on a copy of a slice from a DataFrame\n",
      "\n",
      "See the caveats in the documentation: http://pandas.pydata.org/pandas-docs/stable/indexing.html#indexing-view-versus-copy\n",
      "  del sys.path[0]\n",
      "C:\\ProgramData\\Anaconda3\\lib\\site-packages\\ipykernel_launcher.py:21: SettingWithCopyWarning: \n",
      "A value is trying to be set on a copy of a slice from a DataFrame\n",
      "\n",
      "See the caveats in the documentation: http://pandas.pydata.org/pandas-docs/stable/indexing.html#indexing-view-versus-copy\n"
     ]
    }
   ],
   "source": [
    "for i in range(df1['rating'].count()):\n",
    "    for j in range(10):\n",
    "        try:\n",
    "            if df1['actors'][i][j] in famous_actors_actress_list:\n",
    "                df1['num of famous actors and actresses'][i]+=1\n",
    "        except:\n",
    "            continue\n",
    "            \n",
    "for i in range(df1['rating'].count()):\n",
    "    for j in range(3):\n",
    "        try:\n",
    "            if df1['directing'][i][j] in famous_directors_list:\n",
    "                df1['num of famous directors'][i]+=1\n",
    "        except:\n",
    "            continue\n",
    "            \n",
    "for i in range(df1['rating'].count()):\n",
    "    for j in range(3):\n",
    "        try:\n",
    "            if df1['scenario'][i][j] in famous_screenwriters_list:\n",
    "                df1['num of famous screenwriters'][i]+=1\n",
    "        except:\n",
    "            continue"
   ]
  },
  {
   "cell_type": "code",
   "execution_count": 39,
   "metadata": {},
   "outputs": [
    {
     "data": {
      "text/html": [
       "<div>\n",
       "<style scoped>\n",
       "    .dataframe tbody tr th:only-of-type {\n",
       "        vertical-align: middle;\n",
       "    }\n",
       "\n",
       "    .dataframe tbody tr th {\n",
       "        vertical-align: top;\n",
       "    }\n",
       "\n",
       "    .dataframe thead th {\n",
       "        text-align: right;\n",
       "    }\n",
       "</style>\n",
       "<table border=\"1\" class=\"dataframe\">\n",
       "  <thead>\n",
       "    <tr style=\"text-align: right;\">\n",
       "      <th></th>\n",
       "      <th>actors</th>\n",
       "      <th>boxoffice</th>\n",
       "      <th>budget</th>\n",
       "      <th>date of production</th>\n",
       "      <th>genre</th>\n",
       "      <th>premiere</th>\n",
       "      <th>production</th>\n",
       "      <th>rating</th>\n",
       "      <th>directing</th>\n",
       "      <th>scenario</th>\n",
       "      <th>studio</th>\n",
       "      <th>title</th>\n",
       "      <th>num of famous actors and actresses</th>\n",
       "      <th>num of famous directors</th>\n",
       "      <th>num of famous screenwriters</th>\n",
       "    </tr>\n",
       "  </thead>\n",
       "  <tbody>\n",
       "    <tr>\n",
       "      <th>0</th>\n",
       "      <td>[Marlon Wayans, Kali Hawk, Fred Willard, Mike ...</td>\n",
       "      <td>22227514</td>\n",
       "      <td>5000000.0</td>\n",
       "      <td>2016.0</td>\n",
       "      <td>Komedia</td>\n",
       "      <td>2016-01-28 00:00:00</td>\n",
       "      <td>[USA]</td>\n",
       "      <td>3.8</td>\n",
       "      <td>[Michael Tiddes]</td>\n",
       "      <td>[Rick Alvarez, Marlon Wayans]</td>\n",
       "      <td>[Baby Way Productions, IM Global]</td>\n",
       "      <td>Pięćdziesiąt twarzy Blacka</td>\n",
       "      <td>1</td>\n",
       "      <td>0</td>\n",
       "      <td>0</td>\n",
       "    </tr>\n",
       "    <tr>\n",
       "      <th>1</th>\n",
       "      <td>[Kristanna Loken, Ben Kingsley, Will Sanderson...</td>\n",
       "      <td>3650275</td>\n",
       "      <td>25000000.0</td>\n",
       "      <td>2005.0</td>\n",
       "      <td>Fantasy/Horror/Akcja</td>\n",
       "      <td>2005-10-23 00:00:00</td>\n",
       "      <td>[Niemcy, USA]</td>\n",
       "      <td>3.8</td>\n",
       "      <td>[Uwe Boll]</td>\n",
       "      <td>[Guinevere Turner]</td>\n",
       "      <td>[Boll Kino Beteiligungs GmbH &amp; Co. KG, Herold ...</td>\n",
       "      <td>BloodRayne</td>\n",
       "      <td>3</td>\n",
       "      <td>0</td>\n",
       "      <td>0</td>\n",
       "    </tr>\n",
       "    <tr>\n",
       "      <th>2</th>\n",
       "      <td>[Nicolas Cage, Chad Michael Murray, Nicky Whel...</td>\n",
       "      <td>19682924</td>\n",
       "      <td>16000000.0</td>\n",
       "      <td>2014.0</td>\n",
       "      <td>Thriller/Akcja/Sci-Fi</td>\n",
       "      <td>2014-10-02 00:00:00</td>\n",
       "      <td>[USA]</td>\n",
       "      <td>3.8</td>\n",
       "      <td>[Vic Armstrong]</td>\n",
       "      <td>[Paul Lalonde, John Patus]</td>\n",
       "      <td>[Stoney Lake Entertainment]</td>\n",
       "      <td>Czasy ostateczne: Pozostawieni</td>\n",
       "      <td>0</td>\n",
       "      <td>0</td>\n",
       "      <td>0</td>\n",
       "    </tr>\n",
       "    <tr>\n",
       "      <th>3</th>\n",
       "      <td>[Danielle Panabaker, Matt Bush, David Koechner...</td>\n",
       "      <td>8493728</td>\n",
       "      <td>5000000.0</td>\n",
       "      <td>2012.0</td>\n",
       "      <td>Horror/Komedia</td>\n",
       "      <td>2012-05-11 00:00:00</td>\n",
       "      <td>[USA]</td>\n",
       "      <td>3.7</td>\n",
       "      <td>[John Gulager]</td>\n",
       "      <td>[Patrick Melton, Marcus Dunstan,  więcej...]</td>\n",
       "      <td>[Dimension Films]</td>\n",
       "      <td>Pirania 3DD</td>\n",
       "      <td>0</td>\n",
       "      <td>0</td>\n",
       "      <td>0</td>\n",
       "    </tr>\n",
       "    <tr>\n",
       "      <th>4</th>\n",
       "      <td>[Jamie Kennedy, Alan Cumming, Traylor Howard, ...</td>\n",
       "      <td>57552641</td>\n",
       "      <td>84000000.0</td>\n",
       "      <td>2005.0</td>\n",
       "      <td>Fantasy/Komedia/Przygodowy</td>\n",
       "      <td>2005-02-11 00:00:00</td>\n",
       "      <td>[Niemcy, USA]</td>\n",
       "      <td>3.6</td>\n",
       "      <td>[Lawrence Guterman]</td>\n",
       "      <td>[Lance Khazei]</td>\n",
       "      <td>[Dark Horse Entertainment, Kumar Mobiliengesel...</td>\n",
       "      <td>Dziedzic maski</td>\n",
       "      <td>0</td>\n",
       "      <td>0</td>\n",
       "      <td>0</td>\n",
       "    </tr>\n",
       "  </tbody>\n",
       "</table>\n",
       "</div>"
      ],
      "text/plain": [
       "                                              actors  boxoffice      budget  \\\n",
       "0  [Marlon Wayans, Kali Hawk, Fred Willard, Mike ...   22227514   5000000.0   \n",
       "1  [Kristanna Loken, Ben Kingsley, Will Sanderson...    3650275  25000000.0   \n",
       "2  [Nicolas Cage, Chad Michael Murray, Nicky Whel...   19682924  16000000.0   \n",
       "3  [Danielle Panabaker, Matt Bush, David Koechner...    8493728   5000000.0   \n",
       "4  [Jamie Kennedy, Alan Cumming, Traylor Howard, ...   57552641  84000000.0   \n",
       "\n",
       "   date of production                       genre             premiere  \\\n",
       "0              2016.0                     Komedia  2016-01-28 00:00:00   \n",
       "1              2005.0        Fantasy/Horror/Akcja  2005-10-23 00:00:00   \n",
       "2              2014.0       Thriller/Akcja/Sci-Fi  2014-10-02 00:00:00   \n",
       "3              2012.0              Horror/Komedia  2012-05-11 00:00:00   \n",
       "4              2005.0  Fantasy/Komedia/Przygodowy  2005-02-11 00:00:00   \n",
       "\n",
       "      production  rating            directing  \\\n",
       "0          [USA]     3.8     [Michael Tiddes]   \n",
       "1  [Niemcy, USA]     3.8           [Uwe Boll]   \n",
       "2          [USA]     3.8      [Vic Armstrong]   \n",
       "3          [USA]     3.7       [John Gulager]   \n",
       "4  [Niemcy, USA]     3.6  [Lawrence Guterman]   \n",
       "\n",
       "                                       scenario  \\\n",
       "0                 [Rick Alvarez, Marlon Wayans]   \n",
       "1                            [Guinevere Turner]   \n",
       "2                    [Paul Lalonde, John Patus]   \n",
       "3  [Patrick Melton, Marcus Dunstan,  więcej...]   \n",
       "4                                [Lance Khazei]   \n",
       "\n",
       "                                              studio  \\\n",
       "0                  [Baby Way Productions, IM Global]   \n",
       "1  [Boll Kino Beteiligungs GmbH & Co. KG, Herold ...   \n",
       "2                        [Stoney Lake Entertainment]   \n",
       "3                                  [Dimension Films]   \n",
       "4  [Dark Horse Entertainment, Kumar Mobiliengesel...   \n",
       "\n",
       "                            title  num of famous actors and actresses  \\\n",
       "0      Pięćdziesiąt twarzy Blacka                                   1   \n",
       "1                      BloodRayne                                   3   \n",
       "2  Czasy ostateczne: Pozostawieni                                   0   \n",
       "3                     Pirania 3DD                                   0   \n",
       "4                  Dziedzic maski                                   0   \n",
       "\n",
       "   num of famous directors  num of famous screenwriters  \n",
       "0                        0                            0  \n",
       "1                        0                            0  \n",
       "2                        0                            0  \n",
       "3                        0                            0  \n",
       "4                        0                            0  "
      ]
     },
     "execution_count": 39,
     "metadata": {},
     "output_type": "execute_result"
    }
   ],
   "source": [
    "df.head()"
   ]
  },
  {
   "cell_type": "markdown",
   "metadata": {},
   "source": [
    "Now we will ceate columns for each film genre and country where the movie was produced."
   ]
  },
  {
   "cell_type": "code",
   "execution_count": 40,
   "metadata": {},
   "outputs": [],
   "source": [
    "df=pd.get_dummies(df, columns=['genre'])\n",
    "df1=pd.get_dummies(df1, columns=['genre'])"
   ]
  },
  {
   "cell_type": "code",
   "execution_count": 41,
   "metadata": {},
   "outputs": [],
   "source": [
    "lst_of_countries=[]\n",
    "for i in range(df['rating'].count()):\n",
    "    for j in range(15):\n",
    "        try:\n",
    "            if df['production'][i][j] not in lst_of_countries:\n",
    "                lst_of_countries.append(df['production'][i][j])\n",
    "        except:\n",
    "            continue"
   ]
  },
  {
   "cell_type": "code",
   "execution_count": 42,
   "metadata": {
    "scrolled": true
   },
   "outputs": [
    {
     "data": {
      "text/plain": [
       "['USA',\n",
       " 'Niemcy',\n",
       " 'Kanada',\n",
       " 'Hongkong',\n",
       " 'Wielka Brytania',\n",
       " 'Francja',\n",
       " 'Rosja',\n",
       " 'Irlandia',\n",
       " 'Japonia',\n",
       " 'Wenezuela',\n",
       " 'Hiszpania',\n",
       " 'Słowacja',\n",
       " 'Tunezja',\n",
       " 'Włochy',\n",
       " 'Bułgaria',\n",
       " 'Szwecja',\n",
       " 'Australia',\n",
       " 'Malta',\n",
       " 'Austria',\n",
       " 'Węgry',\n",
       " 'Chiny',\n",
       " 'Tajwan',\n",
       " 'Samoa',\n",
       " 'Dania',\n",
       " 'Indonezja',\n",
       " 'Meksyk',\n",
       " 'Czechy',\n",
       " 'Zjednoczone Emiraty Arabskie',\n",
       " 'Nowa Zelandia',\n",
       " 'Liban',\n",
       " 'Polska',\n",
       " 'RFN',\n",
       " 'Brazylia',\n",
       " 'RPA',\n",
       " 'Singapur',\n",
       " 'Tajlandia',\n",
       " 'Egipt',\n",
       " 'Kenia',\n",
       " 'Jordania',\n",
       " 'Arabia Saudyjska',\n",
       " 'Korea Południowa',\n",
       " 'Indie']"
      ]
     },
     "execution_count": 42,
     "metadata": {},
     "output_type": "execute_result"
    }
   ],
   "source": [
    "lst_of_countries"
   ]
  },
  {
   "cell_type": "code",
   "execution_count": 43,
   "metadata": {},
   "outputs": [],
   "source": [
    "for i in range(len(lst_of_countries)):\n",
    "    df['prod_{}'.format(lst_of_countries[i])]=0"
   ]
  },
  {
   "cell_type": "code",
   "execution_count": 44,
   "metadata": {},
   "outputs": [
    {
     "name": "stderr",
     "output_type": "stream",
     "text": [
      "C:\\ProgramData\\Anaconda3\\lib\\site-packages\\ipykernel_launcher.py:5: SettingWithCopyWarning: \n",
      "A value is trying to be set on a copy of a slice from a DataFrame\n",
      "\n",
      "See the caveats in the documentation: http://pandas.pydata.org/pandas-docs/stable/indexing.html#indexing-view-versus-copy\n",
      "  \"\"\"\n"
     ]
    }
   ],
   "source": [
    "for i in range(df['rating'].count()):\n",
    "    for j in range(15):\n",
    "        try:\n",
    "            country=df['production'][i][j]\n",
    "            df['prod_{}'.format(country)][i]+=1\n",
    "        except:\n",
    "            continue"
   ]
  },
  {
   "cell_type": "code",
   "execution_count": 45,
   "metadata": {},
   "outputs": [],
   "source": [
    "lst_of_countries=[]\n",
    "for i in range(df1['rating'].count()):\n",
    "    for j in range(15):\n",
    "        try:\n",
    "            if df1['production'][i][j] not in lst_of_countries:\n",
    "                lst_of_countries.append(df1['production'][i][j])\n",
    "        except:\n",
    "            continue"
   ]
  },
  {
   "cell_type": "code",
   "execution_count": 46,
   "metadata": {},
   "outputs": [],
   "source": [
    "for i in range(len(lst_of_countries)):\n",
    "    df1['prod_{}'.format(lst_of_countries[i])]=0"
   ]
  },
  {
   "cell_type": "code",
   "execution_count": 47,
   "metadata": {},
   "outputs": [
    {
     "name": "stderr",
     "output_type": "stream",
     "text": [
      "C:\\ProgramData\\Anaconda3\\lib\\site-packages\\ipykernel_launcher.py:5: SettingWithCopyWarning: \n",
      "A value is trying to be set on a copy of a slice from a DataFrame\n",
      "\n",
      "See the caveats in the documentation: http://pandas.pydata.org/pandas-docs/stable/indexing.html#indexing-view-versus-copy\n",
      "  \"\"\"\n"
     ]
    }
   ],
   "source": [
    "for i in range(df1['rating'].count()):\n",
    "    for j in range(15):\n",
    "        try:\n",
    "            country=df1['production'][i][j]\n",
    "            df1['prod_{}'.format(country)][i]+=1\n",
    "        except:\n",
    "            continue"
   ]
  },
  {
   "cell_type": "code",
   "execution_count": 48,
   "metadata": {},
   "outputs": [
    {
     "data": {
      "text/html": [
       "<div>\n",
       "<style scoped>\n",
       "    .dataframe tbody tr th:only-of-type {\n",
       "        vertical-align: middle;\n",
       "    }\n",
       "\n",
       "    .dataframe tbody tr th {\n",
       "        vertical-align: top;\n",
       "    }\n",
       "\n",
       "    .dataframe thead th {\n",
       "        text-align: right;\n",
       "    }\n",
       "</style>\n",
       "<table border=\"1\" class=\"dataframe\">\n",
       "  <thead>\n",
       "    <tr style=\"text-align: right;\">\n",
       "      <th></th>\n",
       "      <th>actors</th>\n",
       "      <th>boxoffice</th>\n",
       "      <th>budget</th>\n",
       "      <th>date of production</th>\n",
       "      <th>premiere</th>\n",
       "      <th>production</th>\n",
       "      <th>rating</th>\n",
       "      <th>directing</th>\n",
       "      <th>scenario</th>\n",
       "      <th>studio</th>\n",
       "      <th>...</th>\n",
       "      <th>prod_Brazylia</th>\n",
       "      <th>prod_RPA</th>\n",
       "      <th>prod_Singapur</th>\n",
       "      <th>prod_Tajlandia</th>\n",
       "      <th>prod_Egipt</th>\n",
       "      <th>prod_Kenia</th>\n",
       "      <th>prod_Jordania</th>\n",
       "      <th>prod_Arabia Saudyjska</th>\n",
       "      <th>prod_Korea Południowa</th>\n",
       "      <th>prod_Indie</th>\n",
       "    </tr>\n",
       "  </thead>\n",
       "  <tbody>\n",
       "    <tr>\n",
       "      <th>0</th>\n",
       "      <td>[Marlon Wayans, Kali Hawk, Fred Willard, Mike ...</td>\n",
       "      <td>22227514</td>\n",
       "      <td>5000000.0</td>\n",
       "      <td>2016.0</td>\n",
       "      <td>2016-01-28 00:00:00</td>\n",
       "      <td>[USA]</td>\n",
       "      <td>3.8</td>\n",
       "      <td>[Michael Tiddes]</td>\n",
       "      <td>[Rick Alvarez, Marlon Wayans]</td>\n",
       "      <td>[Baby Way Productions, IM Global]</td>\n",
       "      <td>...</td>\n",
       "      <td>0</td>\n",
       "      <td>0</td>\n",
       "      <td>0</td>\n",
       "      <td>0</td>\n",
       "      <td>0</td>\n",
       "      <td>0</td>\n",
       "      <td>0</td>\n",
       "      <td>0</td>\n",
       "      <td>0</td>\n",
       "      <td>0</td>\n",
       "    </tr>\n",
       "    <tr>\n",
       "      <th>1</th>\n",
       "      <td>[Kristanna Loken, Ben Kingsley, Will Sanderson...</td>\n",
       "      <td>3650275</td>\n",
       "      <td>25000000.0</td>\n",
       "      <td>2005.0</td>\n",
       "      <td>2005-10-23 00:00:00</td>\n",
       "      <td>[Niemcy, USA]</td>\n",
       "      <td>3.8</td>\n",
       "      <td>[Uwe Boll]</td>\n",
       "      <td>[Guinevere Turner]</td>\n",
       "      <td>[Boll Kino Beteiligungs GmbH &amp; Co. KG, Herold ...</td>\n",
       "      <td>...</td>\n",
       "      <td>0</td>\n",
       "      <td>0</td>\n",
       "      <td>0</td>\n",
       "      <td>0</td>\n",
       "      <td>0</td>\n",
       "      <td>0</td>\n",
       "      <td>0</td>\n",
       "      <td>0</td>\n",
       "      <td>0</td>\n",
       "      <td>0</td>\n",
       "    </tr>\n",
       "    <tr>\n",
       "      <th>2</th>\n",
       "      <td>[Nicolas Cage, Chad Michael Murray, Nicky Whel...</td>\n",
       "      <td>19682924</td>\n",
       "      <td>16000000.0</td>\n",
       "      <td>2014.0</td>\n",
       "      <td>2014-10-02 00:00:00</td>\n",
       "      <td>[USA]</td>\n",
       "      <td>3.8</td>\n",
       "      <td>[Vic Armstrong]</td>\n",
       "      <td>[Paul Lalonde, John Patus]</td>\n",
       "      <td>[Stoney Lake Entertainment]</td>\n",
       "      <td>...</td>\n",
       "      <td>0</td>\n",
       "      <td>0</td>\n",
       "      <td>0</td>\n",
       "      <td>0</td>\n",
       "      <td>0</td>\n",
       "      <td>0</td>\n",
       "      <td>0</td>\n",
       "      <td>0</td>\n",
       "      <td>0</td>\n",
       "      <td>0</td>\n",
       "    </tr>\n",
       "    <tr>\n",
       "      <th>3</th>\n",
       "      <td>[Danielle Panabaker, Matt Bush, David Koechner...</td>\n",
       "      <td>8493728</td>\n",
       "      <td>5000000.0</td>\n",
       "      <td>2012.0</td>\n",
       "      <td>2012-05-11 00:00:00</td>\n",
       "      <td>[USA]</td>\n",
       "      <td>3.7</td>\n",
       "      <td>[John Gulager]</td>\n",
       "      <td>[Patrick Melton, Marcus Dunstan,  więcej...]</td>\n",
       "      <td>[Dimension Films]</td>\n",
       "      <td>...</td>\n",
       "      <td>0</td>\n",
       "      <td>0</td>\n",
       "      <td>0</td>\n",
       "      <td>0</td>\n",
       "      <td>0</td>\n",
       "      <td>0</td>\n",
       "      <td>0</td>\n",
       "      <td>0</td>\n",
       "      <td>0</td>\n",
       "      <td>0</td>\n",
       "    </tr>\n",
       "    <tr>\n",
       "      <th>4</th>\n",
       "      <td>[Jamie Kennedy, Alan Cumming, Traylor Howard, ...</td>\n",
       "      <td>57552641</td>\n",
       "      <td>84000000.0</td>\n",
       "      <td>2005.0</td>\n",
       "      <td>2005-02-11 00:00:00</td>\n",
       "      <td>[Niemcy, USA]</td>\n",
       "      <td>3.6</td>\n",
       "      <td>[Lawrence Guterman]</td>\n",
       "      <td>[Lance Khazei]</td>\n",
       "      <td>[Dark Horse Entertainment, Kumar Mobiliengesel...</td>\n",
       "      <td>...</td>\n",
       "      <td>0</td>\n",
       "      <td>0</td>\n",
       "      <td>0</td>\n",
       "      <td>0</td>\n",
       "      <td>0</td>\n",
       "      <td>0</td>\n",
       "      <td>0</td>\n",
       "      <td>0</td>\n",
       "      <td>0</td>\n",
       "      <td>0</td>\n",
       "    </tr>\n",
       "  </tbody>\n",
       "</table>\n",
       "<p>5 rows × 151 columns</p>\n",
       "</div>"
      ],
      "text/plain": [
       "                                              actors  boxoffice      budget  \\\n",
       "0  [Marlon Wayans, Kali Hawk, Fred Willard, Mike ...   22227514   5000000.0   \n",
       "1  [Kristanna Loken, Ben Kingsley, Will Sanderson...    3650275  25000000.0   \n",
       "2  [Nicolas Cage, Chad Michael Murray, Nicky Whel...   19682924  16000000.0   \n",
       "3  [Danielle Panabaker, Matt Bush, David Koechner...    8493728   5000000.0   \n",
       "4  [Jamie Kennedy, Alan Cumming, Traylor Howard, ...   57552641  84000000.0   \n",
       "\n",
       "   date of production             premiere     production  rating  \\\n",
       "0              2016.0  2016-01-28 00:00:00          [USA]     3.8   \n",
       "1              2005.0  2005-10-23 00:00:00  [Niemcy, USA]     3.8   \n",
       "2              2014.0  2014-10-02 00:00:00          [USA]     3.8   \n",
       "3              2012.0  2012-05-11 00:00:00          [USA]     3.7   \n",
       "4              2005.0  2005-02-11 00:00:00  [Niemcy, USA]     3.6   \n",
       "\n",
       "             directing                                      scenario  \\\n",
       "0     [Michael Tiddes]                 [Rick Alvarez, Marlon Wayans]   \n",
       "1           [Uwe Boll]                            [Guinevere Turner]   \n",
       "2      [Vic Armstrong]                    [Paul Lalonde, John Patus]   \n",
       "3       [John Gulager]  [Patrick Melton, Marcus Dunstan,  więcej...]   \n",
       "4  [Lawrence Guterman]                                [Lance Khazei]   \n",
       "\n",
       "                                              studio  ... prod_Brazylia  \\\n",
       "0                  [Baby Way Productions, IM Global]  ...             0   \n",
       "1  [Boll Kino Beteiligungs GmbH & Co. KG, Herold ...  ...             0   \n",
       "2                        [Stoney Lake Entertainment]  ...             0   \n",
       "3                                  [Dimension Films]  ...             0   \n",
       "4  [Dark Horse Entertainment, Kumar Mobiliengesel...  ...             0   \n",
       "\n",
       "   prod_RPA  prod_Singapur  prod_Tajlandia  prod_Egipt  prod_Kenia  \\\n",
       "0         0              0               0           0           0   \n",
       "1         0              0               0           0           0   \n",
       "2         0              0               0           0           0   \n",
       "3         0              0               0           0           0   \n",
       "4         0              0               0           0           0   \n",
       "\n",
       "   prod_Jordania  prod_Arabia Saudyjska  prod_Korea Południowa  prod_Indie  \n",
       "0              0                      0                      0           0  \n",
       "1              0                      0                      0           0  \n",
       "2              0                      0                      0           0  \n",
       "3              0                      0                      0           0  \n",
       "4              0                      0                      0           0  \n",
       "\n",
       "[5 rows x 151 columns]"
      ]
     },
     "execution_count": 48,
     "metadata": {},
     "output_type": "execute_result"
    }
   ],
   "source": [
    "df.head()"
   ]
  },
  {
   "cell_type": "markdown",
   "metadata": {},
   "source": [
    "Saving our data as csv file."
   ]
  },
  {
   "cell_type": "code",
   "execution_count": 49,
   "metadata": {},
   "outputs": [],
   "source": [
    "df.to_csv('filmweb_data')\n",
    "df1.to_csv('filmweb_data2')"
   ]
  },
  {
   "cell_type": "markdown",
   "metadata": {},
   "source": [
    "## Exploratory data analysis"
   ]
  },
  {
   "cell_type": "code",
   "execution_count": 50,
   "metadata": {},
   "outputs": [],
   "source": [
    "df=pd.read_csv('filmweb_data')\n",
    "df1=pd.read_csv('filmweb_data2')"
   ]
  },
  {
   "cell_type": "code",
   "execution_count": 51,
   "metadata": {},
   "outputs": [],
   "source": [
    "df.drop('Unnamed: 0',axis=1,inplace=True)\n",
    "df1.drop('Unnamed: 0',axis=1,inplace=True)"
   ]
  },
  {
   "cell_type": "code",
   "execution_count": 52,
   "metadata": {},
   "outputs": [
    {
     "data": {
      "text/plain": [
       "\"['Niemcy', 'USA']\""
      ]
     },
     "execution_count": 52,
     "metadata": {},
     "output_type": "execute_result"
    }
   ],
   "source": [
    "df['production'][1]"
   ]
  },
  {
   "cell_type": "markdown",
   "metadata": {},
   "source": [
    "After loading data from file we have strings instead of lists so we will define function which will transform them into lists again."
   ]
  },
  {
   "cell_type": "code",
   "execution_count": 53,
   "metadata": {},
   "outputs": [],
   "source": [
    "#function which transform a string into a list (for 'production' and 'studio' columns)\n",
    "def string_to_list(x):\n",
    "    x= x.split('[')[1].split(']')[0].split(\"'\")\n",
    "    for i in range(len(x)):\n",
    "        try:\n",
    "            if x[i]==', ':\n",
    "                x.remove(', ')\n",
    "        except:\n",
    "            continue\n",
    "    x=x[1:-1]\n",
    "    return x"
   ]
  },
  {
   "cell_type": "code",
   "execution_count": 54,
   "metadata": {},
   "outputs": [],
   "source": [
    "df['production']=df['production'].apply(string_to_list)\n",
    "df1['production']=df1['production'].apply(string_to_list)\n",
    "\n",
    "df1['studio']=df1['studio'].apply(string_to_list)\n",
    "df['studio']=df['studio'].apply(string_to_list)"
   ]
  },
  {
   "cell_type": "markdown",
   "metadata": {},
   "source": [
    "Let's create a new column 'revenue' and check how correlation matrix looks like."
   ]
  },
  {
   "cell_type": "code",
   "execution_count": 55,
   "metadata": {},
   "outputs": [],
   "source": [
    "df['revenue']=df['boxoffice']/df['budget']\n",
    "df1['revenue']=df['boxoffice']/df['budget']"
   ]
  },
  {
   "cell_type": "code",
   "execution_count": 56,
   "metadata": {},
   "outputs": [
    {
     "data": {
      "text/plain": [
       "<matplotlib.axes._subplots.AxesSubplot at 0x248ccacf710>"
      ]
     },
     "execution_count": 56,
     "metadata": {},
     "output_type": "execute_result"
    },
    {
     "data": {
      "image/png": "[encoded data removed]",
      "text/plain": [
       "<Figure size 432x288 with 2 Axes>"
      ]
     },
     "metadata": {
      "needs_background": "light"
     },
     "output_type": "display_data"
    }
   ],
   "source": [
    "sns.heatmap(df[['date of production','rating','boxoffice','budget','num of famous actors and actresses',\n",
    "                 'num of famous directors','num of famous screenwriters','revenue']].corr(), cmap='coolwarm')"
   ]
  },
  {
   "cell_type": "code",
   "execution_count": 57,
   "metadata": {},
   "outputs": [
    {
     "data": {
      "text/plain": [
       "<matplotlib.axes._subplots.AxesSubplot at 0x248cc8189b0>"
      ]
     },
     "execution_count": 57,
     "metadata": {},
     "output_type": "execute_result"
    },
    {
     "data": {
      "image/png": "[encoded data removed]",
      "text/plain": [
       "<Figure size 432x288 with 2 Axes>"
      ]
     },
     "metadata": {
      "needs_background": "light"
     },
     "output_type": "display_data"
    }
   ],
   "source": [
    "sns.heatmap(df1[['date of production','rating','num of famous actors and actresses',\n",
    "                 'num of famous directors','num of famous screenwriters','revenue']].corr(), cmap='coolwarm')"
   ]
  },
  {
   "cell_type": "markdown",
   "metadata": {},
   "source": [
    "We can see that the biggest impact on a rating has a number of famous directors and screenwriters, on the otehr hand a boxoffice and a budget have one of the least impacts so we will not use them for building a model. Now we will check how a mean rating and a revenue of a movies depends on a different variables."
   ]
  },
  {
   "cell_type": "code",
   "execution_count": 58,
   "metadata": {},
   "outputs": [
    {
     "data": {
      "text/plain": [
       "50"
      ]
     },
     "execution_count": 58,
     "metadata": {},
     "output_type": "execute_result"
    }
   ],
   "source": [
    "lst=[]\n",
    "for i in range(df1['rating'].count()):\n",
    "    for j in range(5):\n",
    "        try:\n",
    "            country=df1['production'][i][j]\n",
    "            if country not in lst:\n",
    "                lst.append(country)\n",
    "        except:\n",
    "            continue\n",
    "len(lst)"
   ]
  },
  {
   "cell_type": "code",
   "execution_count": 59,
   "metadata": {},
   "outputs": [],
   "source": [
    "countries_mean_rating=pd.DataFrame([[0,0] for i in range(len(lst))])\n",
    "for i in range(len(lst)):\n",
    "    lst2=[] #list with rating\n",
    "    for j in range(df1['rating'].count()):\n",
    "        try:\n",
    "            if lst[i] in df1['production'][j]:\n",
    "                lst2.append(df1.loc[j]['rating'])\n",
    "        except:\n",
    "            continue\n",
    "    countries_mean_rating.loc[i]=[lst[i], np.mean(lst2)]"
   ]
  },
  {
   "cell_type": "code",
   "execution_count": 60,
   "metadata": {},
   "outputs": [],
   "source": [
    "countries_mean_rating=countries_mean_rating.rename(columns={0:'country', 1:'mean rating'})"
   ]
  },
  {
   "cell_type": "code",
   "execution_count": 61,
   "metadata": {},
   "outputs": [],
   "source": [
    "#creating a column 'num_of_movies' which represents how many movies was produced by a given country\n",
    "countries_mean_rating['num_of_movies']=0"
   ]
  },
  {
   "cell_type": "code",
   "execution_count": 62,
   "metadata": {},
   "outputs": [
    {
     "name": "stderr",
     "output_type": "stream",
     "text": [
      "C:\\ProgramData\\Anaconda3\\lib\\site-packages\\ipykernel_launcher.py:7: SettingWithCopyWarning: \n",
      "A value is trying to be set on a copy of a slice from a DataFrame\n",
      "\n",
      "See the caveats in the documentation: http://pandas.pydata.org/pandas-docs/stable/indexing.html#indexing-view-versus-copy\n",
      "  import sys\n"
     ]
    }
   ],
   "source": [
    "for i in range(len(lst)):\n",
    "    country=lst[i]\n",
    "    num_of_movies=0\n",
    "    for j in range(df1['rating'].count()):\n",
    "        if country in df1['production'][j]:\n",
    "            num_of_movies+=1\n",
    "    countries_mean_rating['num_of_movies'][i]=num_of_movies"
   ]
  },
  {
   "cell_type": "code",
   "execution_count": 63,
   "metadata": {
    "scrolled": true
   },
   "outputs": [
    {
     "data": {
      "text/html": [
       "<div>\n",
       "<style scoped>\n",
       "    .dataframe tbody tr th:only-of-type {\n",
       "        vertical-align: middle;\n",
       "    }\n",
       "\n",
       "    .dataframe tbody tr th {\n",
       "        vertical-align: top;\n",
       "    }\n",
       "\n",
       "    .dataframe thead th {\n",
       "        text-align: right;\n",
       "    }\n",
       "</style>\n",
       "<table border=\"1\" class=\"dataframe\">\n",
       "  <thead>\n",
       "    <tr style=\"text-align: right;\">\n",
       "      <th></th>\n",
       "      <th>country</th>\n",
       "      <th>mean rating</th>\n",
       "      <th>num_of_movies</th>\n",
       "    </tr>\n",
       "  </thead>\n",
       "  <tbody>\n",
       "    <tr>\n",
       "      <th>45</th>\n",
       "      <td>Liban</td>\n",
       "      <td>8.300000</td>\n",
       "      <td>1</td>\n",
       "    </tr>\n",
       "    <tr>\n",
       "      <th>44</th>\n",
       "      <td>Brazylia</td>\n",
       "      <td>8.250000</td>\n",
       "      <td>2</td>\n",
       "    </tr>\n",
       "    <tr>\n",
       "      <th>46</th>\n",
       "      <td>RPA</td>\n",
       "      <td>8.200000</td>\n",
       "      <td>1</td>\n",
       "    </tr>\n",
       "    <tr>\n",
       "      <th>49</th>\n",
       "      <td>Indie</td>\n",
       "      <td>8.100000</td>\n",
       "      <td>1</td>\n",
       "    </tr>\n",
       "    <tr>\n",
       "      <th>48</th>\n",
       "      <td>Estonia</td>\n",
       "      <td>8.100000</td>\n",
       "      <td>1</td>\n",
       "    </tr>\n",
       "    <tr>\n",
       "      <th>47</th>\n",
       "      <td>Gruzja</td>\n",
       "      <td>8.100000</td>\n",
       "      <td>1</td>\n",
       "    </tr>\n",
       "    <tr>\n",
       "      <th>40</th>\n",
       "      <td>RFN</td>\n",
       "      <td>8.066667</td>\n",
       "      <td>3</td>\n",
       "    </tr>\n",
       "    <tr>\n",
       "      <th>42</th>\n",
       "      <td>ZSRR</td>\n",
       "      <td>8.000000</td>\n",
       "      <td>3</td>\n",
       "    </tr>\n",
       "    <tr>\n",
       "      <th>41</th>\n",
       "      <td>Czechosłowacja</td>\n",
       "      <td>7.900000</td>\n",
       "      <td>1</td>\n",
       "    </tr>\n",
       "    <tr>\n",
       "      <th>43</th>\n",
       "      <td>Szwajcaria</td>\n",
       "      <td>7.900000</td>\n",
       "      <td>1</td>\n",
       "    </tr>\n",
       "    <tr>\n",
       "      <th>39</th>\n",
       "      <td>Zjednoczone Emiraty Arabskie</td>\n",
       "      <td>7.733333</td>\n",
       "      <td>3</td>\n",
       "    </tr>\n",
       "    <tr>\n",
       "      <th>27</th>\n",
       "      <td>Włochy</td>\n",
       "      <td>7.684615</td>\n",
       "      <td>13</td>\n",
       "    </tr>\n",
       "    <tr>\n",
       "      <th>14</th>\n",
       "      <td>Japonia</td>\n",
       "      <td>7.666667</td>\n",
       "      <td>18</td>\n",
       "    </tr>\n",
       "    <tr>\n",
       "      <th>34</th>\n",
       "      <td>Chiny</td>\n",
       "      <td>7.666667</td>\n",
       "      <td>3</td>\n",
       "    </tr>\n",
       "    <tr>\n",
       "      <th>38</th>\n",
       "      <td>Indonezja</td>\n",
       "      <td>7.550000</td>\n",
       "      <td>2</td>\n",
       "    </tr>\n",
       "    <tr>\n",
       "      <th>37</th>\n",
       "      <td>Korea Południowa</td>\n",
       "      <td>7.500000</td>\n",
       "      <td>2</td>\n",
       "    </tr>\n",
       "    <tr>\n",
       "      <th>30</th>\n",
       "      <td>Australia</td>\n",
       "      <td>7.283333</td>\n",
       "      <td>6</td>\n",
       "    </tr>\n",
       "    <tr>\n",
       "      <th>8</th>\n",
       "      <td>Francja</td>\n",
       "      <td>7.080488</td>\n",
       "      <td>41</td>\n",
       "    </tr>\n",
       "    <tr>\n",
       "      <th>26</th>\n",
       "      <td>Luksemburg</td>\n",
       "      <td>7.000000</td>\n",
       "      <td>2</td>\n",
       "    </tr>\n",
       "    <tr>\n",
       "      <th>15</th>\n",
       "      <td>Dania</td>\n",
       "      <td>6.960000</td>\n",
       "      <td>5</td>\n",
       "    </tr>\n",
       "    <tr>\n",
       "      <th>25</th>\n",
       "      <td>Belgia</td>\n",
       "      <td>6.950000</td>\n",
       "      <td>4</td>\n",
       "    </tr>\n",
       "    <tr>\n",
       "      <th>22</th>\n",
       "      <td>Szwecja</td>\n",
       "      <td>6.925000</td>\n",
       "      <td>8</td>\n",
       "    </tr>\n",
       "    <tr>\n",
       "      <th>32</th>\n",
       "      <td>Meksyk</td>\n",
       "      <td>6.900000</td>\n",
       "      <td>3</td>\n",
       "    </tr>\n",
       "    <tr>\n",
       "      <th>35</th>\n",
       "      <td>Tajwan</td>\n",
       "      <td>6.900000</td>\n",
       "      <td>1</td>\n",
       "    </tr>\n",
       "    <tr>\n",
       "      <th>36</th>\n",
       "      <td>Argentyna</td>\n",
       "      <td>6.900000</td>\n",
       "      <td>1</td>\n",
       "    </tr>\n",
       "    <tr>\n",
       "      <th>33</th>\n",
       "      <td>Austria</td>\n",
       "      <td>6.900000</td>\n",
       "      <td>1</td>\n",
       "    </tr>\n",
       "    <tr>\n",
       "      <th>13</th>\n",
       "      <td>Irlandia</td>\n",
       "      <td>6.875000</td>\n",
       "      <td>8</td>\n",
       "    </tr>\n",
       "    <tr>\n",
       "      <th>7</th>\n",
       "      <td>Wielka Brytania</td>\n",
       "      <td>6.794915</td>\n",
       "      <td>59</td>\n",
       "    </tr>\n",
       "    <tr>\n",
       "      <th>11</th>\n",
       "      <td>Nowa Zelandia</td>\n",
       "      <td>6.600000</td>\n",
       "      <td>2</td>\n",
       "    </tr>\n",
       "    <tr>\n",
       "      <th>16</th>\n",
       "      <td>Czechy</td>\n",
       "      <td>6.600000</td>\n",
       "      <td>4</td>\n",
       "    </tr>\n",
       "    <tr>\n",
       "      <th>18</th>\n",
       "      <td>Węgry</td>\n",
       "      <td>6.600000</td>\n",
       "      <td>4</td>\n",
       "    </tr>\n",
       "    <tr>\n",
       "      <th>24</th>\n",
       "      <td>Bułgaria</td>\n",
       "      <td>6.566667</td>\n",
       "      <td>3</td>\n",
       "    </tr>\n",
       "    <tr>\n",
       "      <th>0</th>\n",
       "      <td>USA</td>\n",
       "      <td>6.563782</td>\n",
       "      <td>312</td>\n",
       "    </tr>\n",
       "    <tr>\n",
       "      <th>6</th>\n",
       "      <td>Hongkong</td>\n",
       "      <td>6.360000</td>\n",
       "      <td>5</td>\n",
       "    </tr>\n",
       "    <tr>\n",
       "      <th>2</th>\n",
       "      <td>Hiszpania</td>\n",
       "      <td>6.292308</td>\n",
       "      <td>13</td>\n",
       "    </tr>\n",
       "    <tr>\n",
       "      <th>5</th>\n",
       "      <td>Kanada</td>\n",
       "      <td>6.176000</td>\n",
       "      <td>25</td>\n",
       "    </tr>\n",
       "    <tr>\n",
       "      <th>3</th>\n",
       "      <td>Niemcy</td>\n",
       "      <td>6.150000</td>\n",
       "      <td>32</td>\n",
       "    </tr>\n",
       "    <tr>\n",
       "      <th>1</th>\n",
       "      <td>Polska</td>\n",
       "      <td>5.959211</td>\n",
       "      <td>76</td>\n",
       "    </tr>\n",
       "    <tr>\n",
       "      <th>31</th>\n",
       "      <td>Malta</td>\n",
       "      <td>5.900000</td>\n",
       "      <td>1</td>\n",
       "    </tr>\n",
       "    <tr>\n",
       "      <th>23</th>\n",
       "      <td>Litwa</td>\n",
       "      <td>5.900000</td>\n",
       "      <td>1</td>\n",
       "    </tr>\n",
       "    <tr>\n",
       "      <th>29</th>\n",
       "      <td>Tunezja</td>\n",
       "      <td>5.900000</td>\n",
       "      <td>1</td>\n",
       "    </tr>\n",
       "    <tr>\n",
       "      <th>28</th>\n",
       "      <td>Wenezuela</td>\n",
       "      <td>5.900000</td>\n",
       "      <td>1</td>\n",
       "    </tr>\n",
       "    <tr>\n",
       "      <th>12</th>\n",
       "      <td>Rosja</td>\n",
       "      <td>5.525000</td>\n",
       "      <td>4</td>\n",
       "    </tr>\n",
       "    <tr>\n",
       "      <th>10</th>\n",
       "      <td>Norwegia</td>\n",
       "      <td>5.400000</td>\n",
       "      <td>2</td>\n",
       "    </tr>\n",
       "    <tr>\n",
       "      <th>9</th>\n",
       "      <td>Rumunia</td>\n",
       "      <td>5.400000</td>\n",
       "      <td>2</td>\n",
       "    </tr>\n",
       "    <tr>\n",
       "      <th>17</th>\n",
       "      <td>Słowacja</td>\n",
       "      <td>5.300000</td>\n",
       "      <td>2</td>\n",
       "    </tr>\n",
       "    <tr>\n",
       "      <th>19</th>\n",
       "      <td>Serbia</td>\n",
       "      <td>4.600000</td>\n",
       "      <td>1</td>\n",
       "    </tr>\n",
       "    <tr>\n",
       "      <th>20</th>\n",
       "      <td>Chile</td>\n",
       "      <td>4.500000</td>\n",
       "      <td>1</td>\n",
       "    </tr>\n",
       "    <tr>\n",
       "      <th>21</th>\n",
       "      <td>Finlandia</td>\n",
       "      <td>4.500000</td>\n",
       "      <td>1</td>\n",
       "    </tr>\n",
       "    <tr>\n",
       "      <th>4</th>\n",
       "      <td>Holandia</td>\n",
       "      <td>3.500000</td>\n",
       "      <td>1</td>\n",
       "    </tr>\n",
       "  </tbody>\n",
       "</table>\n",
       "</div>"
      ],
      "text/plain": [
       "                         country  mean rating  num_of_movies\n",
       "45                         Liban     8.300000              1\n",
       "44                      Brazylia     8.250000              2\n",
       "46                           RPA     8.200000              1\n",
       "49                         Indie     8.100000              1\n",
       "48                       Estonia     8.100000              1\n",
       "47                        Gruzja     8.100000              1\n",
       "40                           RFN     8.066667              3\n",
       "42                          ZSRR     8.000000              3\n",
       "41                Czechosłowacja     7.900000              1\n",
       "43                    Szwajcaria     7.900000              1\n",
       "39  Zjednoczone Emiraty Arabskie     7.733333              3\n",
       "27                        Włochy     7.684615             13\n",
       "14                       Japonia     7.666667             18\n",
       "34                         Chiny     7.666667              3\n",
       "38                     Indonezja     7.550000              2\n",
       "37              Korea Południowa     7.500000              2\n",
       "30                     Australia     7.283333              6\n",
       "8                        Francja     7.080488             41\n",
       "26                    Luksemburg     7.000000              2\n",
       "15                         Dania     6.960000              5\n",
       "25                        Belgia     6.950000              4\n",
       "22                       Szwecja     6.925000              8\n",
       "32                        Meksyk     6.900000              3\n",
       "35                        Tajwan     6.900000              1\n",
       "36                     Argentyna     6.900000              1\n",
       "33                       Austria     6.900000              1\n",
       "13                      Irlandia     6.875000              8\n",
       "7                Wielka Brytania     6.794915             59\n",
       "11                 Nowa Zelandia     6.600000              2\n",
       "16                        Czechy     6.600000              4\n",
       "18                         Węgry     6.600000              4\n",
       "24                      Bułgaria     6.566667              3\n",
       "0                            USA     6.563782            312\n",
       "6                       Hongkong     6.360000              5\n",
       "2                      Hiszpania     6.292308             13\n",
       "5                         Kanada     6.176000             25\n",
       "3                         Niemcy     6.150000             32\n",
       "1                         Polska     5.959211             76\n",
       "31                         Malta     5.900000              1\n",
       "23                         Litwa     5.900000              1\n",
       "29                       Tunezja     5.900000              1\n",
       "28                     Wenezuela     5.900000              1\n",
       "12                         Rosja     5.525000              4\n",
       "10                      Norwegia     5.400000              2\n",
       "9                        Rumunia     5.400000              2\n",
       "17                      Słowacja     5.300000              2\n",
       "19                        Serbia     4.600000              1\n",
       "20                         Chile     4.500000              1\n",
       "21                     Finlandia     4.500000              1\n",
       "4                       Holandia     3.500000              1"
      ]
     },
     "execution_count": 63,
     "metadata": {},
     "output_type": "execute_result"
    }
   ],
   "source": [
    "countries_mean_rating.sort_values(by='mean rating',axis=0, ascending=False)"
   ]
  },
  {
   "cell_type": "markdown",
   "metadata": {},
   "source": [
    "We see that countries which have the biggest mean rating have also very little number of movies produced, from among 8 countries which have produced the most movies, Italy has the biggest mean rating."
   ]
  },
  {
   "cell_type": "code",
   "execution_count": 64,
   "metadata": {},
   "outputs": [
    {
     "data": {
      "image/png": "[encoded data removed]",
      "text/plain": [
       "<Figure size 864x216 with 1 Axes>"
      ]
     },
     "metadata": {
      "needs_background": "light"
     },
     "output_type": "display_data"
    }
   ],
   "source": [
    "fig,axes = plt.subplots(figsize=(12,3))\n",
    "axes.plot(df1.groupby('num of famous actors and actresses').mean()['rating'])\n",
    "axes.set_ylabel('mean rating')\n",
    "axes.set_xlabel('num of famous actors and ctresses')\n",
    "plt.tight_layout()"
   ]
  },
  {
   "cell_type": "markdown",
   "metadata": {},
   "source": [
    "A number of famous actors doesn't seem to have a big impact on a rating, only movies with 8 and 9 famous actors has significantly bigger mean rating."
   ]
  },
  {
   "cell_type": "code",
   "execution_count": 65,
   "metadata": {
    "scrolled": true
   },
   "outputs": [
    {
     "data": {
      "text/html": [
       "<div>\n",
       "<style scoped>\n",
       "    .dataframe tbody tr th:only-of-type {\n",
       "        vertical-align: middle;\n",
       "    }\n",
       "\n",
       "    .dataframe tbody tr th {\n",
       "        vertical-align: top;\n",
       "    }\n",
       "\n",
       "    .dataframe thead th {\n",
       "        text-align: right;\n",
       "    }\n",
       "</style>\n",
       "<table border=\"1\" class=\"dataframe\">\n",
       "  <thead>\n",
       "    <tr style=\"text-align: right;\">\n",
       "      <th></th>\n",
       "      <th>rating</th>\n",
       "    </tr>\n",
       "    <tr>\n",
       "      <th>num of famous directors</th>\n",
       "      <th></th>\n",
       "    </tr>\n",
       "  </thead>\n",
       "  <tbody>\n",
       "    <tr>\n",
       "      <th>1</th>\n",
       "      <td>7.384932</td>\n",
       "    </tr>\n",
       "    <tr>\n",
       "      <th>2</th>\n",
       "      <td>7.366667</td>\n",
       "    </tr>\n",
       "    <tr>\n",
       "      <th>0</th>\n",
       "      <td>6.210059</td>\n",
       "    </tr>\n",
       "  </tbody>\n",
       "</table>\n",
       "</div>"
      ],
      "text/plain": [
       "                           rating\n",
       "num of famous directors          \n",
       "1                        7.384932\n",
       "2                        7.366667\n",
       "0                        6.210059"
      ]
     },
     "execution_count": 65,
     "metadata": {},
     "output_type": "execute_result"
    }
   ],
   "source": [
    "pd.DataFrame(df1.groupby('num of famous directors').mean().sort_values('rating',ascending=False)['rating'])"
   ]
  },
  {
   "cell_type": "code",
   "execution_count": 66,
   "metadata": {},
   "outputs": [
    {
     "data": {
      "text/html": [
       "<div>\n",
       "<style scoped>\n",
       "    .dataframe tbody tr th:only-of-type {\n",
       "        vertical-align: middle;\n",
       "    }\n",
       "\n",
       "    .dataframe tbody tr th {\n",
       "        vertical-align: top;\n",
       "    }\n",
       "\n",
       "    .dataframe thead th {\n",
       "        text-align: right;\n",
       "    }\n",
       "</style>\n",
       "<table border=\"1\" class=\"dataframe\">\n",
       "  <thead>\n",
       "    <tr style=\"text-align: right;\">\n",
       "      <th></th>\n",
       "      <th>rating</th>\n",
       "    </tr>\n",
       "    <tr>\n",
       "      <th>num of famous screenwriters</th>\n",
       "      <th></th>\n",
       "    </tr>\n",
       "  </thead>\n",
       "  <tbody>\n",
       "    <tr>\n",
       "      <th>2</th>\n",
       "      <td>7.985106</td>\n",
       "    </tr>\n",
       "    <tr>\n",
       "      <th>1</th>\n",
       "      <td>7.605085</td>\n",
       "    </tr>\n",
       "    <tr>\n",
       "      <th>0</th>\n",
       "      <td>5.983230</td>\n",
       "    </tr>\n",
       "  </tbody>\n",
       "</table>\n",
       "</div>"
      ],
      "text/plain": [
       "                               rating\n",
       "num of famous screenwriters          \n",
       "2                            7.985106\n",
       "1                            7.605085\n",
       "0                            5.983230"
      ]
     },
     "execution_count": 66,
     "metadata": {},
     "output_type": "execute_result"
    }
   ],
   "source": [
    "pd.DataFrame(df1.groupby('num of famous screenwriters').mean().sort_values('rating',ascending=False)['rating'])"
   ]
  },
  {
   "cell_type": "markdown",
   "metadata": {},
   "source": [
    "We can see that if we have at least one famous screenwriter or director then a mean rating is much bigger, but there is no difference if we have one or two famous screenwriters or directors."
   ]
  },
  {
   "cell_type": "code",
   "execution_count": 67,
   "metadata": {},
   "outputs": [
    {
     "data": {
      "image/png": "[encoded data removed]",
      "text/plain": [
       "<Figure size 864x216 with 1 Axes>"
      ]
     },
     "metadata": {
      "needs_background": "light"
     },
     "output_type": "display_data"
    }
   ],
   "source": [
    "fig,axes=plt.subplots(figsize=(12,3))\n",
    "axes.plot(df1.groupby('date of production').mean()['rating'])\n",
    "axes.set_xlabel('date of production')\n",
    "axes.set_ylabel('mean rating')\n",
    "plt.tight_layout()"
   ]
  },
  {
   "cell_type": "markdown",
   "metadata": {},
   "source": [
    "The movies produced after around 1980 start to getting smaller mean rate and the biggest drop is between 2019 and 2020. Let's check a number of movies with rating above 7.5 which was produced before and after 1980."
   ]
  },
  {
   "cell_type": "code",
   "execution_count": 68,
   "metadata": {},
   "outputs": [
    {
     "name": "stdout",
     "output_type": "stream",
     "text": [
      "Number of movies with rating above 7.5 produced after 1980: 113\n"
     ]
    }
   ],
   "source": [
    "print('Number of movies with rating above 7.5 produced after 1980: {}'\n",
    "      .format(df1[(df1['date of production']>1980)&(df1['rating']>7.5)]['rating'].count()))"
   ]
  },
  {
   "cell_type": "code",
   "execution_count": 69,
   "metadata": {},
   "outputs": [
    {
     "name": "stdout",
     "output_type": "stream",
     "text": [
      "Number of movies with rating above 7.5 produced before 1980: 67\n"
     ]
    }
   ],
   "source": [
    "print('Number of movies with rating above 7.5 produced before 1980: {}'\n",
    "      .format(df1[(df1['date of production']<1980)&(df1['rating']>7.5)]['rating'].count()))"
   ]
  },
  {
   "cell_type": "markdown",
   "metadata": {},
   "source": [
    "We can see that even though a mean rating of movies produced after 1980 start to getting smaller, a number of movies with a rating above 7.5 is almost two times bigger. Now let's see what are the movies with the biggest revenue and how it depends on a number of famous actors, screenwriters and directors."
   ]
  },
  {
   "cell_type": "code",
   "execution_count": 75,
   "metadata": {
    "scrolled": true
   },
   "outputs": [
    {
     "data": {
      "text/html": [
       "<div>\n",
       "<style scoped>\n",
       "    .dataframe tbody tr th:only-of-type {\n",
       "        vertical-align: middle;\n",
       "    }\n",
       "\n",
       "    .dataframe tbody tr th {\n",
       "        vertical-align: top;\n",
       "    }\n",
       "\n",
       "    .dataframe thead th {\n",
       "        text-align: right;\n",
       "    }\n",
       "</style>\n",
       "<table border=\"1\" class=\"dataframe\">\n",
       "  <thead>\n",
       "    <tr style=\"text-align: right;\">\n",
       "      <th></th>\n",
       "      <th>title</th>\n",
       "      <th>revenue</th>\n",
       "    </tr>\n",
       "  </thead>\n",
       "  <tbody>\n",
       "    <tr>\n",
       "      <th>151</th>\n",
       "      <td>El mariachi</td>\n",
       "      <td>291.704000</td>\n",
       "    </tr>\n",
       "    <tr>\n",
       "      <th>155</th>\n",
       "      <td>Mad Max</td>\n",
       "      <td>153.846154</td>\n",
       "    </tr>\n",
       "    <tr>\n",
       "      <th>176</th>\n",
       "      <td>Przeminęło z wiatrem</td>\n",
       "      <td>101.169872</td>\n",
       "    </tr>\n",
       "    <tr>\n",
       "      <th>124</th>\n",
       "      <td>Świt żywych trupów</td>\n",
       "      <td>84.615385</td>\n",
       "    </tr>\n",
       "    <tr>\n",
       "      <th>163</th>\n",
       "      <td>Gwiezdne wojny: Część IV - Nowa nadzieja</td>\n",
       "      <td>70.501945</td>\n",
       "    </tr>\n",
       "    <tr>\n",
       "      <th>254</th>\n",
       "      <td>Psychoza</td>\n",
       "      <td>61.961938</td>\n",
       "    </tr>\n",
       "    <tr>\n",
       "      <th>140</th>\n",
       "      <td>Cztery wesela i pogrzeb</td>\n",
       "      <td>55.841098</td>\n",
       "    </tr>\n",
       "    <tr>\n",
       "      <th>200</th>\n",
       "      <td>Ojciec chrzestny</td>\n",
       "      <td>40.844402</td>\n",
       "    </tr>\n",
       "    <tr>\n",
       "      <th>178</th>\n",
       "      <td>Absolwent</td>\n",
       "      <td>38.315102</td>\n",
       "    </tr>\n",
       "    <tr>\n",
       "      <th>8</th>\n",
       "      <td>Ostatni egzorcyzm</td>\n",
       "      <td>37.632272</td>\n",
       "    </tr>\n",
       "    <tr>\n",
       "      <th>167</th>\n",
       "      <td>Okno na podwórze</td>\n",
       "      <td>36.888916</td>\n",
       "    </tr>\n",
       "    <tr>\n",
       "      <th>203</th>\n",
       "      <td>Lot nad kukułczym gniazdem</td>\n",
       "      <td>36.327092</td>\n",
       "    </tr>\n",
       "    <tr>\n",
       "      <th>243</th>\n",
       "      <td>Gwiezdne wojny: Część V - Imperium kontratakuje</td>\n",
       "      <td>30.610713</td>\n",
       "    </tr>\n",
       "    <tr>\n",
       "      <th>252</th>\n",
       "      <td>Żądło</td>\n",
       "      <td>28.363636</td>\n",
       "    </tr>\n",
       "    <tr>\n",
       "      <th>91</th>\n",
       "      <td>Wolf Creek</td>\n",
       "      <td>27.762648</td>\n",
       "    </tr>\n",
       "    <tr>\n",
       "      <th>207</th>\n",
       "      <td>Pulp Fiction</td>\n",
       "      <td>26.741095</td>\n",
       "    </tr>\n",
       "    <tr>\n",
       "      <th>235</th>\n",
       "      <td>Pluton</td>\n",
       "      <td>25.588428</td>\n",
       "    </tr>\n",
       "    <tr>\n",
       "      <th>239</th>\n",
       "      <td>Parasite</td>\n",
       "      <td>22.682493</td>\n",
       "    </tr>\n",
       "    <tr>\n",
       "      <th>244</th>\n",
       "      <td>Brzdąc</td>\n",
       "      <td>21.800000</td>\n",
       "    </tr>\n",
       "    <tr>\n",
       "      <th>188</th>\n",
       "      <td>Taksówkarz</td>\n",
       "      <td>21.740442</td>\n",
       "    </tr>\n",
       "    <tr>\n",
       "      <th>219</th>\n",
       "      <td>Król Lew</td>\n",
       "      <td>21.522485</td>\n",
       "    </tr>\n",
       "    <tr>\n",
       "      <th>223</th>\n",
       "      <td>Dobry, zły i brzydki</td>\n",
       "      <td>21.043734</td>\n",
       "    </tr>\n",
       "    <tr>\n",
       "      <th>253</th>\n",
       "      <td>Za kilka dolarów więcej</td>\n",
       "      <td>20.000000</td>\n",
       "    </tr>\n",
       "    <tr>\n",
       "      <th>206</th>\n",
       "      <td>Joker</td>\n",
       "      <td>19.531842</td>\n",
       "    </tr>\n",
       "    <tr>\n",
       "      <th>174</th>\n",
       "      <td>Dźwięki muzyki</td>\n",
       "      <td>19.425310</td>\n",
       "    </tr>\n",
       "    <tr>\n",
       "      <th>106</th>\n",
       "      <td>Pani Doubtfire</td>\n",
       "      <td>17.651448</td>\n",
       "    </tr>\n",
       "    <tr>\n",
       "      <th>181</th>\n",
       "      <td>Butch Cassidy i Sundance Kid</td>\n",
       "      <td>17.051482</td>\n",
       "    </tr>\n",
       "    <tr>\n",
       "      <th>195</th>\n",
       "      <td>Blask</td>\n",
       "      <td>16.216787</td>\n",
       "    </tr>\n",
       "    <tr>\n",
       "      <th>212</th>\n",
       "      <td>Kafarnaum</td>\n",
       "      <td>16.099502</td>\n",
       "    </tr>\n",
       "    <tr>\n",
       "      <th>204</th>\n",
       "      <td>Ojciec chrzestny II</td>\n",
       "      <td>14.846154</td>\n",
       "    </tr>\n",
       "    <tr>\n",
       "      <th>...</th>\n",
       "      <td>...</td>\n",
       "      <td>...</td>\n",
       "    </tr>\n",
       "    <tr>\n",
       "      <th>228</th>\n",
       "      <td>Baraka</td>\n",
       "      <td>0.666055</td>\n",
       "    </tr>\n",
       "    <tr>\n",
       "      <th>28</th>\n",
       "      <td>Guru miłości</td>\n",
       "      <td>0.659086</td>\n",
       "    </tr>\n",
       "    <tr>\n",
       "      <th>19</th>\n",
       "      <td>Sadysta</td>\n",
       "      <td>0.642424</td>\n",
       "    </tr>\n",
       "    <tr>\n",
       "      <th>115</th>\n",
       "      <td>Take Shelter</td>\n",
       "      <td>0.619863</td>\n",
       "    </tr>\n",
       "    <tr>\n",
       "      <th>142</th>\n",
       "      <td>Pająk</td>\n",
       "      <td>0.580894</td>\n",
       "    </tr>\n",
       "    <tr>\n",
       "      <th>60</th>\n",
       "      <td>Niewidzialny</td>\n",
       "      <td>0.569873</td>\n",
       "    </tr>\n",
       "    <tr>\n",
       "      <th>35</th>\n",
       "      <td>Zjawy</td>\n",
       "      <td>0.566323</td>\n",
       "    </tr>\n",
       "    <tr>\n",
       "      <th>123</th>\n",
       "      <td>Kopia Mistrza</td>\n",
       "      <td>0.562886</td>\n",
       "    </tr>\n",
       "    <tr>\n",
       "      <th>141</th>\n",
       "      <td>Nie jesteśmy aniołami</td>\n",
       "      <td>0.527767</td>\n",
       "    </tr>\n",
       "    <tr>\n",
       "      <th>6</th>\n",
       "      <td>Alone in the Dark: Wyspa cienia</td>\n",
       "      <td>0.522140</td>\n",
       "    </tr>\n",
       "    <tr>\n",
       "      <th>154</th>\n",
       "      <td>Celebrity</td>\n",
       "      <td>0.514888</td>\n",
       "    </tr>\n",
       "    <tr>\n",
       "      <th>43</th>\n",
       "      <td>Duchy Marsa</td>\n",
       "      <td>0.500387</td>\n",
       "    </tr>\n",
       "    <tr>\n",
       "      <th>11</th>\n",
       "      <td>Rocky i Łoś Superktoś</td>\n",
       "      <td>0.462300</td>\n",
       "    </tr>\n",
       "    <tr>\n",
       "      <th>117</th>\n",
       "      <td>Destrukcja</td>\n",
       "      <td>0.436646</td>\n",
       "    </tr>\n",
       "    <tr>\n",
       "      <th>79</th>\n",
       "      <td>Wioska przeklętych</td>\n",
       "      <td>0.428107</td>\n",
       "    </tr>\n",
       "    <tr>\n",
       "      <th>127</th>\n",
       "      <td>Świetliki w ogrodzie</td>\n",
       "      <td>0.424145</td>\n",
       "    </tr>\n",
       "    <tr>\n",
       "      <th>86</th>\n",
       "      <td>Ostatni legion</td>\n",
       "      <td>0.377657</td>\n",
       "    </tr>\n",
       "    <tr>\n",
       "      <th>122</th>\n",
       "      <td>Gold</td>\n",
       "      <td>0.361352</td>\n",
       "    </tr>\n",
       "    <tr>\n",
       "      <th>248</th>\n",
       "      <td>Ran</td>\n",
       "      <td>0.353883</td>\n",
       "    </tr>\n",
       "    <tr>\n",
       "      <th>55</th>\n",
       "      <td>Midnight Special</td>\n",
       "      <td>0.345127</td>\n",
       "    </tr>\n",
       "    <tr>\n",
       "      <th>92</th>\n",
       "      <td>Nad morzem</td>\n",
       "      <td>0.333493</td>\n",
       "    </tr>\n",
       "    <tr>\n",
       "      <th>23</th>\n",
       "      <td>Dungeon Siege: W imię króla</td>\n",
       "      <td>0.218299</td>\n",
       "    </tr>\n",
       "    <tr>\n",
       "      <th>59</th>\n",
       "      <td>Wielki rok</td>\n",
       "      <td>0.181668</td>\n",
       "    </tr>\n",
       "    <tr>\n",
       "      <th>224</th>\n",
       "      <td>Dawno temu w Ameryce</td>\n",
       "      <td>0.177384</td>\n",
       "    </tr>\n",
       "    <tr>\n",
       "      <th>138</th>\n",
       "      <td>Droga do przebaczenia</td>\n",
       "      <td>0.162108</td>\n",
       "    </tr>\n",
       "    <tr>\n",
       "      <th>1</th>\n",
       "      <td>BloodRayne</td>\n",
       "      <td>0.146011</td>\n",
       "    </tr>\n",
       "    <tr>\n",
       "      <th>256</th>\n",
       "      <td>Siedmiu samurajów</td>\n",
       "      <td>0.135920</td>\n",
       "    </tr>\n",
       "    <tr>\n",
       "      <th>242</th>\n",
       "      <td>Dzisiejsze czasy</td>\n",
       "      <td>0.109051</td>\n",
       "    </tr>\n",
       "    <tr>\n",
       "      <th>48</th>\n",
       "      <td>Pokusa</td>\n",
       "      <td>0.108309</td>\n",
       "    </tr>\n",
       "    <tr>\n",
       "      <th>168</th>\n",
       "      <td>M jak morderstwo</td>\n",
       "      <td>0.008973</td>\n",
       "    </tr>\n",
       "  </tbody>\n",
       "</table>\n",
       "<p>259 rows × 2 columns</p>\n",
       "</div>"
      ],
      "text/plain": [
       "                                               title     revenue\n",
       "151                                      El mariachi  291.704000\n",
       "155                                          Mad Max  153.846154\n",
       "176                             Przeminęło z wiatrem  101.169872\n",
       "124                               Świt żywych trupów   84.615385\n",
       "163         Gwiezdne wojny: Część IV - Nowa nadzieja   70.501945\n",
       "254                                         Psychoza   61.961938\n",
       "140                          Cztery wesela i pogrzeb   55.841098\n",
       "200                                 Ojciec chrzestny   40.844402\n",
       "178                                        Absolwent   38.315102\n",
       "8                                  Ostatni egzorcyzm   37.632272\n",
       "167                                 Okno na podwórze   36.888916\n",
       "203                       Lot nad kukułczym gniazdem   36.327092\n",
       "243  Gwiezdne wojny: Część V - Imperium kontratakuje   30.610713\n",
       "252                                            Żądło   28.363636\n",
       "91                                        Wolf Creek   27.762648\n",
       "207                                     Pulp Fiction   26.741095\n",
       "235                                           Pluton   25.588428\n",
       "239                                         Parasite   22.682493\n",
       "244                                           Brzdąc   21.800000\n",
       "188                                       Taksówkarz   21.740442\n",
       "219                                         Król Lew   21.522485\n",
       "223                             Dobry, zły i brzydki   21.043734\n",
       "253                          Za kilka dolarów więcej   20.000000\n",
       "206                                            Joker   19.531842\n",
       "174                                   Dźwięki muzyki   19.425310\n",
       "106                                   Pani Doubtfire   17.651448\n",
       "181                     Butch Cassidy i Sundance Kid   17.051482\n",
       "195                                            Blask   16.216787\n",
       "212                                        Kafarnaum   16.099502\n",
       "204                              Ojciec chrzestny II   14.846154\n",
       "..                                               ...         ...\n",
       "228                                           Baraka    0.666055\n",
       "28                                      Guru miłości    0.659086\n",
       "19                                           Sadysta    0.642424\n",
       "115                                     Take Shelter    0.619863\n",
       "142                                            Pająk    0.580894\n",
       "60                                      Niewidzialny    0.569873\n",
       "35                                             Zjawy    0.566323\n",
       "123                                    Kopia Mistrza    0.562886\n",
       "141                            Nie jesteśmy aniołami    0.527767\n",
       "6                    Alone in the Dark: Wyspa cienia    0.522140\n",
       "154                                        Celebrity    0.514888\n",
       "43                                       Duchy Marsa    0.500387\n",
       "11                             Rocky i Łoś Superktoś    0.462300\n",
       "117                                       Destrukcja    0.436646\n",
       "79                                Wioska przeklętych    0.428107\n",
       "127                             Świetliki w ogrodzie    0.424145\n",
       "86                                    Ostatni legion    0.377657\n",
       "122                                             Gold    0.361352\n",
       "248                                              Ran    0.353883\n",
       "55                                  Midnight Special    0.345127\n",
       "92                                        Nad morzem    0.333493\n",
       "23                       Dungeon Siege: W imię króla    0.218299\n",
       "59                                        Wielki rok    0.181668\n",
       "224                             Dawno temu w Ameryce    0.177384\n",
       "138                            Droga do przebaczenia    0.162108\n",
       "1                                         BloodRayne    0.146011\n",
       "256                                Siedmiu samurajów    0.135920\n",
       "242                                 Dzisiejsze czasy    0.109051\n",
       "48                                            Pokusa    0.108309\n",
       "168                                 M jak morderstwo    0.008973\n",
       "\n",
       "[259 rows x 2 columns]"
      ]
     },
     "execution_count": 75,
     "metadata": {},
     "output_type": "execute_result"
    }
   ],
   "source": [
    "df[['title','revenue']].sort_values(by='revenue',ascending=False)"
   ]
  },
  {
   "cell_type": "code",
   "execution_count": 71,
   "metadata": {},
   "outputs": [
    {
     "data": {
      "text/html": [
       "<div>\n",
       "<style scoped>\n",
       "    .dataframe tbody tr th:only-of-type {\n",
       "        vertical-align: middle;\n",
       "    }\n",
       "\n",
       "    .dataframe tbody tr th {\n",
       "        vertical-align: top;\n",
       "    }\n",
       "\n",
       "    .dataframe thead th {\n",
       "        text-align: right;\n",
       "    }\n",
       "</style>\n",
       "<table border=\"1\" class=\"dataframe\">\n",
       "  <thead>\n",
       "    <tr style=\"text-align: right;\">\n",
       "      <th></th>\n",
       "      <th>revenue</th>\n",
       "    </tr>\n",
       "    <tr>\n",
       "      <th>num of famous actors and actresses</th>\n",
       "      <th></th>\n",
       "    </tr>\n",
       "  </thead>\n",
       "  <tbody>\n",
       "    <tr>\n",
       "      <th>0</th>\n",
       "      <td>15.445307</td>\n",
       "    </tr>\n",
       "    <tr>\n",
       "      <th>1</th>\n",
       "      <td>10.049147</td>\n",
       "    </tr>\n",
       "    <tr>\n",
       "      <th>5</th>\n",
       "      <td>9.118001</td>\n",
       "    </tr>\n",
       "    <tr>\n",
       "      <th>7</th>\n",
       "      <td>8.559945</td>\n",
       "    </tr>\n",
       "    <tr>\n",
       "      <th>9</th>\n",
       "      <td>6.401505</td>\n",
       "    </tr>\n",
       "    <tr>\n",
       "      <th>3</th>\n",
       "      <td>5.670429</td>\n",
       "    </tr>\n",
       "    <tr>\n",
       "      <th>8</th>\n",
       "      <td>5.664096</td>\n",
       "    </tr>\n",
       "    <tr>\n",
       "      <th>4</th>\n",
       "      <td>5.546224</td>\n",
       "    </tr>\n",
       "    <tr>\n",
       "      <th>2</th>\n",
       "      <td>5.531399</td>\n",
       "    </tr>\n",
       "    <tr>\n",
       "      <th>6</th>\n",
       "      <td>4.166992</td>\n",
       "    </tr>\n",
       "  </tbody>\n",
       "</table>\n",
       "</div>"
      ],
      "text/plain": [
       "                                      revenue\n",
       "num of famous actors and actresses           \n",
       "0                                   15.445307\n",
       "1                                   10.049147\n",
       "5                                    9.118001\n",
       "7                                    8.559945\n",
       "9                                    6.401505\n",
       "3                                    5.670429\n",
       "8                                    5.664096\n",
       "4                                    5.546224\n",
       "2                                    5.531399\n",
       "6                                    4.166992"
      ]
     },
     "execution_count": 71,
     "metadata": {},
     "output_type": "execute_result"
    }
   ],
   "source": [
    "pd.DataFrame(df.groupby('num of famous actors and actresses').mean().sort_values('revenue',ascending=False)['revenue'])"
   ]
  },
  {
   "cell_type": "code",
   "execution_count": 72,
   "metadata": {},
   "outputs": [
    {
     "data": {
      "text/html": [
       "<div>\n",
       "<style scoped>\n",
       "    .dataframe tbody tr th:only-of-type {\n",
       "        vertical-align: middle;\n",
       "    }\n",
       "\n",
       "    .dataframe tbody tr th {\n",
       "        vertical-align: top;\n",
       "    }\n",
       "\n",
       "    .dataframe thead th {\n",
       "        text-align: right;\n",
       "    }\n",
       "</style>\n",
       "<table border=\"1\" class=\"dataframe\">\n",
       "  <thead>\n",
       "    <tr style=\"text-align: right;\">\n",
       "      <th></th>\n",
       "      <th>revenue</th>\n",
       "    </tr>\n",
       "    <tr>\n",
       "      <th>num of famous directors</th>\n",
       "      <th></th>\n",
       "    </tr>\n",
       "  </thead>\n",
       "  <tbody>\n",
       "    <tr>\n",
       "      <th>1</th>\n",
       "      <td>13.015288</td>\n",
       "    </tr>\n",
       "    <tr>\n",
       "      <th>0</th>\n",
       "      <td>5.875589</td>\n",
       "    </tr>\n",
       "    <tr>\n",
       "      <th>2</th>\n",
       "      <td>4.931307</td>\n",
       "    </tr>\n",
       "  </tbody>\n",
       "</table>\n",
       "</div>"
      ],
      "text/plain": [
       "                           revenue\n",
       "num of famous directors           \n",
       "1                        13.015288\n",
       "0                         5.875589\n",
       "2                         4.931307"
      ]
     },
     "execution_count": 72,
     "metadata": {},
     "output_type": "execute_result"
    }
   ],
   "source": [
    "pd.DataFrame(df.groupby('num of famous directors').mean().sort_values('revenue',ascending=False)['revenue'])"
   ]
  },
  {
   "cell_type": "code",
   "execution_count": 73,
   "metadata": {},
   "outputs": [
    {
     "data": {
      "text/html": [
       "<div>\n",
       "<style scoped>\n",
       "    .dataframe tbody tr th:only-of-type {\n",
       "        vertical-align: middle;\n",
       "    }\n",
       "\n",
       "    .dataframe tbody tr th {\n",
       "        vertical-align: top;\n",
       "    }\n",
       "\n",
       "    .dataframe thead th {\n",
       "        text-align: right;\n",
       "    }\n",
       "</style>\n",
       "<table border=\"1\" class=\"dataframe\">\n",
       "  <thead>\n",
       "    <tr style=\"text-align: right;\">\n",
       "      <th></th>\n",
       "      <th>revenue</th>\n",
       "    </tr>\n",
       "    <tr>\n",
       "      <th>num of famous screenwriters</th>\n",
       "      <th></th>\n",
       "    </tr>\n",
       "  </thead>\n",
       "  <tbody>\n",
       "    <tr>\n",
       "      <th>1</th>\n",
       "      <td>10.804486</td>\n",
       "    </tr>\n",
       "    <tr>\n",
       "      <th>2</th>\n",
       "      <td>8.809716</td>\n",
       "    </tr>\n",
       "    <tr>\n",
       "      <th>0</th>\n",
       "      <td>7.465165</td>\n",
       "    </tr>\n",
       "  </tbody>\n",
       "</table>\n",
       "</div>"
      ],
      "text/plain": [
       "                               revenue\n",
       "num of famous screenwriters           \n",
       "1                            10.804486\n",
       "2                             8.809716\n",
       "0                             7.465165"
      ]
     },
     "execution_count": 73,
     "metadata": {},
     "output_type": "execute_result"
    }
   ],
   "source": [
    "pd.DataFrame(df.groupby('num of famous screenwriters').mean().sort_values('revenue',ascending=False)['revenue'])"
   ]
  },
  {
   "cell_type": "markdown",
   "metadata": {},
   "source": [
    "Now we will create some models and try to predict a rating of a movie. In order to check which one is the best we will calculate a root mean square error."
   ]
  },
  {
   "cell_type": "markdown",
   "metadata": {},
   "source": [
    "## model 1- Support Vector Regression"
   ]
  },
  {
   "cell_type": "code",
   "execution_count": 76,
   "metadata": {},
   "outputs": [],
   "source": [
    "df=pd.read_csv('filmweb_data')\n",
    "df1=pd.read_csv('filmweb_data2')"
   ]
  },
  {
   "cell_type": "code",
   "execution_count": 77,
   "metadata": {},
   "outputs": [],
   "source": [
    "df1.drop(['Unnamed: 0','actors','premiere','production','directing','scenario','studio','title'],axis=1,inplace=True)\n",
    "df.drop(['Unnamed: 0','actors','premiere','production','directing','scenario','studio','title'],axis=1,inplace=True)"
   ]
  },
  {
   "cell_type": "code",
   "execution_count": 78,
   "metadata": {},
   "outputs": [],
   "source": [
    "x=df1.drop('rating',axis=1)\n",
    "y=df1['rating']\n",
    "from sklearn.model_selection import train_test_split\n",
    "x_train,x_test,y_train,y_test=train_test_split(x,y,test_size=0.3)"
   ]
  },
  {
   "cell_type": "code",
   "execution_count": 79,
   "metadata": {},
   "outputs": [
    {
     "name": "stdout",
     "output_type": "stream",
     "text": [
      "RMSE: 1.0513563850681167\n"
     ]
    },
    {
     "name": "stderr",
     "output_type": "stream",
     "text": [
      "C:\\ProgramData\\Anaconda3\\lib\\site-packages\\sklearn\\svm\\base.py:196: FutureWarning: The default value of gamma will change from 'auto' to 'scale' in version 0.22 to account better for unscaled features. Set gamma explicitly to 'auto' or 'scale' to avoid this warning.\n",
      "  \"avoid this warning.\", FutureWarning)\n"
     ]
    }
   ],
   "source": [
    "from sklearn import svm\n",
    "regr = svm.SVR()\n",
    "regr.fit(x_train,y_train)\n",
    "pred=regr.predict(x_test)\n",
    "\n",
    "from sklearn import metrics\n",
    "import numpy as np\n",
    "print('RMSE:', np.sqrt(metrics.mean_squared_error(y_test, pred)))"
   ]
  },
  {
   "cell_type": "markdown",
   "metadata": {},
   "source": [
    "## model 2- KNeighborsRegressor"
   ]
  },
  {
   "cell_type": "code",
   "execution_count": 80,
   "metadata": {},
   "outputs": [
    {
     "name": "stdout",
     "output_type": "stream",
     "text": [
      "RMSE: 1.0863932713967142\n"
     ]
    }
   ],
   "source": [
    "from sklearn.neighbors import KNeighborsRegressor\n",
    "model=KNeighborsRegressor()\n",
    "model.fit(x_train,y_train)\n",
    "pred=model.predict(x_test)\n",
    "\n",
    "print('RMSE:', np.sqrt(metrics.mean_squared_error(y_test, pred)))"
   ]
  },
  {
   "cell_type": "markdown",
   "metadata": {},
   "source": [
    "## model 3- GaussianProcessRegressor"
   ]
  },
  {
   "cell_type": "code",
   "execution_count": 81,
   "metadata": {},
   "outputs": [
    {
     "name": "stdout",
     "output_type": "stream",
     "text": [
      "RMSE: 4.563772418555359\n"
     ]
    }
   ],
   "source": [
    "from sklearn.gaussian_process import GaussianProcessRegressor\n",
    "model=GaussianProcessRegressor()\n",
    "model.fit(x_train,y_train)\n",
    "pred=model.predict(x_test)\n",
    "\n",
    "print('RMSE:', np.sqrt(metrics.mean_squared_error(y_test, pred)))"
   ]
  },
  {
   "cell_type": "markdown",
   "metadata": {},
   "source": [
    "## model 4- DecisionTreeRegressor"
   ]
  },
  {
   "cell_type": "code",
   "execution_count": 82,
   "metadata": {},
   "outputs": [
    {
     "name": "stdout",
     "output_type": "stream",
     "text": [
      "RMSE: 1.0869041099460832\n"
     ]
    }
   ],
   "source": [
    "from sklearn.tree import DecisionTreeRegressor\n",
    "model=DecisionTreeRegressor()\n",
    "model.fit(x_train,y_train)\n",
    "pred=model.predict(x_test)\n",
    "\n",
    "print('RMSE:', np.sqrt(metrics.mean_squared_error(y_test, pred)))"
   ]
  },
  {
   "cell_type": "markdown",
   "metadata": {},
   "source": [
    "We can see that the best one is Support Vector Regression. Let's try to improve it with GridSearch."
   ]
  },
  {
   "cell_type": "code",
   "execution_count": 83,
   "metadata": {},
   "outputs": [],
   "source": [
    "from sklearn.model_selection import GridSearchCV"
   ]
  },
  {
   "cell_type": "code",
   "execution_count": 84,
   "metadata": {},
   "outputs": [],
   "source": [
    "param={'C':[0.001,0.01,0.1,1,10,100,1000],'epsilon':[0.001,0.01,0.1,1,10,100,1000]}\n",
    "grid = GridSearchCV(svm.SVR(),param,refit=True,verbose=3)"
   ]
  },
  {
   "cell_type": "code",
   "execution_count": 85,
   "metadata": {
    "collapsed": true
   },
   "outputs": [
    {
     "name": "stderr",
     "output_type": "stream",
     "text": [
      "C:\\ProgramData\\Anaconda3\\lib\\site-packages\\sklearn\\model_selection\\_split.py:2053: FutureWarning: You should specify a value for 'cv' instead of relying on the default value. The default value will change from 3 to 5 in version 0.22.\n",
      "  warnings.warn(CV_WARNING, FutureWarning)\n",
      "[Parallel(n_jobs=1)]: Using backend SequentialBackend with 1 concurrent workers.\n",
      "C:\\ProgramData\\Anaconda3\\lib\\site-packages\\sklearn\\svm\\base.py:196: FutureWarning: The default value of gamma will change from 'auto' to 'scale' in version 0.22 to account better for unscaled features. Set gamma explicitly to 'auto' or 'scale' to avoid this warning.\n",
      "  \"avoid this warning.\", FutureWarning)\n",
      "[Parallel(n_jobs=1)]: Done   1 out of   1 | elapsed:    0.0s remaining:    0.0s\n",
      "C:\\ProgramData\\Anaconda3\\lib\\site-packages\\sklearn\\svm\\base.py:196: FutureWarning: The default value of gamma will change from 'auto' to 'scale' in version 0.22 to account better for unscaled features. Set gamma explicitly to 'auto' or 'scale' to avoid this warning.\n",
      "  \"avoid this warning.\", FutureWarning)\n"
     ]
    },
    {
     "name": "stdout",
     "output_type": "stream",
     "text": [
      "Fitting 3 folds for each of 49 candidates, totalling 147 fits\n",
      "[CV] C=0.001, epsilon=0.001 ..........................................\n",
      "[CV]  C=0.001, epsilon=0.001, score=-0.06535862613818355, total=   0.0s\n",
      "[CV] C=0.001, epsilon=0.001 ..........................................\n",
      "[CV]  C=0.001, epsilon=0.001, score=-0.025715369735804794, total=   0.0s"
     ]
    },
    {
     "name": "stderr",
     "output_type": "stream",
     "text": [
      "[Parallel(n_jobs=1)]: Done   2 out of   2 | elapsed:    0.1s remaining:    0.0s\n",
      "C:\\ProgramData\\Anaconda3\\lib\\site-packages\\sklearn\\svm\\base.py:196: FutureWarning: The default value of gamma will change from 'auto' to 'scale' in version 0.22 to account better for unscaled features. Set gamma explicitly to 'auto' or 'scale' to avoid this warning.\n",
      "  \"avoid this warning.\", FutureWarning)\n",
      "C:\\ProgramData\\Anaconda3\\lib\\site-packages\\sklearn\\svm\\base.py:196: FutureWarning: The default value of gamma will change from 'auto' to 'scale' in version 0.22 to account better for unscaled features. Set gamma explicitly to 'auto' or 'scale' to avoid this warning.\n",
      "  \"avoid this warning.\", FutureWarning)\n",
      "C:\\ProgramData\\Anaconda3\\lib\\site-packages\\sklearn\\svm\\base.py:196: FutureWarning: The default value of gamma will change from 'auto' to 'scale' in version 0.22 to account better for unscaled features. Set gamma explicitly to 'auto' or 'scale' to avoid this warning.\n",
      "  \"avoid this warning.\", FutureWarning)\n"
     ]
    },
    {
     "name": "stdout",
     "output_type": "stream",
     "text": [
      "\n",
      "[CV] C=0.001, epsilon=0.001 ..........................................\n",
      "[CV]  C=0.001, epsilon=0.001, score=-0.030000498693876887, total=   0.0s\n",
      "[CV] C=0.001, epsilon=0.01 ...........................................\n",
      "[CV]  C=0.001, epsilon=0.01, score=-0.06476983970262684, total=   0.0s\n",
      "[CV] C=0.001, epsilon=0.01 ...........................................\n",
      "[CV]  C=0.001, epsilon=0.01, score=-0.02442583858407832, total=   0.0s\n",
      "[CV] C=0.001, epsilon=0.01 ...........................................\n"
     ]
    },
    {
     "name": "stderr",
     "output_type": "stream",
     "text": [
      "C:\\ProgramData\\Anaconda3\\lib\\site-packages\\sklearn\\svm\\base.py:196: FutureWarning: The default value of gamma will change from 'auto' to 'scale' in version 0.22 to account better for unscaled features. Set gamma explicitly to 'auto' or 'scale' to avoid this warning.\n",
      "  \"avoid this warning.\", FutureWarning)\n",
      "C:\\ProgramData\\Anaconda3\\lib\\site-packages\\sklearn\\svm\\base.py:196: FutureWarning: The default value of gamma will change from 'auto' to 'scale' in version 0.22 to account better for unscaled features. Set gamma explicitly to 'auto' or 'scale' to avoid this warning.\n",
      "  \"avoid this warning.\", FutureWarning)\n",
      "C:\\ProgramData\\Anaconda3\\lib\\site-packages\\sklearn\\svm\\base.py:196: FutureWarning: The default value of gamma will change from 'auto' to 'scale' in version 0.22 to account better for unscaled features. Set gamma explicitly to 'auto' or 'scale' to avoid this warning.\n",
      "  \"avoid this warning.\", FutureWarning)\n"
     ]
    },
    {
     "name": "stdout",
     "output_type": "stream",
     "text": [
      "[CV]  C=0.001, epsilon=0.01, score=-0.027954085729440914, total=   0.0s\n",
      "[CV] C=0.001, epsilon=0.1 ............................................\n",
      "[CV] . C=0.001, epsilon=0.1, score=-0.03083797902111796, total=   0.0s\n",
      "[CV] C=0.001, epsilon=0.1 ............................................\n",
      "[CV]  C=0.001, epsilon=0.1, score=-0.005185787064288183, total=   0.0s\n",
      "[CV] C=0.001, epsilon=0.1 ............................................\n",
      "[CV]  C=0.001, epsilon=0.1, score=-0.0039713334274866785, total=   0.0s"
     ]
    },
    {
     "name": "stderr",
     "output_type": "stream",
     "text": [
      "C:\\ProgramData\\Anaconda3\\lib\\site-packages\\sklearn\\svm\\base.py:196: FutureWarning: The default value of gamma will change from 'auto' to 'scale' in version 0.22 to account better for unscaled features. Set gamma explicitly to 'auto' or 'scale' to avoid this warning.\n",
      "  \"avoid this warning.\", FutureWarning)\n",
      "C:\\ProgramData\\Anaconda3\\lib\\site-packages\\sklearn\\svm\\base.py:196: FutureWarning: The default value of gamma will change from 'auto' to 'scale' in version 0.22 to account better for unscaled features. Set gamma explicitly to 'auto' or 'scale' to avoid this warning.\n",
      "  \"avoid this warning.\", FutureWarning)\n",
      "C:\\ProgramData\\Anaconda3\\lib\\site-packages\\sklearn\\svm\\base.py:196: FutureWarning: The default value of gamma will change from 'auto' to 'scale' in version 0.22 to account better for unscaled features. Set gamma explicitly to 'auto' or 'scale' to avoid this warning.\n",
      "  \"avoid this warning.\", FutureWarning)\n",
      "C:\\ProgramData\\Anaconda3\\lib\\site-packages\\sklearn\\svm\\base.py:196: FutureWarning: The default value of gamma will change from 'auto' to 'scale' in version 0.22 to account better for unscaled features. Set gamma explicitly to 'auto' or 'scale' to avoid this warning.\n",
      "  \"avoid this warning.\", FutureWarning)\n"
     ]
    },
    {
     "name": "stdout",
     "output_type": "stream",
     "text": [
      "\n",
      "[CV] C=0.001, epsilon=1 ..............................................\n",
      "[CV] ... C=0.001, epsilon=1, score=-0.06514370407789505, total=   0.0s\n",
      "[CV] C=0.001, epsilon=1 ..............................................\n",
      "[CV] .. C=0.001, epsilon=1, score=-0.030872879811769005, total=   0.0s\n",
      "[CV] C=0.001, epsilon=1 ..............................................\n",
      "[CV] ... C=0.001, epsilon=1, score=-0.02920609204318181, total=   0.0s\n",
      "[CV] C=0.001, epsilon=10 .............................................\n",
      "[CV] .. C=0.001, epsilon=10, score=-0.16216801566532935, total=   0.0s\n",
      "[CV] C=0.001, epsilon=10 .............................................\n",
      "[CV] .. C=0.001, epsilon=10, score=-0.17392444435364163, total=   0.0s\n",
      "[CV] C=0.001, epsilon=10 .............................................\n",
      "[CV] .. C=0.001, epsilon=10, score=-0.18318379680369556, total=   0.0s\n",
      "[CV] C=0.001, epsilon=100 ............................................\n"
     ]
    },
    {
     "name": "stderr",
     "output_type": "stream",
     "text": [
      "C:\\ProgramData\\Anaconda3\\lib\\site-packages\\sklearn\\svm\\base.py:196: FutureWarning: The default value of gamma will change from 'auto' to 'scale' in version 0.22 to account better for unscaled features. Set gamma explicitly to 'auto' or 'scale' to avoid this warning.\n",
      "  \"avoid this warning.\", FutureWarning)\n",
      "C:\\ProgramData\\Anaconda3\\lib\\site-packages\\sklearn\\svm\\base.py:196: FutureWarning: The default value of gamma will change from 'auto' to 'scale' in version 0.22 to account better for unscaled features. Set gamma explicitly to 'auto' or 'scale' to avoid this warning.\n",
      "  \"avoid this warning.\", FutureWarning)\n",
      "C:\\ProgramData\\Anaconda3\\lib\\site-packages\\sklearn\\svm\\base.py:196: FutureWarning: The default value of gamma will change from 'auto' to 'scale' in version 0.22 to account better for unscaled features. Set gamma explicitly to 'auto' or 'scale' to avoid this warning.\n",
      "  \"avoid this warning.\", FutureWarning)\n",
      "C:\\ProgramData\\Anaconda3\\lib\\site-packages\\sklearn\\svm\\base.py:196: FutureWarning: The default value of gamma will change from 'auto' to 'scale' in version 0.22 to account better for unscaled features. Set gamma explicitly to 'auto' or 'scale' to avoid this warning.\n",
      "  \"avoid this warning.\", FutureWarning)\n",
      "C:\\ProgramData\\Anaconda3\\lib\\site-packages\\sklearn\\svm\\base.py:196: FutureWarning: The default value of gamma will change from 'auto' to 'scale' in version 0.22 to account better for unscaled features. Set gamma explicitly to 'auto' or 'scale' to avoid this warning.\n",
      "  \"avoid this warning.\", FutureWarning)\n",
      "C:\\ProgramData\\Anaconda3\\lib\\site-packages\\sklearn\\svm\\base.py:196: FutureWarning: The default value of gamma will change from 'auto' to 'scale' in version 0.22 to account better for unscaled features. Set gamma explicitly to 'auto' or 'scale' to avoid this warning.\n",
      "  \"avoid this warning.\", FutureWarning)\n",
      "C:\\ProgramData\\Anaconda3\\lib\\site-packages\\sklearn\\svm\\base.py:196: FutureWarning: The default value of gamma will change from 'auto' to 'scale' in version 0.22 to account better for unscaled features. Set gamma explicitly to 'auto' or 'scale' to avoid this warning.\n",
      "  \"avoid this warning.\", FutureWarning)\n",
      "C:\\ProgramData\\Anaconda3\\lib\\site-packages\\sklearn\\svm\\base.py:196: FutureWarning: The default value of gamma will change from 'auto' to 'scale' in version 0.22 to account better for unscaled features. Set gamma explicitly to 'auto' or 'scale' to avoid this warning.\n",
      "  \"avoid this warning.\", FutureWarning)\n",
      "C:\\ProgramData\\Anaconda3\\lib\\site-packages\\sklearn\\svm\\base.py:196: FutureWarning: The default value of gamma will change from 'auto' to 'scale' in version 0.22 to account better for unscaled features. Set gamma explicitly to 'auto' or 'scale' to avoid this warning.\n",
      "  \"avoid this warning.\", FutureWarning)\n",
      "C:\\ProgramData\\Anaconda3\\lib\\site-packages\\sklearn\\svm\\base.py:196: FutureWarning: The default value of gamma will change from 'auto' to 'scale' in version 0.22 to account better for unscaled features. Set gamma explicitly to 'auto' or 'scale' to avoid this warning.\n",
      "  \"avoid this warning.\", FutureWarning)\n"
     ]
    },
    {
     "name": "stdout",
     "output_type": "stream",
     "text": [
      "[CV] . C=0.001, epsilon=100, score=-0.16216801566532935, total=   0.0s\n",
      "[CV] C=0.001, epsilon=100 ............................................\n",
      "[CV] . C=0.001, epsilon=100, score=-0.17392444435364407, total=   0.0s\n",
      "[CV] C=0.001, epsilon=100 ............................................\n",
      "[CV] . C=0.001, epsilon=100, score=-0.18318379680369556, total=   0.0s\n",
      "[CV] C=0.001, epsilon=1000 ...........................................\n",
      "[CV]  C=0.001, epsilon=1000, score=-0.16216801566532935, total=   0.0s\n",
      "[CV] C=0.001, epsilon=1000 ...........................................\n",
      "[CV]  C=0.001, epsilon=1000, score=-0.17392444435364762, total=   0.0s\n",
      "[CV] C=0.001, epsilon=1000 ...........................................\n",
      "[CV]  C=0.001, epsilon=1000, score=-0.18318379680369556, total=   0.0s\n",
      "[CV] C=0.01, epsilon=0.001 ...........................................\n",
      "[CV] . C=0.01, epsilon=0.001, score=0.05246528616185997, total=   0.0s\n",
      "[CV] C=0.01, epsilon=0.001 ...........................................\n"
     ]
    },
    {
     "name": "stderr",
     "output_type": "stream",
     "text": [
      "C:\\ProgramData\\Anaconda3\\lib\\site-packages\\sklearn\\svm\\base.py:196: FutureWarning: The default value of gamma will change from 'auto' to 'scale' in version 0.22 to account better for unscaled features. Set gamma explicitly to 'auto' or 'scale' to avoid this warning.\n",
      "  \"avoid this warning.\", FutureWarning)\n",
      "C:\\ProgramData\\Anaconda3\\lib\\site-packages\\sklearn\\svm\\base.py:196: FutureWarning: The default value of gamma will change from 'auto' to 'scale' in version 0.22 to account better for unscaled features. Set gamma explicitly to 'auto' or 'scale' to avoid this warning.\n",
      "  \"avoid this warning.\", FutureWarning)\n",
      "C:\\ProgramData\\Anaconda3\\lib\\site-packages\\sklearn\\svm\\base.py:196: FutureWarning: The default value of gamma will change from 'auto' to 'scale' in version 0.22 to account better for unscaled features. Set gamma explicitly to 'auto' or 'scale' to avoid this warning.\n",
      "  \"avoid this warning.\", FutureWarning)\n"
     ]
    },
    {
     "name": "stdout",
     "output_type": "stream",
     "text": [
      "[CV] . C=0.01, epsilon=0.001, score=0.08777221678834579, total=   0.0s\n",
      "[CV] C=0.01, epsilon=0.001 ...........................................\n",
      "[CV] .. C=0.01, epsilon=0.001, score=0.0656643942914269, total=   0.0s\n",
      "[CV] C=0.01, epsilon=0.01 ............................................\n",
      "[CV] .. C=0.01, epsilon=0.01, score=0.05326109215678776, total=   0.0s\n",
      "[CV] C=0.01, epsilon=0.01 ............................................\n"
     ]
    },
    {
     "name": "stderr",
     "output_type": "stream",
     "text": [
      "C:\\ProgramData\\Anaconda3\\lib\\site-packages\\sklearn\\svm\\base.py:196: FutureWarning: The default value of gamma will change from 'auto' to 'scale' in version 0.22 to account better for unscaled features. Set gamma explicitly to 'auto' or 'scale' to avoid this warning.\n",
      "  \"avoid this warning.\", FutureWarning)\n",
      "C:\\ProgramData\\Anaconda3\\lib\\site-packages\\sklearn\\svm\\base.py:196: FutureWarning: The default value of gamma will change from 'auto' to 'scale' in version 0.22 to account better for unscaled features. Set gamma explicitly to 'auto' or 'scale' to avoid this warning.\n",
      "  \"avoid this warning.\", FutureWarning)\n",
      "C:\\ProgramData\\Anaconda3\\lib\\site-packages\\sklearn\\svm\\base.py:196: FutureWarning: The default value of gamma will change from 'auto' to 'scale' in version 0.22 to account better for unscaled features. Set gamma explicitly to 'auto' or 'scale' to avoid this warning.\n",
      "  \"avoid this warning.\", FutureWarning)\n"
     ]
    },
    {
     "name": "stdout",
     "output_type": "stream",
     "text": [
      "[CV] .... C=0.01, epsilon=0.01, score=0.087798861435328, total=   0.0s\n",
      "[CV] C=0.01, epsilon=0.01 ............................................\n",
      "[CV] .. C=0.01, epsilon=0.01, score=0.06448162580900008, total=   0.0s\n",
      "[CV] C=0.01, epsilon=0.1 .............................................\n",
      "[CV] .. C=0.01, epsilon=0.1, score=0.057853906411568616, total=   0.0s\n",
      "[CV] C=0.01, epsilon=0.1 .............................................\n",
      "[CV] ... C=0.01, epsilon=0.1, score=0.09868212325460946, total=   0.0s"
     ]
    },
    {
     "name": "stderr",
     "output_type": "stream",
     "text": [
      "C:\\ProgramData\\Anaconda3\\lib\\site-packages\\sklearn\\svm\\base.py:196: FutureWarning: The default value of gamma will change from 'auto' to 'scale' in version 0.22 to account better for unscaled features. Set gamma explicitly to 'auto' or 'scale' to avoid this warning.\n",
      "  \"avoid this warning.\", FutureWarning)\n",
      "C:\\ProgramData\\Anaconda3\\lib\\site-packages\\sklearn\\svm\\base.py:196: FutureWarning: The default value of gamma will change from 'auto' to 'scale' in version 0.22 to account better for unscaled features. Set gamma explicitly to 'auto' or 'scale' to avoid this warning.\n",
      "  \"avoid this warning.\", FutureWarning)\n",
      "C:\\ProgramData\\Anaconda3\\lib\\site-packages\\sklearn\\svm\\base.py:196: FutureWarning: The default value of gamma will change from 'auto' to 'scale' in version 0.22 to account better for unscaled features. Set gamma explicitly to 'auto' or 'scale' to avoid this warning.\n",
      "  \"avoid this warning.\", FutureWarning)\n"
     ]
    },
    {
     "name": "stdout",
     "output_type": "stream",
     "text": [
      "\n",
      "[CV] C=0.01, epsilon=0.1 .............................................\n",
      "[CV] ... C=0.01, epsilon=0.1, score=0.08357998014594037, total=   0.0s\n",
      "[CV] C=0.01, epsilon=1 ...............................................\n",
      "[CV] ..... C=0.01, epsilon=1, score=0.05372077308260881, total=   0.0s\n",
      "[CV] C=0.01, epsilon=1 ...............................................\n",
      "[CV] ..... C=0.01, epsilon=1, score=0.04714959374536298, total=   0.0s\n",
      "[CV] C=0.01, epsilon=1 ...............................................\n",
      "[CV] ..... C=0.01, epsilon=1, score=0.07227720658974858, total=   0.0s"
     ]
    },
    {
     "name": "stderr",
     "output_type": "stream",
     "text": [
      "C:\\ProgramData\\Anaconda3\\lib\\site-packages\\sklearn\\svm\\base.py:196: FutureWarning: The default value of gamma will change from 'auto' to 'scale' in version 0.22 to account better for unscaled features. Set gamma explicitly to 'auto' or 'scale' to avoid this warning.\n",
      "  \"avoid this warning.\", FutureWarning)\n",
      "C:\\ProgramData\\Anaconda3\\lib\\site-packages\\sklearn\\svm\\base.py:196: FutureWarning: The default value of gamma will change from 'auto' to 'scale' in version 0.22 to account better for unscaled features. Set gamma explicitly to 'auto' or 'scale' to avoid this warning.\n",
      "  \"avoid this warning.\", FutureWarning)\n",
      "C:\\ProgramData\\Anaconda3\\lib\\site-packages\\sklearn\\svm\\base.py:196: FutureWarning: The default value of gamma will change from 'auto' to 'scale' in version 0.22 to account better for unscaled features. Set gamma explicitly to 'auto' or 'scale' to avoid this warning.\n",
      "  \"avoid this warning.\", FutureWarning)\n",
      "C:\\ProgramData\\Anaconda3\\lib\\site-packages\\sklearn\\svm\\base.py:196: FutureWarning: The default value of gamma will change from 'auto' to 'scale' in version 0.22 to account better for unscaled features. Set gamma explicitly to 'auto' or 'scale' to avoid this warning.\n",
      "  \"avoid this warning.\", FutureWarning)\n",
      "C:\\ProgramData\\Anaconda3\\lib\\site-packages\\sklearn\\svm\\base.py:196: FutureWarning: The default value of gamma will change from 'auto' to 'scale' in version 0.22 to account better for unscaled features. Set gamma explicitly to 'auto' or 'scale' to avoid this warning.\n",
      "  \"avoid this warning.\", FutureWarning)\n",
      "C:\\ProgramData\\Anaconda3\\lib\\site-packages\\sklearn\\svm\\base.py:196: FutureWarning: The default value of gamma will change from 'auto' to 'scale' in version 0.22 to account better for unscaled features. Set gamma explicitly to 'auto' or 'scale' to avoid this warning.\n",
      "  \"avoid this warning.\", FutureWarning)\n",
      "C:\\ProgramData\\Anaconda3\\lib\\site-packages\\sklearn\\svm\\base.py:196: FutureWarning: The default value of gamma will change from 'auto' to 'scale' in version 0.22 to account better for unscaled features. Set gamma explicitly to 'auto' or 'scale' to avoid this warning.\n",
      "  \"avoid this warning.\", FutureWarning)\n",
      "C:\\ProgramData\\Anaconda3\\lib\\site-packages\\sklearn\\svm\\base.py:196: FutureWarning: The default value of gamma will change from 'auto' to 'scale' in version 0.22 to account better for unscaled features. Set gamma explicitly to 'auto' or 'scale' to avoid this warning.\n",
      "  \"avoid this warning.\", FutureWarning)\n",
      "C:\\ProgramData\\Anaconda3\\lib\\site-packages\\sklearn\\svm\\base.py:196: FutureWarning: The default value of gamma will change from 'auto' to 'scale' in version 0.22 to account better for unscaled features. Set gamma explicitly to 'auto' or 'scale' to avoid this warning.\n",
      "  \"avoid this warning.\", FutureWarning)\n",
      "C:\\ProgramData\\Anaconda3\\lib\\site-packages\\sklearn\\svm\\base.py:196: FutureWarning: The default value of gamma will change from 'auto' to 'scale' in version 0.22 to account better for unscaled features. Set gamma explicitly to 'auto' or 'scale' to avoid this warning.\n",
      "  \"avoid this warning.\", FutureWarning)\n"
     ]
    },
    {
     "name": "stdout",
     "output_type": "stream",
     "text": [
      "\n",
      "[CV] C=0.01, epsilon=10 ..............................................\n",
      "[CV] ... C=0.01, epsilon=10, score=-0.16216801566532935, total=   0.0s\n",
      "[CV] C=0.01, epsilon=10 ..............................................\n",
      "[CV] ... C=0.01, epsilon=10, score=-0.17392444435364163, total=   0.0s\n",
      "[CV] C=0.01, epsilon=10 ..............................................\n",
      "[CV] ... C=0.01, epsilon=10, score=-0.18318379680369556, total=   0.0s\n",
      "[CV] C=0.01, epsilon=100 .............................................\n",
      "[CV] .. C=0.01, epsilon=100, score=-0.16216801566532935, total=   0.0s\n",
      "[CV] C=0.01, epsilon=100 .............................................\n",
      "[CV] .. C=0.01, epsilon=100, score=-0.17392444435364407, total=   0.0s\n",
      "[CV] C=0.01, epsilon=100 .............................................\n",
      "[CV] .. C=0.01, epsilon=100, score=-0.18318379680369556, total=   0.0s\n",
      "[CV] C=0.01, epsilon=1000 ............................................\n",
      "[CV] . C=0.01, epsilon=1000, score=-0.16216801566532935, total=   0.0s\n",
      "[CV] C=0.01, epsilon=1000 ............................................\n",
      "[CV] . C=0.01, epsilon=1000, score=-0.17392444435364762, total=   0.0s\n",
      "[CV] C=0.01, epsilon=1000 ............................................\n",
      "[CV] . C=0.01, epsilon=1000, score=-0.18318379680369556, total=   0.0s\n",
      "[CV] C=0.1, epsilon=0.001 ............................................\n",
      "[CV] ... C=0.1, epsilon=0.001, score=0.2796458841594115, total=   0.0s"
     ]
    },
    {
     "name": "stderr",
     "output_type": "stream",
     "text": [
      "C:\\ProgramData\\Anaconda3\\lib\\site-packages\\sklearn\\svm\\base.py:196: FutureWarning: The default value of gamma will change from 'auto' to 'scale' in version 0.22 to account better for unscaled features. Set gamma explicitly to 'auto' or 'scale' to avoid this warning.\n",
      "  \"avoid this warning.\", FutureWarning)\n",
      "C:\\ProgramData\\Anaconda3\\lib\\site-packages\\sklearn\\svm\\base.py:196: FutureWarning: The default value of gamma will change from 'auto' to 'scale' in version 0.22 to account better for unscaled features. Set gamma explicitly to 'auto' or 'scale' to avoid this warning.\n",
      "  \"avoid this warning.\", FutureWarning)\n",
      "C:\\ProgramData\\Anaconda3\\lib\\site-packages\\sklearn\\svm\\base.py:196: FutureWarning: The default value of gamma will change from 'auto' to 'scale' in version 0.22 to account better for unscaled features. Set gamma explicitly to 'auto' or 'scale' to avoid this warning.\n",
      "  \"avoid this warning.\", FutureWarning)\n",
      "C:\\ProgramData\\Anaconda3\\lib\\site-packages\\sklearn\\svm\\base.py:196: FutureWarning: The default value of gamma will change from 'auto' to 'scale' in version 0.22 to account better for unscaled features. Set gamma explicitly to 'auto' or 'scale' to avoid this warning.\n",
      "  \"avoid this warning.\", FutureWarning)\n"
     ]
    },
    {
     "name": "stdout",
     "output_type": "stream",
     "text": [
      "\n",
      "[CV] C=0.1, epsilon=0.001 ............................................\n",
      "[CV] ... C=0.1, epsilon=0.001, score=0.3352372735387248, total=   0.0s\n",
      "[CV] C=0.1, epsilon=0.001 ............................................\n",
      "[CV] ... C=0.1, epsilon=0.001, score=0.3573496676443634, total=   0.0s\n",
      "[CV] C=0.1, epsilon=0.01 .............................................\n"
     ]
    },
    {
     "name": "stderr",
     "output_type": "stream",
     "text": [
      "C:\\ProgramData\\Anaconda3\\lib\\site-packages\\sklearn\\svm\\base.py:196: FutureWarning: The default value of gamma will change from 'auto' to 'scale' in version 0.22 to account better for unscaled features. Set gamma explicitly to 'auto' or 'scale' to avoid this warning.\n",
      "  \"avoid this warning.\", FutureWarning)\n",
      "C:\\ProgramData\\Anaconda3\\lib\\site-packages\\sklearn\\svm\\base.py:196: FutureWarning: The default value of gamma will change from 'auto' to 'scale' in version 0.22 to account better for unscaled features. Set gamma explicitly to 'auto' or 'scale' to avoid this warning.\n",
      "  \"avoid this warning.\", FutureWarning)\n",
      "C:\\ProgramData\\Anaconda3\\lib\\site-packages\\sklearn\\svm\\base.py:196: FutureWarning: The default value of gamma will change from 'auto' to 'scale' in version 0.22 to account better for unscaled features. Set gamma explicitly to 'auto' or 'scale' to avoid this warning.\n",
      "  \"avoid this warning.\", FutureWarning)\n"
     ]
    },
    {
     "name": "stdout",
     "output_type": "stream",
     "text": [
      "[CV] ... C=0.1, epsilon=0.01, score=0.28038072442938566, total=   0.0s\n",
      "[CV] C=0.1, epsilon=0.01 .............................................\n",
      "[CV] .... C=0.1, epsilon=0.01, score=0.3342030221448927, total=   0.0s\n",
      "[CV] C=0.1, epsilon=0.01 .............................................\n",
      "[CV] .... C=0.1, epsilon=0.01, score=0.3561812107809148, total=   0.0s\n",
      "[CV] C=0.1, epsilon=0.1 ..............................................\n"
     ]
    },
    {
     "name": "stderr",
     "output_type": "stream",
     "text": [
      "C:\\ProgramData\\Anaconda3\\lib\\site-packages\\sklearn\\svm\\base.py:196: FutureWarning: The default value of gamma will change from 'auto' to 'scale' in version 0.22 to account better for unscaled features. Set gamma explicitly to 'auto' or 'scale' to avoid this warning.\n",
      "  \"avoid this warning.\", FutureWarning)\n",
      "C:\\ProgramData\\Anaconda3\\lib\\site-packages\\sklearn\\svm\\base.py:196: FutureWarning: The default value of gamma will change from 'auto' to 'scale' in version 0.22 to account better for unscaled features. Set gamma explicitly to 'auto' or 'scale' to avoid this warning.\n",
      "  \"avoid this warning.\", FutureWarning)\n",
      "C:\\ProgramData\\Anaconda3\\lib\\site-packages\\sklearn\\svm\\base.py:196: FutureWarning: The default value of gamma will change from 'auto' to 'scale' in version 0.22 to account better for unscaled features. Set gamma explicitly to 'auto' or 'scale' to avoid this warning.\n",
      "  \"avoid this warning.\", FutureWarning)\n"
     ]
    },
    {
     "name": "stdout",
     "output_type": "stream",
     "text": [
      "[CV] .... C=0.1, epsilon=0.1, score=0.28174778467072314, total=   0.0s\n",
      "[CV] C=0.1, epsilon=0.1 ..............................................\n",
      "[CV] .... C=0.1, epsilon=0.1, score=0.33021617161675787, total=   0.0s\n",
      "[CV] C=0.1, epsilon=0.1 ..............................................\n",
      "[CV] .... C=0.1, epsilon=0.1, score=0.35650505087661055, total=   0.0s\n",
      "[CV] C=0.1, epsilon=1 ................................................\n",
      "[CV] ........ C=0.1, epsilon=1, score=0.217603331676273, total=   0.0s"
     ]
    },
    {
     "name": "stderr",
     "output_type": "stream",
     "text": [
      "C:\\ProgramData\\Anaconda3\\lib\\site-packages\\sklearn\\svm\\base.py:196: FutureWarning: The default value of gamma will change from 'auto' to 'scale' in version 0.22 to account better for unscaled features. Set gamma explicitly to 'auto' or 'scale' to avoid this warning.\n",
      "  \"avoid this warning.\", FutureWarning)\n",
      "C:\\ProgramData\\Anaconda3\\lib\\site-packages\\sklearn\\svm\\base.py:196: FutureWarning: The default value of gamma will change from 'auto' to 'scale' in version 0.22 to account better for unscaled features. Set gamma explicitly to 'auto' or 'scale' to avoid this warning.\n",
      "  \"avoid this warning.\", FutureWarning)\n",
      "C:\\ProgramData\\Anaconda3\\lib\\site-packages\\sklearn\\svm\\base.py:196: FutureWarning: The default value of gamma will change from 'auto' to 'scale' in version 0.22 to account better for unscaled features. Set gamma explicitly to 'auto' or 'scale' to avoid this warning.\n",
      "  \"avoid this warning.\", FutureWarning)\n",
      "C:\\ProgramData\\Anaconda3\\lib\\site-packages\\sklearn\\svm\\base.py:196: FutureWarning: The default value of gamma will change from 'auto' to 'scale' in version 0.22 to account better for unscaled features. Set gamma explicitly to 'auto' or 'scale' to avoid this warning.\n",
      "  \"avoid this warning.\", FutureWarning)\n",
      "C:\\ProgramData\\Anaconda3\\lib\\site-packages\\sklearn\\svm\\base.py:196: FutureWarning: The default value of gamma will change from 'auto' to 'scale' in version 0.22 to account better for unscaled features. Set gamma explicitly to 'auto' or 'scale' to avoid this warning.\n",
      "  \"avoid this warning.\", FutureWarning)\n",
      "C:\\ProgramData\\Anaconda3\\lib\\site-packages\\sklearn\\svm\\base.py:196: FutureWarning: The default value of gamma will change from 'auto' to 'scale' in version 0.22 to account better for unscaled features. Set gamma explicitly to 'auto' or 'scale' to avoid this warning.\n",
      "  \"avoid this warning.\", FutureWarning)\n"
     ]
    },
    {
     "name": "stdout",
     "output_type": "stream",
     "text": [
      "\n",
      "[CV] C=0.1, epsilon=1 ................................................\n",
      "[CV] ....... C=0.1, epsilon=1, score=0.2720848612326947, total=   0.0s\n",
      "[CV] C=0.1, epsilon=1 ................................................\n",
      "[CV] ...... C=0.1, epsilon=1, score=0.29309448810757877, total=   0.0s\n",
      "[CV] C=0.1, epsilon=10 ...............................................\n",
      "[CV] .... C=0.1, epsilon=10, score=-0.16216801566532935, total=   0.0s\n",
      "[CV] C=0.1, epsilon=10 ...............................................\n",
      "[CV] .... C=0.1, epsilon=10, score=-0.17392444435364163, total=   0.0s\n",
      "[CV] C=0.1, epsilon=10 ...............................................\n",
      "[CV] .... C=0.1, epsilon=10, score=-0.18318379680369556, total=   0.0s\n",
      "[CV] C=0.1, epsilon=100 ..............................................\n",
      "[CV] ... C=0.1, epsilon=100, score=-0.16216801566532935, total=   0.0s\n",
      "[CV] C=0.1, epsilon=100 ..............................................\n",
      "[CV] ... C=0.1, epsilon=100, score=-0.17392444435364407, total=   0.0s\n",
      "[CV] C=0.1, epsilon=100 ..............................................\n"
     ]
    },
    {
     "name": "stderr",
     "output_type": "stream",
     "text": [
      "C:\\ProgramData\\Anaconda3\\lib\\site-packages\\sklearn\\svm\\base.py:196: FutureWarning: The default value of gamma will change from 'auto' to 'scale' in version 0.22 to account better for unscaled features. Set gamma explicitly to 'auto' or 'scale' to avoid this warning.\n",
      "  \"avoid this warning.\", FutureWarning)\n",
      "C:\\ProgramData\\Anaconda3\\lib\\site-packages\\sklearn\\svm\\base.py:196: FutureWarning: The default value of gamma will change from 'auto' to 'scale' in version 0.22 to account better for unscaled features. Set gamma explicitly to 'auto' or 'scale' to avoid this warning.\n",
      "  \"avoid this warning.\", FutureWarning)\n",
      "C:\\ProgramData\\Anaconda3\\lib\\site-packages\\sklearn\\svm\\base.py:196: FutureWarning: The default value of gamma will change from 'auto' to 'scale' in version 0.22 to account better for unscaled features. Set gamma explicitly to 'auto' or 'scale' to avoid this warning.\n",
      "  \"avoid this warning.\", FutureWarning)\n",
      "C:\\ProgramData\\Anaconda3\\lib\\site-packages\\sklearn\\svm\\base.py:196: FutureWarning: The default value of gamma will change from 'auto' to 'scale' in version 0.22 to account better for unscaled features. Set gamma explicitly to 'auto' or 'scale' to avoid this warning.\n",
      "  \"avoid this warning.\", FutureWarning)\n",
      "C:\\ProgramData\\Anaconda3\\lib\\site-packages\\sklearn\\svm\\base.py:196: FutureWarning: The default value of gamma will change from 'auto' to 'scale' in version 0.22 to account better for unscaled features. Set gamma explicitly to 'auto' or 'scale' to avoid this warning.\n",
      "  \"avoid this warning.\", FutureWarning)\n",
      "C:\\ProgramData\\Anaconda3\\lib\\site-packages\\sklearn\\svm\\base.py:196: FutureWarning: The default value of gamma will change from 'auto' to 'scale' in version 0.22 to account better for unscaled features. Set gamma explicitly to 'auto' or 'scale' to avoid this warning.\n",
      "  \"avoid this warning.\", FutureWarning)\n",
      "C:\\ProgramData\\Anaconda3\\lib\\site-packages\\sklearn\\svm\\base.py:196: FutureWarning: The default value of gamma will change from 'auto' to 'scale' in version 0.22 to account better for unscaled features. Set gamma explicitly to 'auto' or 'scale' to avoid this warning.\n",
      "  \"avoid this warning.\", FutureWarning)\n"
     ]
    },
    {
     "name": "stdout",
     "output_type": "stream",
     "text": [
      "[CV] ... C=0.1, epsilon=100, score=-0.18318379680369556, total=   0.0s\n",
      "[CV] C=0.1, epsilon=1000 .............................................\n",
      "[CV] .. C=0.1, epsilon=1000, score=-0.16216801566532935, total=   0.0s\n",
      "[CV] C=0.1, epsilon=1000 .............................................\n",
      "[CV] .. C=0.1, epsilon=1000, score=-0.17392444435364762, total=   0.0s\n",
      "[CV] C=0.1, epsilon=1000 .............................................\n",
      "[CV] .. C=0.1, epsilon=1000, score=-0.18318379680369556, total=   0.0s\n",
      "[CV] C=1, epsilon=0.001 ..............................................\n",
      "[CV] .... C=1, epsilon=0.001, score=0.34894833110526813, total=   0.0s\n",
      "[CV] C=1, epsilon=0.001 ..............................................\n"
     ]
    },
    {
     "name": "stderr",
     "output_type": "stream",
     "text": [
      "C:\\ProgramData\\Anaconda3\\lib\\site-packages\\sklearn\\svm\\base.py:196: FutureWarning: The default value of gamma will change from 'auto' to 'scale' in version 0.22 to account better for unscaled features. Set gamma explicitly to 'auto' or 'scale' to avoid this warning.\n",
      "  \"avoid this warning.\", FutureWarning)\n",
      "C:\\ProgramData\\Anaconda3\\lib\\site-packages\\sklearn\\svm\\base.py:196: FutureWarning: The default value of gamma will change from 'auto' to 'scale' in version 0.22 to account better for unscaled features. Set gamma explicitly to 'auto' or 'scale' to avoid this warning.\n",
      "  \"avoid this warning.\", FutureWarning)\n",
      "C:\\ProgramData\\Anaconda3\\lib\\site-packages\\sklearn\\svm\\base.py:196: FutureWarning: The default value of gamma will change from 'auto' to 'scale' in version 0.22 to account better for unscaled features. Set gamma explicitly to 'auto' or 'scale' to avoid this warning.\n",
      "  \"avoid this warning.\", FutureWarning)\n"
     ]
    },
    {
     "name": "stdout",
     "output_type": "stream",
     "text": [
      "[CV] .... C=1, epsilon=0.001, score=0.38634718999308726, total=   0.0s\n",
      "[CV] C=1, epsilon=0.001 ..............................................\n",
      "[CV] ..... C=1, epsilon=0.001, score=0.4272222035526908, total=   0.0s\n",
      "[CV] C=1, epsilon=0.01 ...............................................\n",
      "[CV] ...... C=1, epsilon=0.01, score=0.3485320267641346, total=   0.0s\n",
      "[CV] C=1, epsilon=0.01 ...............................................\n",
      "[CV] ...... C=1, epsilon=0.01, score=0.3872459871606385, total=   0.0s\n",
      "[CV] C=1, epsilon=0.01 ...............................................\n",
      "[CV] ...... C=1, epsilon=0.01, score=0.4277515186233387, total=   0.0s\n",
      "[CV] C=1, epsilon=0.1 ................................................\n"
     ]
    },
    {
     "name": "stderr",
     "output_type": "stream",
     "text": [
      "C:\\ProgramData\\Anaconda3\\lib\\site-packages\\sklearn\\svm\\base.py:196: FutureWarning: The default value of gamma will change from 'auto' to 'scale' in version 0.22 to account better for unscaled features. Set gamma explicitly to 'auto' or 'scale' to avoid this warning.\n",
      "  \"avoid this warning.\", FutureWarning)\n",
      "C:\\ProgramData\\Anaconda3\\lib\\site-packages\\sklearn\\svm\\base.py:196: FutureWarning: The default value of gamma will change from 'auto' to 'scale' in version 0.22 to account better for unscaled features. Set gamma explicitly to 'auto' or 'scale' to avoid this warning.\n",
      "  \"avoid this warning.\", FutureWarning)\n",
      "C:\\ProgramData\\Anaconda3\\lib\\site-packages\\sklearn\\svm\\base.py:196: FutureWarning: The default value of gamma will change from 'auto' to 'scale' in version 0.22 to account better for unscaled features. Set gamma explicitly to 'auto' or 'scale' to avoid this warning.\n",
      "  \"avoid this warning.\", FutureWarning)\n"
     ]
    },
    {
     "name": "stdout",
     "output_type": "stream",
     "text": [
      "[CV] ....... C=1, epsilon=0.1, score=0.3468103244483955, total=   0.0s\n",
      "[CV] C=1, epsilon=0.1 ................................................\n",
      "[CV] ...... C=1, epsilon=0.1, score=0.38734997304573904, total=   0.0s\n",
      "[CV] C=1, epsilon=0.1 ................................................\n",
      "[CV] ...... C=1, epsilon=0.1, score=0.42673273591576577, total=   0.0s\n",
      "[CV] C=1, epsilon=1 ..................................................\n",
      "[CV] ........ C=1, epsilon=1, score=0.30056779248071686, total=   0.0s"
     ]
    },
    {
     "name": "stderr",
     "output_type": "stream",
     "text": [
      "C:\\ProgramData\\Anaconda3\\lib\\site-packages\\sklearn\\svm\\base.py:196: FutureWarning: The default value of gamma will change from 'auto' to 'scale' in version 0.22 to account better for unscaled features. Set gamma explicitly to 'auto' or 'scale' to avoid this warning.\n",
      "  \"avoid this warning.\", FutureWarning)\n",
      "C:\\ProgramData\\Anaconda3\\lib\\site-packages\\sklearn\\svm\\base.py:196: FutureWarning: The default value of gamma will change from 'auto' to 'scale' in version 0.22 to account better for unscaled features. Set gamma explicitly to 'auto' or 'scale' to avoid this warning.\n",
      "  \"avoid this warning.\", FutureWarning)\n",
      "C:\\ProgramData\\Anaconda3\\lib\\site-packages\\sklearn\\svm\\base.py:196: FutureWarning: The default value of gamma will change from 'auto' to 'scale' in version 0.22 to account better for unscaled features. Set gamma explicitly to 'auto' or 'scale' to avoid this warning.\n",
      "  \"avoid this warning.\", FutureWarning)\n"
     ]
    },
    {
     "name": "stdout",
     "output_type": "stream",
     "text": [
      "\n",
      "[CV] C=1, epsilon=1 ..................................................\n",
      "[CV] ......... C=1, epsilon=1, score=0.3475394554579234, total=   0.0s\n",
      "[CV] C=1, epsilon=1 ..................................................\n",
      "[CV] ........ C=1, epsilon=1, score=0.38061411052728933, total=   0.0s\n",
      "[CV] C=1, epsilon=10 .................................................\n",
      "[CV] ...... C=1, epsilon=10, score=-0.16216801566532935, total=   0.0s\n",
      "[CV] C=1, epsilon=10 .................................................\n",
      "[CV] ...... C=1, epsilon=10, score=-0.17392444435364163, total=   0.0s\n",
      "[CV] C=1, epsilon=10 .................................................\n",
      "[CV] ...... C=1, epsilon=10, score=-0.18318379680369556, total=   0.0s\n",
      "[CV] C=1, epsilon=100 ................................................\n",
      "[CV] ..... C=1, epsilon=100, score=-0.16216801566532935, total=   0.0s\n",
      "[CV] C=1, epsilon=100 ................................................\n",
      "[CV] ..... C=1, epsilon=100, score=-0.17392444435364407, total=   0.0s\n",
      "[CV] C=1, epsilon=100 ................................................\n",
      "[CV] ..... C=1, epsilon=100, score=-0.18318379680369556, total=   0.0s"
     ]
    },
    {
     "name": "stderr",
     "output_type": "stream",
     "text": [
      "C:\\ProgramData\\Anaconda3\\lib\\site-packages\\sklearn\\svm\\base.py:196: FutureWarning: The default value of gamma will change from 'auto' to 'scale' in version 0.22 to account better for unscaled features. Set gamma explicitly to 'auto' or 'scale' to avoid this warning.\n",
      "  \"avoid this warning.\", FutureWarning)\n",
      "C:\\ProgramData\\Anaconda3\\lib\\site-packages\\sklearn\\svm\\base.py:196: FutureWarning: The default value of gamma will change from 'auto' to 'scale' in version 0.22 to account better for unscaled features. Set gamma explicitly to 'auto' or 'scale' to avoid this warning.\n",
      "  \"avoid this warning.\", FutureWarning)\n",
      "C:\\ProgramData\\Anaconda3\\lib\\site-packages\\sklearn\\svm\\base.py:196: FutureWarning: The default value of gamma will change from 'auto' to 'scale' in version 0.22 to account better for unscaled features. Set gamma explicitly to 'auto' or 'scale' to avoid this warning.\n",
      "  \"avoid this warning.\", FutureWarning)\n",
      "C:\\ProgramData\\Anaconda3\\lib\\site-packages\\sklearn\\svm\\base.py:196: FutureWarning: The default value of gamma will change from 'auto' to 'scale' in version 0.22 to account better for unscaled features. Set gamma explicitly to 'auto' or 'scale' to avoid this warning.\n",
      "  \"avoid this warning.\", FutureWarning)\n",
      "C:\\ProgramData\\Anaconda3\\lib\\site-packages\\sklearn\\svm\\base.py:196: FutureWarning: The default value of gamma will change from 'auto' to 'scale' in version 0.22 to account better for unscaled features. Set gamma explicitly to 'auto' or 'scale' to avoid this warning.\n",
      "  \"avoid this warning.\", FutureWarning)\n",
      "C:\\ProgramData\\Anaconda3\\lib\\site-packages\\sklearn\\svm\\base.py:196: FutureWarning: The default value of gamma will change from 'auto' to 'scale' in version 0.22 to account better for unscaled features. Set gamma explicitly to 'auto' or 'scale' to avoid this warning.\n",
      "  \"avoid this warning.\", FutureWarning)\n",
      "C:\\ProgramData\\Anaconda3\\lib\\site-packages\\sklearn\\svm\\base.py:196: FutureWarning: The default value of gamma will change from 'auto' to 'scale' in version 0.22 to account better for unscaled features. Set gamma explicitly to 'auto' or 'scale' to avoid this warning.\n",
      "  \"avoid this warning.\", FutureWarning)\n",
      "C:\\ProgramData\\Anaconda3\\lib\\site-packages\\sklearn\\svm\\base.py:196: FutureWarning: The default value of gamma will change from 'auto' to 'scale' in version 0.22 to account better for unscaled features. Set gamma explicitly to 'auto' or 'scale' to avoid this warning.\n",
      "  \"avoid this warning.\", FutureWarning)\n"
     ]
    },
    {
     "name": "stdout",
     "output_type": "stream",
     "text": [
      "\n",
      "[CV] C=1, epsilon=1000 ...............................................\n",
      "[CV] .... C=1, epsilon=1000, score=-0.16216801566532935, total=   0.0s\n",
      "[CV] C=1, epsilon=1000 ...............................................\n",
      "[CV] .... C=1, epsilon=1000, score=-0.17392444435364762, total=   0.0s\n",
      "[CV] C=1, epsilon=1000 ...............................................\n",
      "[CV] .... C=1, epsilon=1000, score=-0.18318379680369556, total=   0.0s\n",
      "[CV] C=10, epsilon=0.001 .............................................\n",
      "[CV] .... C=10, epsilon=0.001, score=0.5055799444662948, total=   0.0s\n",
      "[CV] C=10, epsilon=0.001 .............................................\n"
     ]
    },
    {
     "name": "stderr",
     "output_type": "stream",
     "text": [
      "C:\\ProgramData\\Anaconda3\\lib\\site-packages\\sklearn\\svm\\base.py:196: FutureWarning: The default value of gamma will change from 'auto' to 'scale' in version 0.22 to account better for unscaled features. Set gamma explicitly to 'auto' or 'scale' to avoid this warning.\n",
      "  \"avoid this warning.\", FutureWarning)\n",
      "C:\\ProgramData\\Anaconda3\\lib\\site-packages\\sklearn\\svm\\base.py:196: FutureWarning: The default value of gamma will change from 'auto' to 'scale' in version 0.22 to account better for unscaled features. Set gamma explicitly to 'auto' or 'scale' to avoid this warning.\n",
      "  \"avoid this warning.\", FutureWarning)\n",
      "C:\\ProgramData\\Anaconda3\\lib\\site-packages\\sklearn\\svm\\base.py:196: FutureWarning: The default value of gamma will change from 'auto' to 'scale' in version 0.22 to account better for unscaled features. Set gamma explicitly to 'auto' or 'scale' to avoid this warning.\n",
      "  \"avoid this warning.\", FutureWarning)\n",
      "C:\\ProgramData\\Anaconda3\\lib\\site-packages\\sklearn\\svm\\base.py:196: FutureWarning: The default value of gamma will change from 'auto' to 'scale' in version 0.22 to account better for unscaled features. Set gamma explicitly to 'auto' or 'scale' to avoid this warning.\n",
      "  \"avoid this warning.\", FutureWarning)\n",
      "C:\\ProgramData\\Anaconda3\\lib\\site-packages\\sklearn\\svm\\base.py:196: FutureWarning: The default value of gamma will change from 'auto' to 'scale' in version 0.22 to account better for unscaled features. Set gamma explicitly to 'auto' or 'scale' to avoid this warning.\n",
      "  \"avoid this warning.\", FutureWarning)\n"
     ]
    },
    {
     "name": "stdout",
     "output_type": "stream",
     "text": [
      "[CV] .... C=10, epsilon=0.001, score=0.5715973129924978, total=   0.0s\n",
      "[CV] C=10, epsilon=0.001 .............................................\n",
      "[CV] .... C=10, epsilon=0.001, score=0.6040248398584336, total=   0.0s\n",
      "[CV] C=10, epsilon=0.01 ..............................................\n",
      "[CV] ..... C=10, epsilon=0.01, score=0.5046080369160356, total=   0.0s\n",
      "[CV] C=10, epsilon=0.01 ..............................................\n"
     ]
    },
    {
     "name": "stderr",
     "output_type": "stream",
     "text": [
      "C:\\ProgramData\\Anaconda3\\lib\\site-packages\\sklearn\\svm\\base.py:196: FutureWarning: The default value of gamma will change from 'auto' to 'scale' in version 0.22 to account better for unscaled features. Set gamma explicitly to 'auto' or 'scale' to avoid this warning.\n",
      "  \"avoid this warning.\", FutureWarning)\n",
      "C:\\ProgramData\\Anaconda3\\lib\\site-packages\\sklearn\\svm\\base.py:196: FutureWarning: The default value of gamma will change from 'auto' to 'scale' in version 0.22 to account better for unscaled features. Set gamma explicitly to 'auto' or 'scale' to avoid this warning.\n",
      "  \"avoid this warning.\", FutureWarning)\n",
      "C:\\ProgramData\\Anaconda3\\lib\\site-packages\\sklearn\\svm\\base.py:196: FutureWarning: The default value of gamma will change from 'auto' to 'scale' in version 0.22 to account better for unscaled features. Set gamma explicitly to 'auto' or 'scale' to avoid this warning.\n",
      "  \"avoid this warning.\", FutureWarning)\n"
     ]
    },
    {
     "name": "stdout",
     "output_type": "stream",
     "text": [
      "[CV] ..... C=10, epsilon=0.01, score=0.5709659137729306, total=   0.0s\n",
      "[CV] C=10, epsilon=0.01 ..............................................\n",
      "[CV] ..... C=10, epsilon=0.01, score=0.6039128197678307, total=   0.0s\n",
      "[CV] C=10, epsilon=0.1 ...............................................\n",
      "[CV] ..... C=10, epsilon=0.1, score=0.49797443969094946, total=   0.0s\n",
      "[CV] C=10, epsilon=0.1 ...............................................\n"
     ]
    },
    {
     "name": "stderr",
     "output_type": "stream",
     "text": [
      "C:\\ProgramData\\Anaconda3\\lib\\site-packages\\sklearn\\svm\\base.py:196: FutureWarning: The default value of gamma will change from 'auto' to 'scale' in version 0.22 to account better for unscaled features. Set gamma explicitly to 'auto' or 'scale' to avoid this warning.\n",
      "  \"avoid this warning.\", FutureWarning)\n",
      "C:\\ProgramData\\Anaconda3\\lib\\site-packages\\sklearn\\svm\\base.py:196: FutureWarning: The default value of gamma will change from 'auto' to 'scale' in version 0.22 to account better for unscaled features. Set gamma explicitly to 'auto' or 'scale' to avoid this warning.\n",
      "  \"avoid this warning.\", FutureWarning)\n",
      "C:\\ProgramData\\Anaconda3\\lib\\site-packages\\sklearn\\svm\\base.py:196: FutureWarning: The default value of gamma will change from 'auto' to 'scale' in version 0.22 to account better for unscaled features. Set gamma explicitly to 'auto' or 'scale' to avoid this warning.\n",
      "  \"avoid this warning.\", FutureWarning)\n"
     ]
    },
    {
     "name": "stdout",
     "output_type": "stream",
     "text": [
      "[CV] ....... C=10, epsilon=0.1, score=0.570504013677654, total=   0.0s\n",
      "[CV] C=10, epsilon=0.1 ...............................................\n",
      "[CV] ...... C=10, epsilon=0.1, score=0.6095570766571545, total=   0.0s\n",
      "[CV] C=10, epsilon=1 .................................................\n",
      "[CV] ........ C=10, epsilon=1, score=0.4513697906276066, total=   0.0s\n",
      "[CV] C=10, epsilon=1 .................................................\n",
      "[CV] ....... C=10, epsilon=1, score=0.46568756315952775, total=   0.0s\n",
      "[CV] C=10, epsilon=1 .................................................\n",
      "[CV] ......... C=10, epsilon=1, score=0.509844168561389, total=   0.0s"
     ]
    },
    {
     "name": "stderr",
     "output_type": "stream",
     "text": [
      "C:\\ProgramData\\Anaconda3\\lib\\site-packages\\sklearn\\svm\\base.py:196: FutureWarning: The default value of gamma will change from 'auto' to 'scale' in version 0.22 to account better for unscaled features. Set gamma explicitly to 'auto' or 'scale' to avoid this warning.\n",
      "  \"avoid this warning.\", FutureWarning)\n",
      "C:\\ProgramData\\Anaconda3\\lib\\site-packages\\sklearn\\svm\\base.py:196: FutureWarning: The default value of gamma will change from 'auto' to 'scale' in version 0.22 to account better for unscaled features. Set gamma explicitly to 'auto' or 'scale' to avoid this warning.\n",
      "  \"avoid this warning.\", FutureWarning)\n",
      "C:\\ProgramData\\Anaconda3\\lib\\site-packages\\sklearn\\svm\\base.py:196: FutureWarning: The default value of gamma will change from 'auto' to 'scale' in version 0.22 to account better for unscaled features. Set gamma explicitly to 'auto' or 'scale' to avoid this warning.\n",
      "  \"avoid this warning.\", FutureWarning)\n",
      "C:\\ProgramData\\Anaconda3\\lib\\site-packages\\sklearn\\svm\\base.py:196: FutureWarning: The default value of gamma will change from 'auto' to 'scale' in version 0.22 to account better for unscaled features. Set gamma explicitly to 'auto' or 'scale' to avoid this warning.\n",
      "  \"avoid this warning.\", FutureWarning)\n"
     ]
    },
    {
     "name": "stdout",
     "output_type": "stream",
     "text": [
      "\n",
      "[CV] C=10, epsilon=10 ................................................\n",
      "[CV] ..... C=10, epsilon=10, score=-0.16216801566532935, total=   0.0s\n",
      "[CV] C=10, epsilon=10 ................................................\n",
      "[CV] ..... C=10, epsilon=10, score=-0.17392444435364163, total=   0.0s\n",
      "[CV] C=10, epsilon=10 ................................................\n",
      "[CV] ..... C=10, epsilon=10, score=-0.18318379680369556, total=   0.0s\n",
      "[CV] C=10, epsilon=100 ...............................................\n",
      "[CV] .... C=10, epsilon=100, score=-0.16216801566532935, total=   0.0s\n",
      "[CV] C=10, epsilon=100 ...............................................\n",
      "[CV] .... C=10, epsilon=100, score=-0.17392444435364407, total=   0.0s\n",
      "[CV] C=10, epsilon=100 ...............................................\n",
      "[CV] .... C=10, epsilon=100, score=-0.18318379680369556, total=   0.0s\n",
      "[CV] C=10, epsilon=1000 ..............................................\n",
      "[CV] ... C=10, epsilon=1000, score=-0.16216801566532935, total=   0.0s\n",
      "[CV] C=10, epsilon=1000 ..............................................\n",
      "[CV] ... C=10, epsilon=1000, score=-0.17392444435364762, total=   0.0s\n",
      "[CV] C=10, epsilon=1000 ..............................................\n",
      "[CV] ... C=10, epsilon=1000, score=-0.18318379680369556, total=   0.0s\n",
      "[CV] C=100, epsilon=0.001 ............................................\n"
     ]
    },
    {
     "name": "stderr",
     "output_type": "stream",
     "text": [
      "C:\\ProgramData\\Anaconda3\\lib\\site-packages\\sklearn\\svm\\base.py:196: FutureWarning: The default value of gamma will change from 'auto' to 'scale' in version 0.22 to account better for unscaled features. Set gamma explicitly to 'auto' or 'scale' to avoid this warning.\n",
      "  \"avoid this warning.\", FutureWarning)\n",
      "C:\\ProgramData\\Anaconda3\\lib\\site-packages\\sklearn\\svm\\base.py:196: FutureWarning: The default value of gamma will change from 'auto' to 'scale' in version 0.22 to account better for unscaled features. Set gamma explicitly to 'auto' or 'scale' to avoid this warning.\n",
      "  \"avoid this warning.\", FutureWarning)\n",
      "C:\\ProgramData\\Anaconda3\\lib\\site-packages\\sklearn\\svm\\base.py:196: FutureWarning: The default value of gamma will change from 'auto' to 'scale' in version 0.22 to account better for unscaled features. Set gamma explicitly to 'auto' or 'scale' to avoid this warning.\n",
      "  \"avoid this warning.\", FutureWarning)\n",
      "C:\\ProgramData\\Anaconda3\\lib\\site-packages\\sklearn\\svm\\base.py:196: FutureWarning: The default value of gamma will change from 'auto' to 'scale' in version 0.22 to account better for unscaled features. Set gamma explicitly to 'auto' or 'scale' to avoid this warning.\n",
      "  \"avoid this warning.\", FutureWarning)\n",
      "C:\\ProgramData\\Anaconda3\\lib\\site-packages\\sklearn\\svm\\base.py:196: FutureWarning: The default value of gamma will change from 'auto' to 'scale' in version 0.22 to account better for unscaled features. Set gamma explicitly to 'auto' or 'scale' to avoid this warning.\n",
      "  \"avoid this warning.\", FutureWarning)\n",
      "C:\\ProgramData\\Anaconda3\\lib\\site-packages\\sklearn\\svm\\base.py:196: FutureWarning: The default value of gamma will change from 'auto' to 'scale' in version 0.22 to account better for unscaled features. Set gamma explicitly to 'auto' or 'scale' to avoid this warning.\n",
      "  \"avoid this warning.\", FutureWarning)\n",
      "C:\\ProgramData\\Anaconda3\\lib\\site-packages\\sklearn\\svm\\base.py:196: FutureWarning: The default value of gamma will change from 'auto' to 'scale' in version 0.22 to account better for unscaled features. Set gamma explicitly to 'auto' or 'scale' to avoid this warning.\n",
      "  \"avoid this warning.\", FutureWarning)\n",
      "C:\\ProgramData\\Anaconda3\\lib\\site-packages\\sklearn\\svm\\base.py:196: FutureWarning: The default value of gamma will change from 'auto' to 'scale' in version 0.22 to account better for unscaled features. Set gamma explicitly to 'auto' or 'scale' to avoid this warning.\n",
      "  \"avoid this warning.\", FutureWarning)\n",
      "C:\\ProgramData\\Anaconda3\\lib\\site-packages\\sklearn\\svm\\base.py:196: FutureWarning: The default value of gamma will change from 'auto' to 'scale' in version 0.22 to account better for unscaled features. Set gamma explicitly to 'auto' or 'scale' to avoid this warning.\n",
      "  \"avoid this warning.\", FutureWarning)\n",
      "C:\\ProgramData\\Anaconda3\\lib\\site-packages\\sklearn\\svm\\base.py:196: FutureWarning: The default value of gamma will change from 'auto' to 'scale' in version 0.22 to account better for unscaled features. Set gamma explicitly to 'auto' or 'scale' to avoid this warning.\n",
      "  \"avoid this warning.\", FutureWarning)\n"
     ]
    },
    {
     "name": "stdout",
     "output_type": "stream",
     "text": [
      "[CV] .. C=100, epsilon=0.001, score=0.38161207893096377, total=   0.0s\n",
      "[CV] C=100, epsilon=0.001 ............................................\n",
      "[CV] .... C=100, epsilon=0.001, score=0.572152828897474, total=   0.0s\n",
      "[CV] C=100, epsilon=0.001 ............................................\n",
      "[CV] ... C=100, epsilon=0.001, score=0.5589397741225806, total=   0.0s"
     ]
    },
    {
     "name": "stderr",
     "output_type": "stream",
     "text": [
      "C:\\ProgramData\\Anaconda3\\lib\\site-packages\\sklearn\\svm\\base.py:196: FutureWarning: The default value of gamma will change from 'auto' to 'scale' in version 0.22 to account better for unscaled features. Set gamma explicitly to 'auto' or 'scale' to avoid this warning.\n",
      "  \"avoid this warning.\", FutureWarning)\n",
      "C:\\ProgramData\\Anaconda3\\lib\\site-packages\\sklearn\\svm\\base.py:196: FutureWarning: The default value of gamma will change from 'auto' to 'scale' in version 0.22 to account better for unscaled features. Set gamma explicitly to 'auto' or 'scale' to avoid this warning.\n",
      "  \"avoid this warning.\", FutureWarning)\n"
     ]
    },
    {
     "name": "stdout",
     "output_type": "stream",
     "text": [
      "\n",
      "[CV] C=100, epsilon=0.01 .............................................\n",
      "[CV] .... C=100, epsilon=0.01, score=0.3821946974081332, total=   0.0s\n",
      "[CV] C=100, epsilon=0.01 .............................................\n",
      "[CV] .... C=100, epsilon=0.01, score=0.5714642331246087, total=   0.0s"
     ]
    },
    {
     "name": "stderr",
     "output_type": "stream",
     "text": [
      "C:\\ProgramData\\Anaconda3\\lib\\site-packages\\sklearn\\svm\\base.py:196: FutureWarning: The default value of gamma will change from 'auto' to 'scale' in version 0.22 to account better for unscaled features. Set gamma explicitly to 'auto' or 'scale' to avoid this warning.\n",
      "  \"avoid this warning.\", FutureWarning)\n",
      "C:\\ProgramData\\Anaconda3\\lib\\site-packages\\sklearn\\svm\\base.py:196: FutureWarning: The default value of gamma will change from 'auto' to 'scale' in version 0.22 to account better for unscaled features. Set gamma explicitly to 'auto' or 'scale' to avoid this warning.\n",
      "  \"avoid this warning.\", FutureWarning)\n"
     ]
    },
    {
     "name": "stdout",
     "output_type": "stream",
     "text": [
      "\n",
      "[CV] C=100, epsilon=0.01 .............................................\n",
      "[CV] .... C=100, epsilon=0.01, score=0.5595183349811534, total=   0.0s\n",
      "[CV] C=100, epsilon=0.1 ..............................................\n",
      "[CV] ..... C=100, epsilon=0.1, score=0.3985900633408291, total=   0.0s"
     ]
    },
    {
     "name": "stderr",
     "output_type": "stream",
     "text": [
      "C:\\ProgramData\\Anaconda3\\lib\\site-packages\\sklearn\\svm\\base.py:196: FutureWarning: The default value of gamma will change from 'auto' to 'scale' in version 0.22 to account better for unscaled features. Set gamma explicitly to 'auto' or 'scale' to avoid this warning.\n",
      "  \"avoid this warning.\", FutureWarning)\n",
      "C:\\ProgramData\\Anaconda3\\lib\\site-packages\\sklearn\\svm\\base.py:196: FutureWarning: The default value of gamma will change from 'auto' to 'scale' in version 0.22 to account better for unscaled features. Set gamma explicitly to 'auto' or 'scale' to avoid this warning.\n",
      "  \"avoid this warning.\", FutureWarning)\n"
     ]
    },
    {
     "name": "stdout",
     "output_type": "stream",
     "text": [
      "\n",
      "[CV] C=100, epsilon=0.1 ..............................................\n",
      "[CV] ..... C=100, epsilon=0.1, score=0.5625156135495146, total=   0.0s\n",
      "[CV] C=100, epsilon=0.1 ..............................................\n",
      "[CV] ..... C=100, epsilon=0.1, score=0.5618275293979329, total=   0.0s\n",
      "[CV] C=100, epsilon=1 ................................................\n",
      "[CV] ....... C=100, epsilon=1, score=0.4606842025322482, total=   0.0s"
     ]
    },
    {
     "name": "stderr",
     "output_type": "stream",
     "text": [
      "C:\\ProgramData\\Anaconda3\\lib\\site-packages\\sklearn\\svm\\base.py:196: FutureWarning: The default value of gamma will change from 'auto' to 'scale' in version 0.22 to account better for unscaled features. Set gamma explicitly to 'auto' or 'scale' to avoid this warning.\n",
      "  \"avoid this warning.\", FutureWarning)\n",
      "C:\\ProgramData\\Anaconda3\\lib\\site-packages\\sklearn\\svm\\base.py:196: FutureWarning: The default value of gamma will change from 'auto' to 'scale' in version 0.22 to account better for unscaled features. Set gamma explicitly to 'auto' or 'scale' to avoid this warning.\n",
      "  \"avoid this warning.\", FutureWarning)\n",
      "C:\\ProgramData\\Anaconda3\\lib\\site-packages\\sklearn\\svm\\base.py:196: FutureWarning: The default value of gamma will change from 'auto' to 'scale' in version 0.22 to account better for unscaled features. Set gamma explicitly to 'auto' or 'scale' to avoid this warning.\n",
      "  \"avoid this warning.\", FutureWarning)\n"
     ]
    },
    {
     "name": "stdout",
     "output_type": "stream",
     "text": [
      "\n",
      "[CV] C=100, epsilon=1 ................................................\n",
      "[CV] ....... C=100, epsilon=1, score=0.5355597560672488, total=   0.0s\n",
      "[CV] C=100, epsilon=1 ................................................\n",
      "[CV] ....... C=100, epsilon=1, score=0.5151349469895483, total=   0.0s\n",
      "[CV] C=100, epsilon=10 ...............................................\n",
      "[CV] .... C=100, epsilon=10, score=-0.16216801566532935, total=   0.0s\n",
      "[CV] C=100, epsilon=10 ...............................................\n",
      "[CV] .... C=100, epsilon=10, score=-0.17392444435364163, total=   0.0s\n",
      "[CV] C=100, epsilon=10 ...............................................\n",
      "[CV] .... C=100, epsilon=10, score=-0.18318379680369556, total=   0.0s\n",
      "[CV] C=100, epsilon=100 ..............................................\n",
      "[CV] ... C=100, epsilon=100, score=-0.16216801566532935, total=   0.0s\n",
      "[CV] C=100, epsilon=100 ..............................................\n",
      "[CV] ... C=100, epsilon=100, score=-0.17392444435364407, total=   0.0s\n",
      "[CV] C=100, epsilon=100 ..............................................\n",
      "[CV] ... C=100, epsilon=100, score=-0.18318379680369556, total=   0.0s\n",
      "[CV] C=100, epsilon=1000 .............................................\n",
      "[CV] .. C=100, epsilon=1000, score=-0.16216801566532935, total=   0.0s\n",
      "[CV] C=100, epsilon=1000 .............................................\n",
      "[CV] .. C=100, epsilon=1000, score=-0.17392444435364762, total=   0.0s"
     ]
    },
    {
     "name": "stderr",
     "output_type": "stream",
     "text": [
      "C:\\ProgramData\\Anaconda3\\lib\\site-packages\\sklearn\\svm\\base.py:196: FutureWarning: The default value of gamma will change from 'auto' to 'scale' in version 0.22 to account better for unscaled features. Set gamma explicitly to 'auto' or 'scale' to avoid this warning.\n",
      "  \"avoid this warning.\", FutureWarning)\n",
      "C:\\ProgramData\\Anaconda3\\lib\\site-packages\\sklearn\\svm\\base.py:196: FutureWarning: The default value of gamma will change from 'auto' to 'scale' in version 0.22 to account better for unscaled features. Set gamma explicitly to 'auto' or 'scale' to avoid this warning.\n",
      "  \"avoid this warning.\", FutureWarning)\n",
      "C:\\ProgramData\\Anaconda3\\lib\\site-packages\\sklearn\\svm\\base.py:196: FutureWarning: The default value of gamma will change from 'auto' to 'scale' in version 0.22 to account better for unscaled features. Set gamma explicitly to 'auto' or 'scale' to avoid this warning.\n",
      "  \"avoid this warning.\", FutureWarning)\n",
      "C:\\ProgramData\\Anaconda3\\lib\\site-packages\\sklearn\\svm\\base.py:196: FutureWarning: The default value of gamma will change from 'auto' to 'scale' in version 0.22 to account better for unscaled features. Set gamma explicitly to 'auto' or 'scale' to avoid this warning.\n",
      "  \"avoid this warning.\", FutureWarning)\n",
      "C:\\ProgramData\\Anaconda3\\lib\\site-packages\\sklearn\\svm\\base.py:196: FutureWarning: The default value of gamma will change from 'auto' to 'scale' in version 0.22 to account better for unscaled features. Set gamma explicitly to 'auto' or 'scale' to avoid this warning.\n",
      "  \"avoid this warning.\", FutureWarning)\n",
      "C:\\ProgramData\\Anaconda3\\lib\\site-packages\\sklearn\\svm\\base.py:196: FutureWarning: The default value of gamma will change from 'auto' to 'scale' in version 0.22 to account better for unscaled features. Set gamma explicitly to 'auto' or 'scale' to avoid this warning.\n",
      "  \"avoid this warning.\", FutureWarning)\n",
      "C:\\ProgramData\\Anaconda3\\lib\\site-packages\\sklearn\\svm\\base.py:196: FutureWarning: The default value of gamma will change from 'auto' to 'scale' in version 0.22 to account better for unscaled features. Set gamma explicitly to 'auto' or 'scale' to avoid this warning.\n",
      "  \"avoid this warning.\", FutureWarning)\n",
      "C:\\ProgramData\\Anaconda3\\lib\\site-packages\\sklearn\\svm\\base.py:196: FutureWarning: The default value of gamma will change from 'auto' to 'scale' in version 0.22 to account better for unscaled features. Set gamma explicitly to 'auto' or 'scale' to avoid this warning.\n",
      "  \"avoid this warning.\", FutureWarning)\n",
      "C:\\ProgramData\\Anaconda3\\lib\\site-packages\\sklearn\\svm\\base.py:196: FutureWarning: The default value of gamma will change from 'auto' to 'scale' in version 0.22 to account better for unscaled features. Set gamma explicitly to 'auto' or 'scale' to avoid this warning.\n",
      "  \"avoid this warning.\", FutureWarning)\n",
      "C:\\ProgramData\\Anaconda3\\lib\\site-packages\\sklearn\\svm\\base.py:196: FutureWarning: The default value of gamma will change from 'auto' to 'scale' in version 0.22 to account better for unscaled features. Set gamma explicitly to 'auto' or 'scale' to avoid this warning.\n",
      "  \"avoid this warning.\", FutureWarning)\n"
     ]
    },
    {
     "name": "stdout",
     "output_type": "stream",
     "text": [
      "\n",
      "[CV] C=100, epsilon=1000 .............................................\n",
      "[CV] .. C=100, epsilon=1000, score=-0.18318379680369556, total=   0.0s\n",
      "[CV] C=1000, epsilon=0.001 ...........................................\n"
     ]
    },
    {
     "name": "stderr",
     "output_type": "stream",
     "text": [
      "C:\\ProgramData\\Anaconda3\\lib\\site-packages\\sklearn\\svm\\base.py:196: FutureWarning: The default value of gamma will change from 'auto' to 'scale' in version 0.22 to account better for unscaled features. Set gamma explicitly to 'auto' or 'scale' to avoid this warning.\n",
      "  \"avoid this warning.\", FutureWarning)\n",
      "C:\\ProgramData\\Anaconda3\\lib\\site-packages\\sklearn\\svm\\base.py:196: FutureWarning: The default value of gamma will change from 'auto' to 'scale' in version 0.22 to account better for unscaled features. Set gamma explicitly to 'auto' or 'scale' to avoid this warning.\n",
      "  \"avoid this warning.\", FutureWarning)\n"
     ]
    },
    {
     "name": "stdout",
     "output_type": "stream",
     "text": [
      "[CV] . C=1000, epsilon=0.001, score=0.15851022985538643, total=   0.1s\n",
      "[CV] C=1000, epsilon=0.001 ...........................................\n"
     ]
    },
    {
     "name": "stderr",
     "output_type": "stream",
     "text": [
      "C:\\ProgramData\\Anaconda3\\lib\\site-packages\\sklearn\\svm\\base.py:196: FutureWarning: The default value of gamma will change from 'auto' to 'scale' in version 0.22 to account better for unscaled features. Set gamma explicitly to 'auto' or 'scale' to avoid this warning.\n",
      "  \"avoid this warning.\", FutureWarning)\n"
     ]
    },
    {
     "name": "stdout",
     "output_type": "stream",
     "text": [
      "[CV] . C=1000, epsilon=0.001, score=0.40583611916683504, total=   0.1s\n",
      "[CV] C=1000, epsilon=0.001 ...........................................\n"
     ]
    },
    {
     "name": "stderr",
     "output_type": "stream",
     "text": [
      "C:\\ProgramData\\Anaconda3\\lib\\site-packages\\sklearn\\svm\\base.py:196: FutureWarning: The default value of gamma will change from 'auto' to 'scale' in version 0.22 to account better for unscaled features. Set gamma explicitly to 'auto' or 'scale' to avoid this warning.\n",
      "  \"avoid this warning.\", FutureWarning)\n"
     ]
    },
    {
     "name": "stdout",
     "output_type": "stream",
     "text": [
      "[CV] . C=1000, epsilon=0.001, score=0.32757194585757965, total=   0.1s\n",
      "[CV] C=1000, epsilon=0.01 ............................................\n",
      "[CV] .. C=1000, epsilon=0.01, score=0.16321779119539315, total=   0.0s\n",
      "[CV] C=1000, epsilon=0.01 ............................................\n"
     ]
    },
    {
     "name": "stderr",
     "output_type": "stream",
     "text": [
      "C:\\ProgramData\\Anaconda3\\lib\\site-packages\\sklearn\\svm\\base.py:196: FutureWarning: The default value of gamma will change from 'auto' to 'scale' in version 0.22 to account better for unscaled features. Set gamma explicitly to 'auto' or 'scale' to avoid this warning.\n",
      "  \"avoid this warning.\", FutureWarning)\n",
      "C:\\ProgramData\\Anaconda3\\lib\\site-packages\\sklearn\\svm\\base.py:196: FutureWarning: The default value of gamma will change from 'auto' to 'scale' in version 0.22 to account better for unscaled features. Set gamma explicitly to 'auto' or 'scale' to avoid this warning.\n",
      "  \"avoid this warning.\", FutureWarning)\n"
     ]
    },
    {
     "name": "stdout",
     "output_type": "stream",
     "text": [
      "[CV] .. C=1000, epsilon=0.01, score=0.40767123118375725, total=   0.1s\n",
      "[CV] C=1000, epsilon=0.01 ............................................\n",
      "[CV] .. C=1000, epsilon=0.01, score=0.33215417814990655, total=   0.1s\n",
      "[CV] C=1000, epsilon=0.1 .............................................\n"
     ]
    },
    {
     "name": "stderr",
     "output_type": "stream",
     "text": [
      "C:\\ProgramData\\Anaconda3\\lib\\site-packages\\sklearn\\svm\\base.py:196: FutureWarning: The default value of gamma will change from 'auto' to 'scale' in version 0.22 to account better for unscaled features. Set gamma explicitly to 'auto' or 'scale' to avoid this warning.\n",
      "  \"avoid this warning.\", FutureWarning)\n",
      "C:\\ProgramData\\Anaconda3\\lib\\site-packages\\sklearn\\svm\\base.py:196: FutureWarning: The default value of gamma will change from 'auto' to 'scale' in version 0.22 to account better for unscaled features. Set gamma explicitly to 'auto' or 'scale' to avoid this warning.\n",
      "  \"avoid this warning.\", FutureWarning)\n",
      "C:\\ProgramData\\Anaconda3\\lib\\site-packages\\sklearn\\svm\\base.py:196: FutureWarning: The default value of gamma will change from 'auto' to 'scale' in version 0.22 to account better for unscaled features. Set gamma explicitly to 'auto' or 'scale' to avoid this warning.\n",
      "  \"avoid this warning.\", FutureWarning)\n"
     ]
    },
    {
     "name": "stdout",
     "output_type": "stream",
     "text": [
      "[CV] ... C=1000, epsilon=0.1, score=0.19753152700492427, total=   0.0s\n",
      "[CV] C=1000, epsilon=0.1 .............................................\n",
      "[CV] .... C=1000, epsilon=0.1, score=0.4181043704511297, total=   0.0s\n",
      "[CV] C=1000, epsilon=0.1 .............................................\n"
     ]
    },
    {
     "name": "stderr",
     "output_type": "stream",
     "text": [
      "C:\\ProgramData\\Anaconda3\\lib\\site-packages\\sklearn\\svm\\base.py:196: FutureWarning: The default value of gamma will change from 'auto' to 'scale' in version 0.22 to account better for unscaled features. Set gamma explicitly to 'auto' or 'scale' to avoid this warning.\n",
      "  \"avoid this warning.\", FutureWarning)\n",
      "C:\\ProgramData\\Anaconda3\\lib\\site-packages\\sklearn\\svm\\base.py:196: FutureWarning: The default value of gamma will change from 'auto' to 'scale' in version 0.22 to account better for unscaled features. Set gamma explicitly to 'auto' or 'scale' to avoid this warning.\n",
      "  \"avoid this warning.\", FutureWarning)\n"
     ]
    },
    {
     "name": "stdout",
     "output_type": "stream",
     "text": [
      "[CV] .... C=1000, epsilon=0.1, score=0.3615644473451922, total=   0.0s\n",
      "[CV] C=1000, epsilon=1 ...............................................\n",
      "[CV] ...... C=1000, epsilon=1, score=0.4208918335217823, total=   0.0s\n",
      "[CV] C=1000, epsilon=1 ...............................................\n",
      "[CV] ...... C=1000, epsilon=1, score=0.5375376894326688, total=   0.0s\n",
      "[CV] C=1000, epsilon=1 ...............................................\n",
      "[CV] ...... C=1000, epsilon=1, score=0.5185349731388766, total=   0.0s\n",
      "[CV] C=1000, epsilon=10 ..............................................\n",
      "[CV] ... C=1000, epsilon=10, score=-0.16216801566532935, total=   0.0s\n",
      "[CV] C=1000, epsilon=10 ..............................................\n",
      "[CV] ... C=1000, epsilon=10, score=-0.17392444435364163, total=   0.0s\n",
      "[CV] C=1000, epsilon=10 ..............................................\n",
      "[CV] ... C=1000, epsilon=10, score=-0.18318379680369556, total=   0.0s\n",
      "[CV] C=1000, epsilon=100 .............................................\n",
      "[CV] .. C=1000, epsilon=100, score=-0.16216801566532935, total=   0.0s\n",
      "[CV] C=1000, epsilon=100 .............................................\n",
      "[CV] .. C=1000, epsilon=100, score=-0.17392444435364407, total=   0.0s\n",
      "[CV] C=1000, epsilon=100 .............................................\n",
      "[CV] .. C=1000, epsilon=100, score=-0.18318379680369556, total=   0.0s\n",
      "[CV] C=1000, epsilon=1000 ............................................\n"
     ]
    },
    {
     "name": "stderr",
     "output_type": "stream",
     "text": [
      "C:\\ProgramData\\Anaconda3\\lib\\site-packages\\sklearn\\svm\\base.py:196: FutureWarning: The default value of gamma will change from 'auto' to 'scale' in version 0.22 to account better for unscaled features. Set gamma explicitly to 'auto' or 'scale' to avoid this warning.\n",
      "  \"avoid this warning.\", FutureWarning)\n",
      "C:\\ProgramData\\Anaconda3\\lib\\site-packages\\sklearn\\svm\\base.py:196: FutureWarning: The default value of gamma will change from 'auto' to 'scale' in version 0.22 to account better for unscaled features. Set gamma explicitly to 'auto' or 'scale' to avoid this warning.\n",
      "  \"avoid this warning.\", FutureWarning)\n",
      "C:\\ProgramData\\Anaconda3\\lib\\site-packages\\sklearn\\svm\\base.py:196: FutureWarning: The default value of gamma will change from 'auto' to 'scale' in version 0.22 to account better for unscaled features. Set gamma explicitly to 'auto' or 'scale' to avoid this warning.\n",
      "  \"avoid this warning.\", FutureWarning)\n",
      "C:\\ProgramData\\Anaconda3\\lib\\site-packages\\sklearn\\svm\\base.py:196: FutureWarning: The default value of gamma will change from 'auto' to 'scale' in version 0.22 to account better for unscaled features. Set gamma explicitly to 'auto' or 'scale' to avoid this warning.\n",
      "  \"avoid this warning.\", FutureWarning)\n",
      "C:\\ProgramData\\Anaconda3\\lib\\site-packages\\sklearn\\svm\\base.py:196: FutureWarning: The default value of gamma will change from 'auto' to 'scale' in version 0.22 to account better for unscaled features. Set gamma explicitly to 'auto' or 'scale' to avoid this warning.\n",
      "  \"avoid this warning.\", FutureWarning)\n",
      "C:\\ProgramData\\Anaconda3\\lib\\site-packages\\sklearn\\svm\\base.py:196: FutureWarning: The default value of gamma will change from 'auto' to 'scale' in version 0.22 to account better for unscaled features. Set gamma explicitly to 'auto' or 'scale' to avoid this warning.\n",
      "  \"avoid this warning.\", FutureWarning)\n",
      "C:\\ProgramData\\Anaconda3\\lib\\site-packages\\sklearn\\svm\\base.py:196: FutureWarning: The default value of gamma will change from 'auto' to 'scale' in version 0.22 to account better for unscaled features. Set gamma explicitly to 'auto' or 'scale' to avoid this warning.\n",
      "  \"avoid this warning.\", FutureWarning)\n",
      "C:\\ProgramData\\Anaconda3\\lib\\site-packages\\sklearn\\svm\\base.py:196: FutureWarning: The default value of gamma will change from 'auto' to 'scale' in version 0.22 to account better for unscaled features. Set gamma explicitly to 'auto' or 'scale' to avoid this warning.\n",
      "  \"avoid this warning.\", FutureWarning)\n",
      "C:\\ProgramData\\Anaconda3\\lib\\site-packages\\sklearn\\svm\\base.py:196: FutureWarning: The default value of gamma will change from 'auto' to 'scale' in version 0.22 to account better for unscaled features. Set gamma explicitly to 'auto' or 'scale' to avoid this warning.\n",
      "  \"avoid this warning.\", FutureWarning)\n",
      "C:\\ProgramData\\Anaconda3\\lib\\site-packages\\sklearn\\svm\\base.py:196: FutureWarning: The default value of gamma will change from 'auto' to 'scale' in version 0.22 to account better for unscaled features. Set gamma explicitly to 'auto' or 'scale' to avoid this warning.\n",
      "  \"avoid this warning.\", FutureWarning)\n",
      "C:\\ProgramData\\Anaconda3\\lib\\site-packages\\sklearn\\svm\\base.py:196: FutureWarning: The default value of gamma will change from 'auto' to 'scale' in version 0.22 to account better for unscaled features. Set gamma explicitly to 'auto' or 'scale' to avoid this warning.\n",
      "  \"avoid this warning.\", FutureWarning)\n"
     ]
    },
    {
     "name": "stdout",
     "output_type": "stream",
     "text": [
      "[CV] . C=1000, epsilon=1000, score=-0.16216801566532935, total=   0.0s\n",
      "[CV] C=1000, epsilon=1000 ............................................\n",
      "[CV] . C=1000, epsilon=1000, score=-0.17392444435364762, total=   0.0s\n",
      "[CV] C=1000, epsilon=1000 ............................................\n",
      "[CV] . C=1000, epsilon=1000, score=-0.18318379680369556, total=   0.0s\n"
     ]
    },
    {
     "name": "stderr",
     "output_type": "stream",
     "text": [
      "[Parallel(n_jobs=1)]: Done 147 out of 147 | elapsed:    7.8s finished\n",
      "C:\\ProgramData\\Anaconda3\\lib\\site-packages\\sklearn\\model_selection\\_search.py:841: DeprecationWarning: The default of the `iid` parameter will change from True to False in version 0.22 and will be removed in 0.24. This will change numeric results when test-set sizes are unequal.\n",
      "  DeprecationWarning)\n",
      "C:\\ProgramData\\Anaconda3\\lib\\site-packages\\sklearn\\svm\\base.py:196: FutureWarning: The default value of gamma will change from 'auto' to 'scale' in version 0.22 to account better for unscaled features. Set gamma explicitly to 'auto' or 'scale' to avoid this warning.\n",
      "  \"avoid this warning.\", FutureWarning)\n"
     ]
    },
    {
     "data": {
      "text/plain": [
       "GridSearchCV(cv='warn', error_score='raise-deprecating',\n",
       "       estimator=SVR(C=1.0, cache_size=200, coef0=0.0, degree=3, epsilon=0.1,\n",
       "  gamma='auto_deprecated', kernel='rbf', max_iter=-1, shrinking=True,\n",
       "  tol=0.001, verbose=False),\n",
       "       fit_params=None, iid='warn', n_jobs=None,\n",
       "       param_grid={'C': [0.001, 0.01, 0.1, 1, 10, 100, 1000], 'epsilon': [0.001, 0.01, 0.1, 1, 10, 100, 1000]},\n",
       "       pre_dispatch='2*n_jobs', refit=True, return_train_score='warn',\n",
       "       scoring=None, verbose=3)"
      ]
     },
     "execution_count": 85,
     "metadata": {},
     "output_type": "execute_result"
    }
   ],
   "source": [
    "grid.fit(x_train,y_train)"
   ]
  },
  {
   "cell_type": "code",
   "execution_count": 86,
   "metadata": {},
   "outputs": [
    {
     "data": {
      "text/plain": [
       "{'C': 10, 'epsilon': 0.001}"
      ]
     },
     "execution_count": 86,
     "metadata": {},
     "output_type": "execute_result"
    }
   ],
   "source": [
    "grid.best_params_"
   ]
  },
  {
   "cell_type": "code",
   "execution_count": 87,
   "metadata": {},
   "outputs": [
    {
     "name": "stdout",
     "output_type": "stream",
     "text": [
      "RMSE: 0.9364084948998318\n"
     ]
    }
   ],
   "source": [
    "pred=grid.predict(x_test)\n",
    "print('RMSE:', np.sqrt(metrics.mean_squared_error(y_test, pred)))"
   ]
  },
  {
   "cell_type": "markdown",
   "metadata": {},
   "source": [
    "Now let's try classification models. In order to do that, we will round up rating values so a type of them is int."
   ]
  },
  {
   "cell_type": "code",
   "execution_count": 88,
   "metadata": {
    "scrolled": true
   },
   "outputs": [
    {
     "data": {
      "text/plain": [
       "5.9    93\n",
       "6.9    93\n",
       "7.9    92\n",
       "8.1    46\n",
       "4.7    25\n",
       "4.9    24\n",
       "4.8    20\n",
       "8.2    17\n",
       "8.3    13\n",
       "4.6    12\n",
       "4.5    10\n",
       "3.8     6\n",
       "8.0     4\n",
       "8.4     4\n",
       "3.5     4\n",
       "3.3     3\n",
       "3.6     3\n",
       "3.9     3\n",
       "4.4     3\n",
       "8.5     3\n",
       "8.7     2\n",
       "8.6     2\n",
       "3.7     2\n",
       "3.2     1\n",
       "8.8     1\n",
       "3.4     1\n",
       "Name: rating, dtype: int64"
      ]
     },
     "execution_count": 88,
     "metadata": {},
     "output_type": "execute_result"
    }
   ],
   "source": [
    "df1['rating'].value_counts()"
   ]
  },
  {
   "cell_type": "code",
   "execution_count": 89,
   "metadata": {
    "collapsed": true
   },
   "outputs": [
    {
     "name": "stderr",
     "output_type": "stream",
     "text": [
      "C:\\ProgramData\\Anaconda3\\lib\\site-packages\\ipykernel_launcher.py:5: SettingWithCopyWarning: \n",
      "A value is trying to be set on a copy of a slice from a DataFrame\n",
      "\n",
      "See the caveats in the documentation: http://pandas.pydata.org/pandas-docs/stable/indexing.html#indexing-view-versus-copy\n",
      "  \"\"\"\n",
      "C:\\ProgramData\\Anaconda3\\lib\\site-packages\\ipykernel_launcher.py:3: SettingWithCopyWarning: \n",
      "A value is trying to be set on a copy of a slice from a DataFrame\n",
      "\n",
      "See the caveats in the documentation: http://pandas.pydata.org/pandas-docs/stable/indexing.html#indexing-view-versus-copy\n",
      "  This is separate from the ipykernel package so we can avoid doing imports until\n",
      "C:\\ProgramData\\Anaconda3\\lib\\site-packages\\ipykernel_launcher.py:7: SettingWithCopyWarning: \n",
      "A value is trying to be set on a copy of a slice from a DataFrame\n",
      "\n",
      "See the caveats in the documentation: http://pandas.pydata.org/pandas-docs/stable/indexing.html#indexing-view-versus-copy\n",
      "  import sys\n",
      "C:\\ProgramData\\Anaconda3\\lib\\site-packages\\ipykernel_launcher.py:9: SettingWithCopyWarning: \n",
      "A value is trying to be set on a copy of a slice from a DataFrame\n",
      "\n",
      "See the caveats in the documentation: http://pandas.pydata.org/pandas-docs/stable/indexing.html#indexing-view-versus-copy\n",
      "  if __name__ == '__main__':\n",
      "C:\\ProgramData\\Anaconda3\\lib\\site-packages\\ipykernel_launcher.py:11: SettingWithCopyWarning: \n",
      "A value is trying to be set on a copy of a slice from a DataFrame\n",
      "\n",
      "See the caveats in the documentation: http://pandas.pydata.org/pandas-docs/stable/indexing.html#indexing-view-versus-copy\n",
      "  # This is added back by InteractiveShellApp.init_path()\n",
      "C:\\ProgramData\\Anaconda3\\lib\\site-packages\\ipykernel_launcher.py:13: SettingWithCopyWarning: \n",
      "A value is trying to be set on a copy of a slice from a DataFrame\n",
      "\n",
      "See the caveats in the documentation: http://pandas.pydata.org/pandas-docs/stable/indexing.html#indexing-view-versus-copy\n",
      "  del sys.path[0]\n",
      "C:\\ProgramData\\Anaconda3\\lib\\site-packages\\ipykernel_launcher.py:15: SettingWithCopyWarning: \n",
      "A value is trying to be set on a copy of a slice from a DataFrame\n",
      "\n",
      "See the caveats in the documentation: http://pandas.pydata.org/pandas-docs/stable/indexing.html#indexing-view-versus-copy\n",
      "  from ipykernel import kernelapp as app\n"
     ]
    }
   ],
   "source": [
    "for i in range(df1['rating'].count()):\n",
    "    if 3<=df1['rating'][i]<=3.4:\n",
    "        df1['rating'][i]=3\n",
    "    elif 3.5<=df1['rating'][i]<=4.4:\n",
    "        df1['rating'][i]=4\n",
    "    elif 4.5<=df1['rating'][i]<=5.4:\n",
    "        df1['rating'][i]=5\n",
    "    elif 5.5<=df1['rating'][i]<=6.4:\n",
    "        df1['rating'][i]=6\n",
    "    elif 6.5<=df1['rating'][i]<7.4:\n",
    "        df1['rating'][i]=7\n",
    "    elif 7.5<=df1['rating'][i]<=8.4:\n",
    "        df1['rating'][i]=8\n",
    "    else:\n",
    "        df1['rating'][i]=9"
   ]
  },
  {
   "cell_type": "code",
   "execution_count": 90,
   "metadata": {},
   "outputs": [
    {
     "data": {
      "text/plain": [
       "8.0    176\n",
       "7.0     93\n",
       "6.0     93\n",
       "5.0     91\n",
       "4.0     21\n",
       "9.0      8\n",
       "3.0      5\n",
       "Name: rating, dtype: int64"
      ]
     },
     "execution_count": 90,
     "metadata": {},
     "output_type": "execute_result"
    }
   ],
   "source": [
    "df1['rating'].value_counts()"
   ]
  },
  {
   "cell_type": "code",
   "execution_count": 91,
   "metadata": {},
   "outputs": [],
   "source": [
    "x=df1.drop('rating',axis=1)\n",
    "y=df1['rating']\n",
    "\n",
    "from sklearn.model_selection import train_test_split\n",
    "from sklearn.metrics import confusion_matrix, classification_report\n",
    "x_train,x_test,y_train,y_test=train_test_split(x,y, test_size=0.3)"
   ]
  },
  {
   "cell_type": "markdown",
   "metadata": {},
   "source": [
    "## model 1- KNN"
   ]
  },
  {
   "cell_type": "code",
   "execution_count": 92,
   "metadata": {},
   "outputs": [],
   "source": [
    "from sklearn.neighbors import KNeighborsClassifier\n",
    "error=[]\n",
    "for i in range(50):\n",
    "    model=KNeighborsClassifier(n_neighbors=i+1)\n",
    "    model.fit(x_train,y_train)\n",
    "    pred=model.predict(x_test)\n",
    "    error.append(np.mean(np.array(pred)!=np.array(y_test)))\n"
   ]
  },
  {
   "cell_type": "code",
   "execution_count": 93,
   "metadata": {},
   "outputs": [
    {
     "data": {
      "text/plain": [
       "[<matplotlib.lines.Line2D at 0x248cdc93e48>]"
      ]
     },
     "execution_count": 93,
     "metadata": {},
     "output_type": "execute_result"
    },
    {
     "data": {
      "image/png": "[encoded data removed]",
      "text/plain": [
       "<Figure size 432x288 with 1 Axes>"
      ]
     },
     "metadata": {
      "needs_background": "light"
     },
     "output_type": "display_data"
    }
   ],
   "source": [
    "plt.plot(error)"
   ]
  },
  {
   "cell_type": "code",
   "execution_count": 94,
   "metadata": {
    "scrolled": true
   },
   "outputs": [
    {
     "name": "stdout",
     "output_type": "stream",
     "text": [
      "[[ 0  4  2  1  0  0]\n",
      " [ 0 19  1 10  2  0]\n",
      " [ 0 10  6 16  3  0]\n",
      " [ 0  3  2  5  9  0]\n",
      " [ 0  5  2  8 38  0]\n",
      " [ 0  0  0  0  1  0]]\n",
      "              precision    recall  f1-score   support\n",
      "\n",
      "         4.0       0.00      0.00      0.00         7\n",
      "         5.0       0.46      0.59      0.52        32\n",
      "         6.0       0.46      0.17      0.25        35\n",
      "         7.0       0.12      0.26      0.17        19\n",
      "         8.0       0.72      0.72      0.72        53\n",
      "         9.0       0.00      0.00      0.00         1\n",
      "\n",
      "   micro avg       0.46      0.46      0.46       147\n",
      "   macro avg       0.29      0.29      0.28       147\n",
      "weighted avg       0.49      0.46      0.45       147\n",
      "\n"
     ]
    },
    {
     "name": "stderr",
     "output_type": "stream",
     "text": [
      "C:\\ProgramData\\Anaconda3\\lib\\site-packages\\sklearn\\metrics\\classification.py:1143: UndefinedMetricWarning: Precision and F-score are ill-defined and being set to 0.0 in labels with no predicted samples.\n",
      "  'precision', 'predicted', average, warn_for)\n",
      "C:\\ProgramData\\Anaconda3\\lib\\site-packages\\sklearn\\metrics\\classification.py:1143: UndefinedMetricWarning: Precision and F-score are ill-defined and being set to 0.0 in labels with no predicted samples.\n",
      "  'precision', 'predicted', average, warn_for)\n",
      "C:\\ProgramData\\Anaconda3\\lib\\site-packages\\sklearn\\metrics\\classification.py:1143: UndefinedMetricWarning: Precision and F-score are ill-defined and being set to 0.0 in labels with no predicted samples.\n",
      "  'precision', 'predicted', average, warn_for)\n"
     ]
    }
   ],
   "source": [
    "model=KNeighborsClassifier(n_neighbors=49)\n",
    "model.fit(x_train,y_train)\n",
    "pred=model.predict(x_test)\n",
    "\n",
    "print(confusion_matrix(y_test,pred))\n",
    "print(classification_report(y_test,pred))"
   ]
  },
  {
   "cell_type": "markdown",
   "metadata": {},
   "source": [
    "## model 2- SVC"
   ]
  },
  {
   "cell_type": "code",
   "execution_count": 95,
   "metadata": {
    "scrolled": true
   },
   "outputs": [
    {
     "name": "stdout",
     "output_type": "stream",
     "text": [
      "[[ 0  6  0  1  0  0]\n",
      " [ 0 19  0 11  2  0]\n",
      " [ 0 13  0 19  3  0]\n",
      " [ 0  4  0  6  9  0]\n",
      " [ 0  4  0 10 39  0]\n",
      " [ 0  0  0  0  1  0]]"
     ]
    },
    {
     "name": "stderr",
     "output_type": "stream",
     "text": [
      "C:\\ProgramData\\Anaconda3\\lib\\site-packages\\sklearn\\svm\\base.py:196: FutureWarning: The default value of gamma will change from 'auto' to 'scale' in version 0.22 to account better for unscaled features. Set gamma explicitly to 'auto' or 'scale' to avoid this warning.\n",
      "  \"avoid this warning.\", FutureWarning)\n"
     ]
    },
    {
     "name": "stdout",
     "output_type": "stream",
     "text": [
      "\n",
      "              precision    recall  f1-score   support\n",
      "\n",
      "         4.0       0.00      0.00      0.00         7\n",
      "         5.0       0.41      0.59      0.49        32\n",
      "         6.0       0.00      0.00      0.00        35\n",
      "         7.0       0.13      0.32      0.18        19\n",
      "         8.0       0.72      0.74      0.73        53\n",
      "         9.0       0.00      0.00      0.00         1\n",
      "\n",
      "   micro avg       0.44      0.44      0.44       147\n",
      "   macro avg       0.21      0.27      0.23       147\n",
      "weighted avg       0.37      0.44      0.39       147\n",
      "\n"
     ]
    },
    {
     "name": "stderr",
     "output_type": "stream",
     "text": [
      "C:\\ProgramData\\Anaconda3\\lib\\site-packages\\sklearn\\metrics\\classification.py:1143: UndefinedMetricWarning: Precision and F-score are ill-defined and being set to 0.0 in labels with no predicted samples.\n",
      "  'precision', 'predicted', average, warn_for)\n",
      "C:\\ProgramData\\Anaconda3\\lib\\site-packages\\sklearn\\metrics\\classification.py:1143: UndefinedMetricWarning: Precision and F-score are ill-defined and being set to 0.0 in labels with no predicted samples.\n",
      "  'precision', 'predicted', average, warn_for)\n",
      "C:\\ProgramData\\Anaconda3\\lib\\site-packages\\sklearn\\metrics\\classification.py:1143: UndefinedMetricWarning: Precision and F-score are ill-defined and being set to 0.0 in labels with no predicted samples.\n",
      "  'precision', 'predicted', average, warn_for)\n"
     ]
    }
   ],
   "source": [
    "from sklearn.svm import SVC\n",
    "model=SVC()\n",
    "model.fit(x_train,y_train)\n",
    "pred=model.predict(x_test)\n",
    "\n",
    "print(confusion_matrix(y_test,pred))\n",
    "print(classification_report(y_test,pred))"
   ]
  },
  {
   "cell_type": "markdown",
   "metadata": {},
   "source": [
    "## model 3- SGDC"
   ]
  },
  {
   "cell_type": "code",
   "execution_count": 96,
   "metadata": {
    "scrolled": true
   },
   "outputs": [
    {
     "name": "stderr",
     "output_type": "stream",
     "text": [
      "C:\\ProgramData\\Anaconda3\\lib\\site-packages\\sklearn\\linear_model\\stochastic_gradient.py:166: FutureWarning: max_iter and tol parameters have been added in SGDClassifier in 0.19. If both are left unset, they default to max_iter=5 and tol=None. If tol is not None, max_iter defaults to max_iter=1000. From 0.21, default max_iter will be 1000, and default tol will be 1e-3.\n",
      "  FutureWarning)\n",
      "C:\\ProgramData\\Anaconda3\\lib\\site-packages\\sklearn\\metrics\\classification.py:1143: UndefinedMetricWarning: Precision and F-score are ill-defined and being set to 0.0 in labels with no predicted samples.\n",
      "  'precision', 'predicted', average, warn_for)\n",
      "C:\\ProgramData\\Anaconda3\\lib\\site-packages\\sklearn\\metrics\\classification.py:1143: UndefinedMetricWarning: Precision and F-score are ill-defined and being set to 0.0 in labels with no predicted samples.\n",
      "  'precision', 'predicted', average, warn_for)\n"
     ]
    },
    {
     "name": "stdout",
     "output_type": "stream",
     "text": [
      "[[ 0  7  0  0  0  0]\n",
      " [ 0 32  0  0  0  0]\n",
      " [ 0 35  0  0  0  0]\n",
      " [ 0 19  0  0  0  0]\n",
      " [ 0 53  0  0  0  0]\n",
      " [ 0  1  0  0  0  0]]\n",
      "              precision    recall  f1-score   support\n",
      "\n",
      "         4.0       0.00      0.00      0.00         7\n",
      "         5.0       0.22      1.00      0.36        32\n",
      "         6.0       0.00      0.00      0.00        35\n",
      "         7.0       0.00      0.00      0.00        19\n",
      "         8.0       0.00      0.00      0.00        53\n",
      "         9.0       0.00      0.00      0.00         1\n",
      "\n",
      "   micro avg       0.22      0.22      0.22       147\n",
      "   macro avg       0.04      0.17      0.06       147\n",
      "weighted avg       0.05      0.22      0.08       147\n",
      "\n"
     ]
    },
    {
     "name": "stderr",
     "output_type": "stream",
     "text": [
      "C:\\ProgramData\\Anaconda3\\lib\\site-packages\\sklearn\\metrics\\classification.py:1143: UndefinedMetricWarning: Precision and F-score are ill-defined and being set to 0.0 in labels with no predicted samples.\n",
      "  'precision', 'predicted', average, warn_for)\n"
     ]
    }
   ],
   "source": [
    "from sklearn.linear_model import SGDClassifier\n",
    "model=SGDClassifier()\n",
    "model.fit(x_train,y_train)\n",
    "pred=model.predict(x_test)\n",
    "\n",
    "print(confusion_matrix(y_test,pred))\n",
    "print(classification_report(y_test,pred))"
   ]
  },
  {
   "cell_type": "markdown",
   "metadata": {},
   "source": [
    "## model 4- GaussianNB"
   ]
  },
  {
   "cell_type": "code",
   "execution_count": 97,
   "metadata": {},
   "outputs": [
    {
     "name": "stdout",
     "output_type": "stream",
     "text": [
      "[[ 0  0  0  0  0  0  0]\n",
      " [ 2  5  0  0  0  0  0]\n",
      " [ 7 10  5  1  3  2  4]\n",
      " [ 9  2  7  6  1  3  7]\n",
      " [ 2  0  4  3  3  0  7]\n",
      " [ 1  0  5 11 11 11 14]\n",
      " [ 0  0  0  0  0  0  1]]\n",
      "              precision    recall  f1-score   support\n",
      "\n",
      "         3.0       0.00      0.00      0.00         0\n",
      "         4.0       0.29      0.71      0.42         7\n",
      "         5.0       0.24      0.16      0.19        32\n",
      "         6.0       0.29      0.17      0.21        35\n",
      "         7.0       0.17      0.16      0.16        19\n",
      "         8.0       0.69      0.21      0.32        53\n",
      "         9.0       0.03      1.00      0.06         1\n",
      "\n",
      "   micro avg       0.21      0.21      0.21       147\n",
      "   macro avg       0.24      0.34      0.19       147\n",
      "weighted avg       0.40      0.21      0.25       147\n",
      "\n"
     ]
    },
    {
     "name": "stderr",
     "output_type": "stream",
     "text": [
      "C:\\ProgramData\\Anaconda3\\lib\\site-packages\\sklearn\\metrics\\classification.py:1145: UndefinedMetricWarning: Recall and F-score are ill-defined and being set to 0.0 in labels with no true samples.\n",
      "  'recall', 'true', average, warn_for)\n",
      "C:\\ProgramData\\Anaconda3\\lib\\site-packages\\sklearn\\metrics\\classification.py:1145: UndefinedMetricWarning: Recall and F-score are ill-defined and being set to 0.0 in labels with no true samples.\n",
      "  'recall', 'true', average, warn_for)\n",
      "C:\\ProgramData\\Anaconda3\\lib\\site-packages\\sklearn\\metrics\\classification.py:1145: UndefinedMetricWarning: Recall and F-score are ill-defined and being set to 0.0 in labels with no true samples.\n",
      "  'recall', 'true', average, warn_for)\n"
     ]
    }
   ],
   "source": [
    "from sklearn.naive_bayes import GaussianNB\n",
    "model=GaussianNB()\n",
    "model.fit(x_train,y_train)\n",
    "pred=model.predict(x_test)\n",
    "\n",
    "print(confusion_matrix(y_test,pred))\n",
    "print(classification_report(y_test,pred))"
   ]
  },
  {
   "cell_type": "markdown",
   "metadata": {},
   "source": [
    "## model 5- Multinomial NB"
   ]
  },
  {
   "cell_type": "code",
   "execution_count": 98,
   "metadata": {
    "scrolled": true
   },
   "outputs": [
    {
     "name": "stdout",
     "output_type": "stream",
     "text": [
      "[[ 0  5  0  0  2  0]\n",
      " [ 0 16  0  1 15  0]\n",
      " [ 0  6  8  6 15  0]\n",
      " [ 0  0  1  6 12  0]\n",
      " [ 0  5  0  3 45  0]\n",
      " [ 0  0  0  0  1  0]]\n",
      "              precision    recall  f1-score   support\n",
      "\n",
      "         4.0       0.00      0.00      0.00         7\n",
      "         5.0       0.50      0.50      0.50        32\n",
      "         6.0       0.89      0.23      0.36        35\n",
      "         7.0       0.38      0.32      0.34        19\n",
      "         8.0       0.50      0.85      0.63        53\n",
      "         9.0       0.00      0.00      0.00         1\n",
      "\n",
      "   micro avg       0.51      0.51      0.51       147\n",
      "   macro avg       0.38      0.32      0.31       147\n",
      "weighted avg       0.55      0.51      0.47       147\n",
      "\n"
     ]
    },
    {
     "name": "stderr",
     "output_type": "stream",
     "text": [
      "C:\\ProgramData\\Anaconda3\\lib\\site-packages\\sklearn\\metrics\\classification.py:1143: UndefinedMetricWarning: Precision and F-score are ill-defined and being set to 0.0 in labels with no predicted samples.\n",
      "  'precision', 'predicted', average, warn_for)\n",
      "C:\\ProgramData\\Anaconda3\\lib\\site-packages\\sklearn\\metrics\\classification.py:1143: UndefinedMetricWarning: Precision and F-score are ill-defined and being set to 0.0 in labels with no predicted samples.\n",
      "  'precision', 'predicted', average, warn_for)\n",
      "C:\\ProgramData\\Anaconda3\\lib\\site-packages\\sklearn\\metrics\\classification.py:1143: UndefinedMetricWarning: Precision and F-score are ill-defined and being set to 0.0 in labels with no predicted samples.\n",
      "  'precision', 'predicted', average, warn_for)\n"
     ]
    }
   ],
   "source": [
    "from sklearn.naive_bayes import MultinomialNB\n",
    "model=MultinomialNB()\n",
    "model.fit(x_train,y_train)\n",
    "pred=model.predict(x_test)\n",
    "\n",
    "print(confusion_matrix(y_test,pred))\n",
    "print(classification_report(y_test,pred))"
   ]
  },
  {
   "cell_type": "markdown",
   "metadata": {},
   "source": [
    " ## model 6- Complement NB"
   ]
  },
  {
   "cell_type": "code",
   "execution_count": 99,
   "metadata": {},
   "outputs": [
    {
     "name": "stdout",
     "output_type": "stream",
     "text": [
      "[[ 0  0  0  0  0  0  0]\n",
      " [ 0  0  5  0  1  1  0]\n",
      " [ 1  3 17  1  5  5  0]\n",
      " [ 1  0 15  8  4  7  0]\n",
      " [ 2  0  3  1  6  7  0]\n",
      " [ 0  5  5  1  3 39  0]\n",
      " [ 0  0  0  0  0  1  0]]\n",
      "              precision    recall  f1-score   support\n",
      "\n",
      "         3.0       0.00      0.00      0.00         0\n",
      "         4.0       0.00      0.00      0.00         7\n",
      "         5.0       0.38      0.53      0.44        32\n",
      "         6.0       0.73      0.23      0.35        35\n",
      "         7.0       0.32      0.32      0.32        19\n",
      "         8.0       0.65      0.74      0.69        53\n",
      "         9.0       0.00      0.00      0.00         1\n",
      "\n",
      "   micro avg       0.48      0.48      0.48       147\n",
      "   macro avg       0.30      0.26      0.26       147\n",
      "weighted avg       0.53      0.48      0.47       147\n",
      "\n"
     ]
    },
    {
     "name": "stderr",
     "output_type": "stream",
     "text": [
      "C:\\ProgramData\\Anaconda3\\lib\\site-packages\\sklearn\\metrics\\classification.py:1143: UndefinedMetricWarning: Precision and F-score are ill-defined and being set to 0.0 in labels with no predicted samples.\n",
      "  'precision', 'predicted', average, warn_for)\n",
      "C:\\ProgramData\\Anaconda3\\lib\\site-packages\\sklearn\\metrics\\classification.py:1145: UndefinedMetricWarning: Recall and F-score are ill-defined and being set to 0.0 in labels with no true samples.\n",
      "  'recall', 'true', average, warn_for)\n",
      "C:\\ProgramData\\Anaconda3\\lib\\site-packages\\sklearn\\metrics\\classification.py:1143: UndefinedMetricWarning: Precision and F-score are ill-defined and being set to 0.0 in labels with no predicted samples.\n",
      "  'precision', 'predicted', average, warn_for)\n",
      "C:\\ProgramData\\Anaconda3\\lib\\site-packages\\sklearn\\metrics\\classification.py:1145: UndefinedMetricWarning: Recall and F-score are ill-defined and being set to 0.0 in labels with no true samples.\n",
      "  'recall', 'true', average, warn_for)\n",
      "C:\\ProgramData\\Anaconda3\\lib\\site-packages\\sklearn\\metrics\\classification.py:1143: UndefinedMetricWarning: Precision and F-score are ill-defined and being set to 0.0 in labels with no predicted samples.\n",
      "  'precision', 'predicted', average, warn_for)\n",
      "C:\\ProgramData\\Anaconda3\\lib\\site-packages\\sklearn\\metrics\\classification.py:1145: UndefinedMetricWarning: Recall and F-score are ill-defined and being set to 0.0 in labels with no true samples.\n",
      "  'recall', 'true', average, warn_for)\n"
     ]
    }
   ],
   "source": [
    "from sklearn.naive_bayes import ComplementNB\n",
    "model=ComplementNB()\n",
    "model.fit(x_train,y_train)\n",
    "pred=model.predict(x_test)\n",
    "\n",
    "print(confusion_matrix(y_test,pred))\n",
    "print(classification_report(y_test,pred))"
   ]
  },
  {
   "cell_type": "markdown",
   "metadata": {},
   "source": [
    "## model 7- Bernoulli NB"
   ]
  },
  {
   "cell_type": "code",
   "execution_count": 100,
   "metadata": {},
   "outputs": [
    {
     "name": "stdout",
     "output_type": "stream",
     "text": [
      "[[ 0  0  0  0  0  0  0]\n",
      " [ 0  0  5  0  1  1  0]\n",
      " [ 1  3 17  1  5  5  0]\n",
      " [ 1  0 15  8  4  7  0]\n",
      " [ 2  0  3  1  6  7  0]\n",
      " [ 0  5  5  1  3 39  0]\n",
      " [ 0  0  0  0  0  1  0]]\n",
      "              precision    recall  f1-score   support\n",
      "\n",
      "         3.0       0.00      0.00      0.00         0\n",
      "         4.0       0.00      0.00      0.00         7\n",
      "         5.0       0.38      0.53      0.44        32\n",
      "         6.0       0.73      0.23      0.35        35\n",
      "         7.0       0.32      0.32      0.32        19\n",
      "         8.0       0.65      0.74      0.69        53\n",
      "         9.0       0.00      0.00      0.00         1\n",
      "\n",
      "   micro avg       0.48      0.48      0.48       147\n",
      "   macro avg       0.30      0.26      0.26       147\n",
      "weighted avg       0.53      0.48      0.47       147\n",
      "\n"
     ]
    },
    {
     "name": "stderr",
     "output_type": "stream",
     "text": [
      "C:\\ProgramData\\Anaconda3\\lib\\site-packages\\sklearn\\metrics\\classification.py:1143: UndefinedMetricWarning: Precision and F-score are ill-defined and being set to 0.0 in labels with no predicted samples.\n",
      "  'precision', 'predicted', average, warn_for)\n",
      "C:\\ProgramData\\Anaconda3\\lib\\site-packages\\sklearn\\metrics\\classification.py:1145: UndefinedMetricWarning: Recall and F-score are ill-defined and being set to 0.0 in labels with no true samples.\n",
      "  'recall', 'true', average, warn_for)\n",
      "C:\\ProgramData\\Anaconda3\\lib\\site-packages\\sklearn\\metrics\\classification.py:1143: UndefinedMetricWarning: Precision and F-score are ill-defined and being set to 0.0 in labels with no predicted samples.\n",
      "  'precision', 'predicted', average, warn_for)\n",
      "C:\\ProgramData\\Anaconda3\\lib\\site-packages\\sklearn\\metrics\\classification.py:1145: UndefinedMetricWarning: Recall and F-score are ill-defined and being set to 0.0 in labels with no true samples.\n",
      "  'recall', 'true', average, warn_for)\n",
      "C:\\ProgramData\\Anaconda3\\lib\\site-packages\\sklearn\\metrics\\classification.py:1143: UndefinedMetricWarning: Precision and F-score are ill-defined and being set to 0.0 in labels with no predicted samples.\n",
      "  'precision', 'predicted', average, warn_for)\n",
      "C:\\ProgramData\\Anaconda3\\lib\\site-packages\\sklearn\\metrics\\classification.py:1145: UndefinedMetricWarning: Recall and F-score are ill-defined and being set to 0.0 in labels with no true samples.\n",
      "  'recall', 'true', average, warn_for)\n"
     ]
    }
   ],
   "source": [
    "from sklearn.naive_bayes import BernoulliNB\n",
    "model=ComplementNB()\n",
    "model.fit(x_train,y_train)\n",
    "pred=model.predict(x_test)\n",
    "\n",
    "print(confusion_matrix(y_test,pred))\n",
    "print(classification_report(y_test,pred))"
   ]
  },
  {
   "cell_type": "markdown",
   "metadata": {},
   "source": [
    "## model 7- Random Forest"
   ]
  },
  {
   "cell_type": "code",
   "execution_count": 101,
   "metadata": {
    "scrolled": true
   },
   "outputs": [
    {
     "name": "stdout",
     "output_type": "stream",
     "text": [
      "[[ 0  0  0  0  0  0  0]\n",
      " [ 0  1  5  0  0  1  0]\n",
      " [ 0  1 20  5  4  2  0]\n",
      " [ 1  1 11  8  9  5  0]\n",
      " [ 1  0  0  3  7  8  0]\n",
      " [ 0  0  1  2  6 44  0]\n",
      " [ 0  0  0  0  0  1  0]]\n",
      "              precision    recall  f1-score   support\n",
      "\n",
      "         3.0       0.00      0.00      0.00         0\n",
      "         4.0       0.33      0.14      0.20         7\n",
      "         5.0       0.54      0.62      0.58        32\n",
      "         6.0       0.44      0.23      0.30        35\n",
      "         7.0       0.27      0.37      0.31        19\n",
      "         8.0       0.72      0.83      0.77        53\n",
      "         9.0       0.00      0.00      0.00         1\n",
      "\n",
      "   micro avg       0.54      0.54      0.54       147\n",
      "   macro avg       0.33      0.31      0.31       147\n",
      "weighted avg       0.53      0.54      0.53       147\n",
      "\n"
     ]
    },
    {
     "name": "stderr",
     "output_type": "stream",
     "text": [
      "C:\\ProgramData\\Anaconda3\\lib\\site-packages\\sklearn\\ensemble\\forest.py:246: FutureWarning: The default value of n_estimators will change from 10 in version 0.20 to 100 in 0.22.\n",
      "  \"10 in version 0.20 to 100 in 0.22.\", FutureWarning)\n",
      "C:\\ProgramData\\Anaconda3\\lib\\site-packages\\sklearn\\metrics\\classification.py:1143: UndefinedMetricWarning: Precision and F-score are ill-defined and being set to 0.0 in labels with no predicted samples.\n",
      "  'precision', 'predicted', average, warn_for)\n",
      "C:\\ProgramData\\Anaconda3\\lib\\site-packages\\sklearn\\metrics\\classification.py:1145: UndefinedMetricWarning: Recall and F-score are ill-defined and being set to 0.0 in labels with no true samples.\n",
      "  'recall', 'true', average, warn_for)\n",
      "C:\\ProgramData\\Anaconda3\\lib\\site-packages\\sklearn\\metrics\\classification.py:1143: UndefinedMetricWarning: Precision and F-score are ill-defined and being set to 0.0 in labels with no predicted samples.\n",
      "  'precision', 'predicted', average, warn_for)\n",
      "C:\\ProgramData\\Anaconda3\\lib\\site-packages\\sklearn\\metrics\\classification.py:1145: UndefinedMetricWarning: Recall and F-score are ill-defined and being set to 0.0 in labels with no true samples.\n",
      "  'recall', 'true', average, warn_for)\n",
      "C:\\ProgramData\\Anaconda3\\lib\\site-packages\\sklearn\\metrics\\classification.py:1143: UndefinedMetricWarning: Precision and F-score are ill-defined and being set to 0.0 in labels with no predicted samples.\n",
      "  'precision', 'predicted', average, warn_for)\n",
      "C:\\ProgramData\\Anaconda3\\lib\\site-packages\\sklearn\\metrics\\classification.py:1145: UndefinedMetricWarning: Recall and F-score are ill-defined and being set to 0.0 in labels with no true samples.\n",
      "  'recall', 'true', average, warn_for)\n"
     ]
    }
   ],
   "source": [
    "from sklearn.ensemble import RandomForestClassifier\n",
    "model=RandomForestClassifier()\n",
    "model.fit(x_train,y_train)\n",
    "pred=model.predict(x_test)\n",
    "\n",
    "print(confusion_matrix(y_test,pred))\n",
    "print(classification_report(y_test,pred))"
   ]
  },
  {
   "cell_type": "markdown",
   "metadata": {},
   "source": [
    "## model 8- Logistic Regression"
   ]
  },
  {
   "cell_type": "code",
   "execution_count": 102,
   "metadata": {
    "scrolled": true
   },
   "outputs": [
    {
     "name": "stdout",
     "output_type": "stream",
     "text": [
      "[[ 0  6  0  0  1  0]\n",
      " [ 0 16  1  8  7  0]\n",
      " [ 0 11 10  9  5  0]\n",
      " [ 0  1  1 11  6  0]\n",
      " [ 0  0  2  9 42  0]\n",
      " [ 0  0  0  0  1  0]]\n",
      "              precision    recall  f1-score   support\n",
      "\n",
      "         4.0       0.00      0.00      0.00         7\n",
      "         5.0       0.47      0.50      0.48        32\n",
      "         6.0       0.71      0.29      0.41        35\n",
      "         7.0       0.30      0.58      0.39        19\n",
      "         8.0       0.68      0.79      0.73        53\n",
      "         9.0       0.00      0.00      0.00         1\n",
      "\n",
      "   micro avg       0.54      0.54      0.54       147\n",
      "   macro avg       0.36      0.36      0.34       147\n",
      "weighted avg       0.56      0.54      0.52       147\n",
      "\n"
     ]
    },
    {
     "name": "stderr",
     "output_type": "stream",
     "text": [
      "C:\\ProgramData\\Anaconda3\\lib\\site-packages\\sklearn\\linear_model\\logistic.py:433: FutureWarning: Default solver will be changed to 'lbfgs' in 0.22. Specify a solver to silence this warning.\n",
      "  FutureWarning)\n",
      "C:\\ProgramData\\Anaconda3\\lib\\site-packages\\sklearn\\linear_model\\logistic.py:460: FutureWarning: Default multi_class will be changed to 'auto' in 0.22. Specify the multi_class option to silence this warning.\n",
      "  \"this warning.\", FutureWarning)\n",
      "C:\\ProgramData\\Anaconda3\\lib\\site-packages\\sklearn\\metrics\\classification.py:1143: UndefinedMetricWarning: Precision and F-score are ill-defined and being set to 0.0 in labels with no predicted samples.\n",
      "  'precision', 'predicted', average, warn_for)\n",
      "C:\\ProgramData\\Anaconda3\\lib\\site-packages\\sklearn\\metrics\\classification.py:1143: UndefinedMetricWarning: Precision and F-score are ill-defined and being set to 0.0 in labels with no predicted samples.\n",
      "  'precision', 'predicted', average, warn_for)\n",
      "C:\\ProgramData\\Anaconda3\\lib\\site-packages\\sklearn\\metrics\\classification.py:1143: UndefinedMetricWarning: Precision and F-score are ill-defined and being set to 0.0 in labels with no predicted samples.\n",
      "  'precision', 'predicted', average, warn_for)\n"
     ]
    }
   ],
   "source": [
    "from sklearn.linear_model import LogisticRegression\n",
    "model=LogisticRegression()\n",
    "model.fit(x_train,y_train)\n",
    "pred=model.predict(x_test)\n",
    "\n",
    "print(confusion_matrix(y_test,pred))\n",
    "print(classification_report(y_test,pred))"
   ]
  },
  {
   "cell_type": "markdown",
   "metadata": {},
   "source": [
    "## model 9- Decission Tree"
   ]
  },
  {
   "cell_type": "code",
   "execution_count": 103,
   "metadata": {},
   "outputs": [
    {
     "name": "stdout",
     "output_type": "stream",
     "text": [
      "[[ 0  0  0  0  0  0  0]\n",
      " [ 0  2  3  1  0  1  0]\n",
      " [ 1  5 14  5  7  0  0]\n",
      " [ 1  5  6  9 11  3  0]\n",
      " [ 0  0  2  3  9  5  0]\n",
      " [ 0  1  4  2  6 38  2]\n",
      " [ 0  0  0  0  0  1  0]]\n",
      "              precision    recall  f1-score   support\n",
      "\n",
      "         3.0       0.00      0.00      0.00         0\n",
      "         4.0       0.15      0.29      0.20         7\n",
      "         5.0       0.48      0.44      0.46        32\n",
      "         6.0       0.45      0.26      0.33        35\n",
      "         7.0       0.27      0.47      0.35        19\n",
      "         8.0       0.79      0.72      0.75        53\n",
      "         9.0       0.00      0.00      0.00         1\n",
      "\n",
      "   micro avg       0.49      0.49      0.49       147\n",
      "   macro avg       0.31      0.31      0.30       147\n",
      "weighted avg       0.54      0.49      0.50       147\n",
      "\n"
     ]
    },
    {
     "name": "stderr",
     "output_type": "stream",
     "text": [
      "C:\\ProgramData\\Anaconda3\\lib\\site-packages\\sklearn\\metrics\\classification.py:1145: UndefinedMetricWarning: Recall and F-score are ill-defined and being set to 0.0 in labels with no true samples.\n",
      "  'recall', 'true', average, warn_for)\n",
      "C:\\ProgramData\\Anaconda3\\lib\\site-packages\\sklearn\\metrics\\classification.py:1145: UndefinedMetricWarning: Recall and F-score are ill-defined and being set to 0.0 in labels with no true samples.\n",
      "  'recall', 'true', average, warn_for)\n",
      "C:\\ProgramData\\Anaconda3\\lib\\site-packages\\sklearn\\metrics\\classification.py:1145: UndefinedMetricWarning: Recall and F-score are ill-defined and being set to 0.0 in labels with no true samples.\n",
      "  'recall', 'true', average, warn_for)\n"
     ]
    }
   ],
   "source": [
    "from sklearn.tree import DecisionTreeClassifier\n",
    "model=DecisionTreeClassifier()\n",
    "model.fit(x_train,y_train)\n",
    "pred=model.predict(x_test)\n",
    "\n",
    "print(confusion_matrix(y_test,pred))\n",
    "print(classification_report(y_test,pred))"
   ]
  },
  {
   "cell_type": "markdown",
   "metadata": {},
   "source": [
    "## model 10- Gaussian Process"
   ]
  },
  {
   "cell_type": "code",
   "execution_count": 104,
   "metadata": {
    "scrolled": true
   },
   "outputs": [
    {
     "name": "stdout",
     "output_type": "stream",
     "text": [
      "[[ 1  4  1  0  1  0]\n",
      " [ 2 15  7  6  2  0]\n",
      " [ 0  7 14 10  4  0]\n",
      " [ 0  2  5  4  8  0]\n",
      " [ 0  6  2  7 36  2]\n",
      " [ 0  0  0  0  1  0]]\n",
      "              precision    recall  f1-score   support\n",
      "\n",
      "         4.0       0.33      0.14      0.20         7\n",
      "         5.0       0.44      0.47      0.45        32\n",
      "         6.0       0.48      0.40      0.44        35\n",
      "         7.0       0.15      0.21      0.17        19\n",
      "         8.0       0.69      0.68      0.69        53\n",
      "         9.0       0.00      0.00      0.00         1\n",
      "\n",
      "   micro avg       0.48      0.48      0.48       147\n",
      "   macro avg       0.35      0.32      0.33       147\n",
      "weighted avg       0.50      0.48      0.48       147\n",
      "\n"
     ]
    }
   ],
   "source": [
    "from sklearn.gaussian_process import GaussianProcessClassifier\n",
    "model=GaussianProcessClassifier()\n",
    "model.fit(x_train,y_train)\n",
    "pred=model.predict(x_test)\n",
    "\n",
    "print(confusion_matrix(y_test,pred))\n",
    "print(classification_report(y_test,pred))"
   ]
  },
  {
   "cell_type": "markdown",
   "metadata": {},
   "source": [
    "It's quite diffucult to decide which model is the best. The logistic regression has the highest average f1- score but some of the other models are better for predicting some ratings, for example for predicting rating 4 the highest f1- score has the GaussianNB model which amounts 0.25."
   ]
  }
 ],
 "metadata": {
  "kernelspec": {
   "display_name": "Python 3",
   "language": "python",
   "name": "python3"
  },
  "language_info": {
   "codemirror_mode": {
    "name": "ipython",
    "version": 3
   },
   "file_extension": ".py",
   "mimetype": "text/x-python",
   "name": "python",
   "nbconvert_exporter": "python",
   "pygments_lexer": "ipython3",
   "version": "3.7.3"
  }
 },
 "nbformat": 4,
 "nbformat_minor": 2
}
