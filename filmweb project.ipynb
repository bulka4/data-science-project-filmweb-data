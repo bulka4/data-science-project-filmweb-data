{
 "cells": [
  {
   "cell_type": "markdown",
   "metadata": {},
   "source": [
    "## collecting data"
   ]
  },
  {
   "cell_type": "markdown",
   "metadata": {},
   "source": [
    "In this notebook I will create a data set about movies from a base at filmweb.pl using a BeautifulSoup and try to predict a rating of movies."
   ]
  },
  {
   "cell_type": "code",
   "execution_count": null,
   "metadata": {},
   "outputs": [],
   "source": [
    "from bs4 import BeautifulSoup as bs\n",
    "import requests\n",
    "import pandas as pd\n",
    "import numpy as np\n",
    "import seaborn as sns\n",
    "import matplotlib.pyplot as plt\n",
    "from datetime import datetime\n",
    "%matplotlib inline"
   ]
  },
  {
   "cell_type": "code",
   "execution_count": null,
   "metadata": {},
   "outputs": [],
   "source": [
    "#function getting information about 1 film\n",
    "\n",
    "def get_info(link):\n",
    "    \n",
    "    r=requests.get(link)\n",
    "    soup=bs(r.content)\n",
    "\n",
    "    movie_info={}\n",
    "    \n",
    "    #info about directors,...,premiere \n",
    "    info_box=soup.find(class_='filmPosterSection__info filmInfo')\n",
    "\n",
    "    keys=info_box.find_all(class_='filmInfo__header')\n",
    "    values=info_box.find_all(class_='filmInfo__info')\n",
    "\n",
    "    for i in range(5):\n",
    "        key=keys[i].get_text(strip=True).split('(')[0]\n",
    "        value=values[i].get_text(strip=True).split('(')[0]\n",
    "        movie_info[key]=value\n",
    "        \n",
    "    #info about title and actors\n",
    "    for i in range(10):\n",
    "        try:\n",
    "            base_link='https://www.filmweb.pl'\n",
    "            actors_link=base_link+soup.find_all(class_='page__moreButton')[i].a['href']\n",
    "\n",
    "            r2=requests.get(actors_link)\n",
    "            soup2=bs(r2.content)\n",
    "\n",
    "            movie_info['title']=soup2.find(class_='filmHeaderSection__title').get_text(strip=True)\n",
    "\n",
    "            actors_table=soup2.find(class_='filmFullCastSection__list')\n",
    "            actors_rows=actors_table.find_all(class_='castRoleListElement__info')\n",
    "            movie_info['actors']=[]\n",
    "\n",
    "            for index, row in enumerate(actors_rows):\n",
    "                actor_name=row.a.get_text(strip=True)\n",
    "                movie_info['actors'].append(actor_name)\n",
    "                if index>10:\n",
    "                    break\n",
    "        except:\n",
    "            continue\n",
    "\n",
    "    #info about boxoffice,..., oryginal title\n",
    "    info_box3=soup.find(class_='filmOtherInfoSection__group')\n",
    "    info_rows3=info_box3.find_all(class_='filmInfo__group')\n",
    "\n",
    "    for index, row in enumerate(info_rows3):\n",
    "        if index<5:\n",
    "            keys=row.find_all(class_='filmInfo__header')\n",
    "            values=row.find_all(class_='filmInfo__info')\n",
    "            for i in range(2):\n",
    "                try:\n",
    "                    key2=keys[i].get_text(strip=True).split('(')[0]\n",
    "                    value2=values[i].get_text(strip=True).split('(')[0]\n",
    "                    movie_info[key2]=value2\n",
    "                except:\n",
    "                    continue\n",
    "        else:\n",
    "            break\n",
    "    \n",
    "    #info about rating\n",
    "    movie_info['rating']=soup.find(class_='filmRating__rateValue').get_text(strip=True)\n",
    "            \n",
    "    return movie_info"
   ]
  },
  {
   "cell_type": "markdown",
   "metadata": {},
   "source": [
    "We will use link: https://www.filmweb.pl/films/search?endRate=9&orderBy=rate&descending=true&startCount=8000&startRate=8, and get information about movies with rates from 3.9 to 8.9 stars."
   ]
  },
  {
   "cell_type": "code",
   "execution_count": null,
   "metadata": {},
   "outputs": [],
   "source": [
    "movies_info_list=[]\n",
    "\n",
    "for l in range(6):\n",
    "    k=10 #setting number of pages\n",
    "    j=3+l\n",
    "\n",
    "    for i in range(k):\n",
    "        link='https://www.filmweb.pl/films/search?endRate={}'.format(j+1)+'&orderBy=rate&descending=true&startCount=8000'+'&startRate={}'.format(j)+'&page={}'.format(i+1)\n",
    "        \n",
    "        r=requests.get(link)\n",
    "        soup=bs(r.content)\n",
    "        film_list=soup.select('.wrapperContent.page__section')\n",
    "        film_rows=film_list[0].find_all('li')\n",
    "\n",
    "        for index, row in enumerate(film_rows):\n",
    "            if index<80:\n",
    "                try:\n",
    "                    base_link='https://www.filmweb.pl'\n",
    "                    link=base_link+row.find(class_='filmPreview__titleDetails').a['href']\n",
    "                    movies_info_list.append(get_info(link))\n",
    "                except:\n",
    "                    continue"
   ]
  },
  {
   "cell_type": "code",
   "execution_count": null,
   "metadata": {},
   "outputs": [],
   "source": [
    "#creating a DataFrame\n",
    "df=pd.DataFrame(movies_info_list)"
   ]
  },
  {
   "cell_type": "code",
   "execution_count": null,
   "metadata": {},
   "outputs": [],
   "source": [
    "df.columns"
   ]
  },
  {
   "cell_type": "markdown",
   "metadata": {},
   "source": [
    "Removing unnecessary columns"
   ]
  },
  {
   "cell_type": "code",
   "execution_count": null,
   "metadata": {},
   "outputs": [],
   "source": [
    "df.drop(['budÅ¼et','dystrybucja','inne tytuÅ‚y','inne tytuły','na podstawie','reÅ¼yseria','tytuÅ‚ oryg.','tytuł oryg.'],axis=1\n",
    "       ,inplace=True)"
   ]
  },
  {
   "cell_type": "code",
   "execution_count": null,
   "metadata": {
    "scrolled": true
   },
   "outputs": [],
   "source": [
    "df=df.rename(columns={'budżet':'budget', 'data produkcji': 'date of production', 'gatunek': 'genre', 'premiera': 'premiere', \n",
    "           'produkcja': 'production', 'reżyseria': 'directing','scenariusz': 'scenario'})"
   ]
  },
  {
   "cell_type": "code",
   "execution_count": null,
   "metadata": {},
   "outputs": [],
   "source": [
    "df"
   ]
  },
  {
   "cell_type": "code",
   "execution_count": null,
   "metadata": {},
   "outputs": [],
   "source": [
    "#checking NaN values\n",
    "sns.heatmap(df.isnull())"
   ]
  },
  {
   "cell_type": "markdown",
   "metadata": {},
   "source": [
    "There is a lot of NaN values in budget and boxoffice columns so we will create 1 additional DataFrame without this colmns. We will remove rows with NaN values in studio and directing."
   ]
  },
  {
   "cell_type": "code",
   "execution_count": null,
   "metadata": {},
   "outputs": [],
   "source": [
    "#df1 will be a dataFrame without budget and boxoffice columns\n",
    "df1=df.copy()"
   ]
  },
  {
   "cell_type": "code",
   "execution_count": null,
   "metadata": {},
   "outputs": [],
   "source": [
    "df1.drop(['budget','boxoffice'],axis=1,inplace=True)"
   ]
  },
  {
   "cell_type": "code",
   "execution_count": null,
   "metadata": {},
   "outputs": [],
   "source": [
    "df=df[df['directing'].isnull()==False]\n",
    "df=df[df['studio'].isnull()==False]\n",
    "df=df[df['budget'].isnull()==False]\n",
    "df=df[df['boxoffice'].isnull()==False]\n",
    "df1=df1[df1['directing'].isnull()==False]\n",
    "df1=df1[df1['studio'].isnull()==False]"
   ]
  },
  {
   "cell_type": "code",
   "execution_count": null,
   "metadata": {},
   "outputs": [],
   "source": [
    "df=df.reset_index()\n",
    "df1=df1.reset_index()"
   ]
  },
  {
   "cell_type": "code",
   "execution_count": null,
   "metadata": {},
   "outputs": [],
   "source": [
    "df.drop('index',axis=1,inplace=True)\n",
    "df1.drop('index',axis=1,inplace=True)"
   ]
  },
  {
   "cell_type": "markdown",
   "metadata": {},
   "source": [
    "Now we will transform values in some columns. In the 'boxoffice' column we will grab only the first number which is the boxoffice in the world and set a type of this value as float, in the 'budget' column we will remove a dollar sign and also set a type as a float, values in the 'premiere' column will be a datetime objects, in the 'production', 'directing', 'scenario' and 'studio' columns we will have lists of strings instead of one string and we will set a type of rating values as float. Let's define functions in order to do that."
   ]
  },
  {
   "cell_type": "code",
   "execution_count": null,
   "metadata": {},
   "outputs": [],
   "source": [
    "#functions to clean data\n",
    "def clean_boxoffice(value):\n",
    "    value= value.split('na')[0].split('$')[1]\n",
    "    \n",
    "    for i in range(1):\n",
    "        try:\n",
    "            value=value.split('w')[0]\n",
    "        except:\n",
    "            continue\n",
    "    \n",
    "    return ''.join(value.split())\n",
    "\n",
    "def clean_scenario(value):\n",
    "    #changing string into list\n",
    "    lst=value.split('/')   \n",
    "    length=len(lst)\n",
    "    if lst[length-1]=='więcej...':\n",
    "        del lst[length-1]\n",
    "    elif lst[length-1]=='Więcej...':\n",
    "        del lst[length-1]\n",
    "    \n",
    "    return lst\n",
    "\n",
    "def clean_prod(value):\n",
    "    return value.split(', ')\n",
    "\n",
    "def clean_studio(value):\n",
    "    if ' '.join(value).split()[-1]=='Więcej...':\n",
    "        return ' '.join(value).split()[:-1]\n",
    "    else:\n",
    "        return ' '.join(value).split()\n",
    "\n",
    "def miesiac_ang(miesiac):\n",
    "    if miesiac=='stycznia' or miesiac=='styczeń':\n",
    "        return 'January'\n",
    "    if miesiac=='lutego' or miesiac=='luty':\n",
    "        return 'February'\n",
    "    if miesiac=='marca' or miesiac=='marzec':\n",
    "        return 'March'\n",
    "    if miesiac=='kwietnia' or miesiac=='kwiecień':\n",
    "        return 'April'\n",
    "    if miesiac=='maja' or miesiac=='maj':\n",
    "        return 'May'\n",
    "    if miesiac=='czerwca' or miesiac=='czerwiec':\n",
    "        return 'June'\n",
    "    if miesiac=='lipca' or miesiac=='lipiec':\n",
    "        return 'July'\n",
    "    if miesiac=='sierpnia' or miesiac=='sierpień':\n",
    "        return 'August'\n",
    "    if miesiac=='września' or miesiac=='wrzesień':\n",
    "        return 'September'\n",
    "    if miesiac=='października' or miesiac=='październik':\n",
    "        return 'October'\n",
    "    if miesiac=='listopada' or miesiac=='listopad':\n",
    "        return 'November'\n",
    "    if miesiac=='grudnia' or miesiac=='grudzień':\n",
    "        return 'December'\n",
    "    \n",
    "def translating_date(date):\n",
    "    lst=date.split()\n",
    "    if len(lst)==3:\n",
    "        lst[1]=miesiac_ang(date.split()[1])\n",
    "        return ' '.join(lst)\n",
    "    else:\n",
    "        lst[0]=miesiac_ang(date.split()[0])\n",
    "        return '1 '+' '.join(lst)\n",
    "\n",
    "def transform_rating(value):\n",
    "    return '.'.join(value.split(','))"
   ]
  },
  {
   "cell_type": "markdown",
   "metadata": {},
   "source": [
    "Transforming df"
   ]
  },
  {
   "cell_type": "code",
   "execution_count": null,
   "metadata": {},
   "outputs": [],
   "source": [
    "#cleaning 'boxoffice' and 'budget' column\n",
    "df['boxoffice']=df['boxoffice'].apply(clean_boxoffice)\n",
    "df['boxoffice']=df['boxoffice'].apply(int)\n",
    "df['budget']=df['budget'].apply(clean_boxoffice)\n",
    "df['budget']=df['budget'].apply(float)\n",
    "df['rating']=df['rating'].apply(transform_rating)\n",
    "df['date of production']=df['date of production'].apply(float)\n",
    "df['rating']=df['rating'].apply(float)\n",
    "\n",
    "\n",
    "#cleaning 'scenario', 'production' and 'directing' column\n",
    "df['scenario']=df['scenario'].apply(clean_scenario)\n",
    "df['directing']=df['directing'].apply(clean_scenario)\n",
    "df['production']=df['production'].apply(clean_scenario)\n",
    "df['studio']=df['studio'].apply(clean_scenario)\n",
    "\n",
    "#changing 'premiere' column into datetime object\n",
    "df['premiere']=df['premiere'].apply(translating_date)\n",
    "for i in range(df['rating'].count()):\n",
    "    df['premiere'][i]=datetime.strptime(df['premiere'][i],'%d %B %Y')"
   ]
  },
  {
   "cell_type": "markdown",
   "metadata": {},
   "source": [
    "Transforming df1"
   ]
  },
  {
   "cell_type": "code",
   "execution_count": null,
   "metadata": {},
   "outputs": [],
   "source": [
    "df1['rating']=df1['rating'].apply(transform_rating)\n",
    "df1['date of production']=df1['date of production'].apply(float)\n",
    "df1['rating']=df1['rating'].apply(float)\n",
    "\n",
    "#cleaning 'scenario', 'production' ,'studio' and 'directing' column\n",
    "df1['scenario']=df1['scenario'].apply(clean_scenario)\n",
    "df1['directing']=df1['directing'].apply(clean_scenario)\n",
    "df1['production']=df1['production'].apply(clean_scenario)\n",
    "df1['studio']=df1['studio'].apply(clean_scenario)\n",
    "\n",
    "#changing 'premiera' column into datetime object\n",
    "df1['premiere']=df1['premiere'].apply(translating_date)\n",
    "for i in range(df1['rating'].count()):\n",
    "    df1['premiere'][i]=datetime.strptime(df1['premiere'][i],'%d %B %Y')"
   ]
  },
  {
   "cell_type": "markdown",
   "metadata": {},
   "source": [
    "Now we will create additional columns: 'num of famous actors and actresses', 'num of famous directors' and 'num of famous screenwriters' representing number of famous actors etc. In order to do that we will create at first lists of famous actors, directors and screenwriters, that will be persons with the highest ratings at filmweb.pl."
   ]
  },
  {
   "cell_type": "code",
   "execution_count": null,
   "metadata": {},
   "outputs": [],
   "source": [
    "df"
   ]
  },
  {
   "cell_type": "code",
   "execution_count": null,
   "metadata": {},
   "outputs": [],
   "source": [
    "def get_famous_actors(link):\n",
    "    r=requests.get(link)\n",
    "    soup=bs(r.content)\n",
    "\n",
    "    actors_info=soup.find(class_='page__container rankingTypeSection__container')\n",
    "    actors_rows=actors_info.find_all(class_='rankingTypePerson__header')\n",
    "\n",
    "    for row in actors_rows:\n",
    "        famous_actors_list.append(row.get_text())\n",
    "    \n"
   ]
  },
  {
   "cell_type": "code",
   "execution_count": null,
   "metadata": {},
   "outputs": [],
   "source": [
    "def get_famous_actress(link):\n",
    "    r=requests.get(link)\n",
    "    soup=bs(r.content)\n",
    "\n",
    "    actors_info=soup.find(class_='page__container rankingTypeSection__container')\n",
    "    actors_rows=actors_info.find_all(class_='rankingTypePerson__header')\n",
    "\n",
    "    for row in actors_rows:\n",
    "        famous_actress_list.append(row.get_text())\n",
    "    \n"
   ]
  },
  {
   "cell_type": "code",
   "execution_count": null,
   "metadata": {},
   "outputs": [],
   "source": [
    "def get_famous_directors(link):\n",
    "    r=requests.get(link)\n",
    "    soup=bs(r.content)\n",
    "\n",
    "    actors_info=soup.find(class_='page__container rankingTypeSection__container')\n",
    "    actors_rows=actors_info.find_all(class_='rankingTypePerson__header')\n",
    "\n",
    "    for row in actors_rows:\n",
    "        famous_directors_list.append(row.get_text())\n",
    "    \n"
   ]
  },
  {
   "cell_type": "code",
   "execution_count": null,
   "metadata": {},
   "outputs": [],
   "source": [
    "def get_famous_screenwriters(link):\n",
    "    r=requests.get(link)\n",
    "    soup=bs(r.content)\n",
    "\n",
    "    actors_info=soup.find(class_='page__container rankingTypeSection__container')\n",
    "    actors_rows=actors_info.find_all(class_='rankingTypePerson__header')\n",
    "\n",
    "    for row in actors_rows:\n",
    "        famous_screenwriters_list.append(row.get_text())\n",
    "    \n"
   ]
  },
  {
   "cell_type": "code",
   "execution_count": null,
   "metadata": {},
   "outputs": [],
   "source": [
    "#creating list of famous actors\n",
    "famous_actors_list=[]\n",
    "link='https://www.filmweb.pl/ranking/person/actors/male'\n",
    "r=requests.get(link)\n",
    "soup=bs(r.content)\n",
    "pages=soup.find(class_='pagination__list').find_all('li')\n",
    "\n",
    "for i in range(5):\n",
    "    try:\n",
    "        link=pages[i].a['href']\n",
    "        base_link='https://www.filmweb.pl'\n",
    "        link=base_link+link\n",
    "    except:\n",
    "        get_famous_actors(link)\n",
    "        continue\n",
    "\n",
    "    get_famous_actors(link)\n",
    "\n",
    "for j in range(3):\n",
    "    link='https://www.filmweb.pl/ranking/person/actors/male?page={}'.format(8+5*j)\n",
    "    r=requests.get(link)\n",
    "    soup=bs(r.content)\n",
    "    pages=soup.find(class_='pagination__list').find_all('li')\n",
    "\n",
    "    for i in range(5):\n",
    "        try:\n",
    "            link=pages[i+2].a['href']\n",
    "            base_link='https://www.filmweb.pl'\n",
    "            link=base_link+link\n",
    "        except:\n",
    "            link='https://www.filmweb.pl/ranking/person/actors/male?page={}'.format(8+5*j)\n",
    "\n",
    "        get_famous_actors(link)"
   ]
  },
  {
   "cell_type": "code",
   "execution_count": null,
   "metadata": {},
   "outputs": [],
   "source": [
    "#creating list of famous actresses\n",
    "famous_actress_list=[]\n",
    "link='https://www.filmweb.pl/ranking/person/actors/female'\n",
    "r=requests.get(link)\n",
    "soup=bs(r.content)\n",
    "pages=soup.find(class_='pagination__list').find_all('li')\n",
    "\n",
    "for i in range(5):\n",
    "    try:\n",
    "        link=pages[i].a['href']\n",
    "        base_link='https://www.filmweb.pl'\n",
    "        link=base_link+link\n",
    "        print(link)\n",
    "    except:\n",
    "        get_famous_actress(link)\n",
    "        print(link)\n",
    "        continue\n",
    "\n",
    "    get_famous_actress(link)\n",
    "\n",
    "for j in range(2):\n",
    "    link='https://www.filmweb.pl/ranking/person/actors/female?page={}'.format(8+5*j)\n",
    "    r=requests.get(link)\n",
    "    soup=bs(r.content)\n",
    "    pages=soup.find(class_='pagination__list').find_all('li')\n",
    "\n",
    "    for i in range(5):\n",
    "        try:\n",
    "            link=pages[i+2].a['href']\n",
    "            base_link='https://www.filmweb.pl'\n",
    "            link=base_link+link\n",
    "            print(link)\n",
    "        except:\n",
    "            link='https://www.filmweb.pl/ranking/person/actors/female?page={}'.format(8+5*j)\n",
    "            print(link)\n",
    "\n",
    "        get_famous_actress(link)"
   ]
  },
  {
   "cell_type": "code",
   "execution_count": null,
   "metadata": {},
   "outputs": [],
   "source": [
    "#creating list of famous directors\n",
    "famous_directors_list=[]\n",
    "link='https://www.filmweb.pl/ranking/person/director'\n",
    "r=requests.get(link)\n",
    "soup=bs(r.content)\n",
    "pages=soup.find(class_='pagination__list').find_all('li')\n",
    "\n",
    "for i in range(5):\n",
    "    try:\n",
    "        link=pages[i].a['href']\n",
    "        base_link='https://www.filmweb.pl'\n",
    "        link=base_link+link\n",
    "        print(link)\n",
    "    except:\n",
    "        get_famous_directors(link)\n",
    "        print(link)\n",
    "        continue\n",
    "\n",
    "    get_famous_directors(link)\n",
    "\n",
    "\n",
    "link='https://www.filmweb.pl/ranking/person/director?page=5'\n",
    "r=requests.get(link)\n",
    "soup=bs(r.content)\n",
    "pages=soup.find(class_='pagination__list').find_all('li')\n",
    "\n",
    "for i in range(2):\n",
    "    try:\n",
    "        link=pages[i+5].a['href']\n",
    "        base_link='https://www.filmweb.pl'\n",
    "        link=base_link+link\n",
    "        print(link)\n",
    "    except:\n",
    "        link='https://www.filmweb.pl/ranking/person/director?page=5'\n",
    "        print(link)\n",
    "\n",
    "    get_famous_directors(link)"
   ]
  },
  {
   "cell_type": "code",
   "execution_count": null,
   "metadata": {},
   "outputs": [],
   "source": [
    "#creating list of famous screenwriters\n",
    "famous_screenwriters_list=[]\n",
    "link='https://www.filmweb.pl/ranking/person/screenwriter'\n",
    "r=requests.get(link)\n",
    "soup=bs(r.content)\n",
    "pages=soup.find(class_='pagination__list').find_all('li')\n",
    "\n",
    "for i in range(5):\n",
    "    try:\n",
    "        link=pages[i].a['href']\n",
    "        base_link='https://www.filmweb.pl'\n",
    "        link=base_link+link\n",
    "        print(link)\n",
    "    except:\n",
    "        get_famous_screenwriters(link)\n",
    "        print(link)\n",
    "        continue\n",
    "\n",
    "    get_famous_screenwriters(link)\n",
    "\n",
    "\n",
    "for j in range(3):\n",
    "    link='https://www.filmweb.pl/ranking/person/screenwriter?page={}'.format(8+5*j)\n",
    "    r=requests.get(link)\n",
    "    soup=bs(r.content)\n",
    "    pages=soup.find(class_='pagination__list').find_all('li')\n",
    "\n",
    "    for i in range(5):\n",
    "        try:\n",
    "            link=pages[i+2].a['href']\n",
    "            base_link='https://www.filmweb.pl'\n",
    "            link=base_link+link\n",
    "            print(link)\n",
    "        except:\n",
    "            link='https://www.filmweb.pl/ranking/person/screenwriter?page={}'.format(8+5*j)\n",
    "            print(link)\n",
    "\n",
    "        get_famous_screenwriters(link)"
   ]
  },
  {
   "cell_type": "code",
   "execution_count": null,
   "metadata": {},
   "outputs": [],
   "source": [
    "famous_actors_actress_list=famous_actors_list + famous_actress_list\n",
    "len(famous_actors_actress_list)"
   ]
  },
  {
   "cell_type": "markdown",
   "metadata": {},
   "source": [
    "Creating a columns."
   ]
  },
  {
   "cell_type": "code",
   "execution_count": null,
   "metadata": {},
   "outputs": [],
   "source": [
    "df['num of famous actors and actresses']=0\n",
    "df['num of famous directors']=0\n",
    "df['num of famous screenwriters']=0"
   ]
  },
  {
   "cell_type": "code",
   "execution_count": null,
   "metadata": {},
   "outputs": [],
   "source": [
    "for i in range(df['rating'].count()):\n",
    "    for j in range(10):\n",
    "        try:\n",
    "            if df['actors'][i][j] in famous_actors_actress_list:\n",
    "                df['num of famous actors and actresses'][i]+=1\n",
    "        except:\n",
    "            continue\n",
    "            \n",
    "for i in range(df['rating'].count()):\n",
    "    for j in range(3):\n",
    "        try:\n",
    "            if df['directing'][i][j] in famous_directors_list:\n",
    "                df['num of famous directors'][i]+=1\n",
    "        except:\n",
    "            continue\n",
    "            \n",
    "for i in range(df['rating'].count()):\n",
    "    for j in range(3):\n",
    "        try:\n",
    "            if df['scenario'][i][j] in famous_screenwriters_list:\n",
    "                df['num of famous screenwriters'][i]+=1\n",
    "        except:\n",
    "            continue"
   ]
  },
  {
   "cell_type": "code",
   "execution_count": null,
   "metadata": {},
   "outputs": [],
   "source": [
    "df1['num of famous actors and actresses']=0\n",
    "df1['num of famous directors']=0\n",
    "df1['num of famous screenwriters']=0"
   ]
  },
  {
   "cell_type": "code",
   "execution_count": null,
   "metadata": {},
   "outputs": [],
   "source": [
    "for i in range(df1['rating'].count()):\n",
    "    for j in range(10):\n",
    "        try:\n",
    "            if df1['actors'][i][j] in famous_actors_actress_list:\n",
    "                df1['num of famous actors and actresses'][i]+=1\n",
    "        except:\n",
    "            continue\n",
    "            \n",
    "for i in range(df1['rating'].count()):\n",
    "    for j in range(3):\n",
    "        try:\n",
    "            if df1['directing'][i][j] in famous_directors_list:\n",
    "                df1['num of famous directors'][i]+=1\n",
    "        except:\n",
    "            continue\n",
    "            \n",
    "for i in range(df1['rating'].count()):\n",
    "    for j in range(3):\n",
    "        try:\n",
    "            if df1['scenario'][i][j] in famous_screenwriters_list:\n",
    "                df1['num of famous screenwriters'][i]+=1\n",
    "        except:\n",
    "            continue"
   ]
  },
  {
   "cell_type": "code",
   "execution_count": null,
   "metadata": {},
   "outputs": [],
   "source": [
    "df"
   ]
  },
  {
   "cell_type": "markdown",
   "metadata": {},
   "source": [
    "Now we will ceate columns for each film genre and country where the movie was produced."
   ]
  },
  {
   "cell_type": "code",
   "execution_count": null,
   "metadata": {},
   "outputs": [],
   "source": [
    "df=pd.get_dummies(df, columns=['genre'])\n",
    "df1=pd.get_dummies(df1, columns=['genre'])"
   ]
  },
  {
   "cell_type": "code",
   "execution_count": null,
   "metadata": {},
   "outputs": [],
   "source": [
    "lst_of_countries=[]\n",
    "for i in range(df['rating'].count()):\n",
    "    for j in range(15):\n",
    "        try:\n",
    "            if df['production'][i][j] not in lst_of_countries:\n",
    "                lst_of_countries.append(df['production'][i][j])\n",
    "        except:\n",
    "            continue"
   ]
  },
  {
   "cell_type": "code",
   "execution_count": null,
   "metadata": {
    "scrolled": true
   },
   "outputs": [],
   "source": [
    "lst_of_countries"
   ]
  },
  {
   "cell_type": "code",
   "execution_count": null,
   "metadata": {},
   "outputs": [],
   "source": [
    "for i in range(len(lst_of_countries)):\n",
    "    df['prod_{}'.format(lst_of_countries[i])]=0"
   ]
  },
  {
   "cell_type": "code",
   "execution_count": null,
   "metadata": {},
   "outputs": [],
   "source": [
    "for i in range(df['rating'].count()):\n",
    "    for j in range(15):\n",
    "        try:\n",
    "            country=df['production'][i][j]\n",
    "            df['prod_{}'.format(country)][i]+=1\n",
    "        except:\n",
    "            continue"
   ]
  },
  {
   "cell_type": "code",
   "execution_count": null,
   "metadata": {},
   "outputs": [],
   "source": [
    "lst_of_countries=[]\n",
    "for i in range(df1['rating'].count()):\n",
    "    for j in range(15):\n",
    "        try:\n",
    "            if df1['production'][i][j] not in lst_of_countries:\n",
    "                lst_of_countries.append(df1['production'][i][j])\n",
    "        except:\n",
    "            continue"
   ]
  },
  {
   "cell_type": "code",
   "execution_count": null,
   "metadata": {},
   "outputs": [],
   "source": [
    "for i in range(len(lst_of_countries)):\n",
    "    df1['prod_{}'.format(lst_of_countries[i])]=0"
   ]
  },
  {
   "cell_type": "code",
   "execution_count": null,
   "metadata": {},
   "outputs": [],
   "source": [
    "for i in range(df1['rating'].count()):\n",
    "    for j in range(15):\n",
    "        try:\n",
    "            country=df1['production'][i][j]\n",
    "            df1['prod_{}'.format(country)][i]+=1\n",
    "        except:\n",
    "            continue"
   ]
  },
  {
   "cell_type": "code",
   "execution_count": null,
   "metadata": {},
   "outputs": [],
   "source": [
    "df"
   ]
  },
  {
   "cell_type": "markdown",
   "metadata": {},
   "source": [
    "Saving our data as csv file."
   ]
  },
  {
   "cell_type": "code",
   "execution_count": null,
   "metadata": {},
   "outputs": [],
   "source": [
    "df.to_csv('filmweb_data')\n",
    "df1.to_csv('filmweb_data2')"
   ]
  },
  {
   "cell_type": "markdown",
   "metadata": {},
   "source": [
    "## Exploratory data analysis"
   ]
  },
  {
   "cell_type": "code",
   "execution_count": null,
   "metadata": {},
   "outputs": [],
   "source": [
    "df=pd.read_csv('filmweb_data')\n",
    "df1=pd.read_csv('filmweb_data2')"
   ]
  },
  {
   "cell_type": "code",
   "execution_count": null,
   "metadata": {},
   "outputs": [],
   "source": [
    "df.drop('Unnamed: 0',axis=1,inplace=True)\n",
    "df1.drop('Unnamed: 0',axis=1,inplace=True)"
   ]
  },
  {
   "cell_type": "code",
   "execution_count": null,
   "metadata": {},
   "outputs": [],
   "source": [
    "df['production'][1]"
   ]
  },
  {
   "cell_type": "markdown",
   "metadata": {},
   "source": [
    "After loading data from file we have strings instead of lists so we will define function which will transform them into lists again."
   ]
  },
  {
   "cell_type": "code",
   "execution_count": null,
   "metadata": {},
   "outputs": [],
   "source": [
    "#function which transform a string into a list (for 'production' and 'studio' columns)\n",
    "def string_to_list(x):\n",
    "    x= x.split('[')[1].split(']')[0].split(\"'\")\n",
    "    for i in range(len(x)):\n",
    "        try:\n",
    "            if x[i]==', ':\n",
    "                x.remove(', ')\n",
    "        except:\n",
    "            continue\n",
    "    x=x[1:-1]\n",
    "    return x"
   ]
  },
  {
   "cell_type": "code",
   "execution_count": null,
   "metadata": {},
   "outputs": [],
   "source": [
    "df['production']=df['production'].apply(string_to_list)\n",
    "df1['production']=df1['production'].apply(string_to_list)\n",
    "\n",
    "df1['studio']=df1['studio'].apply(string_to_list)\n",
    "df['studio']=df['studio'].apply(string_to_list)"
   ]
  },
  {
   "cell_type": "markdown",
   "metadata": {},
   "source": [
    "Let's create a new column 'revenue' and check how correlation matrix looks like."
   ]
  },
  {
   "cell_type": "code",
   "execution_count": null,
   "metadata": {},
   "outputs": [],
   "source": [
    "df['revenue']=df['boxoffice']/df['budget']\n",
    "df1['revenue']=df['boxoffice']/df['budget']"
   ]
  },
  {
   "cell_type": "code",
   "execution_count": null,
   "metadata": {},
   "outputs": [],
   "source": [
    "sns.heatmap(df[['date of production','rating','boxoffice','budget','num of famous actors and actresses',\n",
    "                 'num of famous directors','num of famous screenwriters','revenue']].corr(), cmap='coolwarm')"
   ]
  },
  {
   "cell_type": "code",
   "execution_count": null,
   "metadata": {},
   "outputs": [],
   "source": [
    "sns.heatmap(df1[['date of production','rating','num of famous actors and actresses',\n",
    "                 'num of famous directors','num of famous screenwriters','revenue']].corr(), cmap='coolwarm')"
   ]
  },
  {
   "cell_type": "markdown",
   "metadata": {},
   "source": [
    "We can see that the biggest impact on a rating has a number of famous directors and screenwriters, on the otehr hand a boxoffice and a budget have one of the least impacts so we will not use them for building a model. Now we will check how a mean rating and a revenue of a movies depends on a different variables."
   ]
  },
  {
   "cell_type": "code",
   "execution_count": null,
   "metadata": {},
   "outputs": [],
   "source": [
    "lst=[]\n",
    "for i in range(df1['rating'].count()):\n",
    "    for j in range(5):\n",
    "        try:\n",
    "            country=df1['production'][i][j]\n",
    "            if country not in lst:\n",
    "                lst.append(country)\n",
    "        except:\n",
    "            continue\n",
    "len(lst)"
   ]
  },
  {
   "cell_type": "code",
   "execution_count": null,
   "metadata": {},
   "outputs": [],
   "source": [
    "countries_mean_rating=pd.DataFrame([[0,0] for i in range(len(lst))])\n",
    "for i in range(len(lst)):\n",
    "    lst2=[] #list with rating\n",
    "    for j in range(df1['rating'].count()):\n",
    "        try:\n",
    "            if lst[i] in df1['production'][j]:\n",
    "                lst2.append(df1.loc[j]['rating'])\n",
    "        except:\n",
    "            continue\n",
    "    countries_mean_rating.loc[i]=[lst[i], np.mean(lst2)]"
   ]
  },
  {
   "cell_type": "code",
   "execution_count": null,
   "metadata": {},
   "outputs": [],
   "source": [
    "countries_mean_rating=countries_mean_rating.rename(columns={0:'country', 1:'mean rating'})"
   ]
  },
  {
   "cell_type": "code",
   "execution_count": null,
   "metadata": {},
   "outputs": [],
   "source": [
    "#creating a column 'num_of_movies' which represents how many movies was produced by a given country\n",
    "countries_mean_rating['num_of_movies']=0"
   ]
  },
  {
   "cell_type": "code",
   "execution_count": null,
   "metadata": {},
   "outputs": [],
   "source": [
    "for i in range(len(lst)):\n",
    "    country=lst[i]\n",
    "    num_of_movies=0\n",
    "    for j in range(df1['rating'].count()):\n",
    "        if country in df1['production'][j]:\n",
    "            num_of_movies+=1\n",
    "    countries_mean_rating['num_of_movies'][i]=num_of_movies"
   ]
  },
  {
   "cell_type": "code",
   "execution_count": null,
   "metadata": {
    "scrolled": true
   },
   "outputs": [],
   "source": [
    "countries_mean_rating.sort_values(by='mean rating',axis=0, ascending=False)"
   ]
  },
  {
   "cell_type": "markdown",
   "metadata": {},
   "source": [
    "We see that countries which have the biggest mean rating have also very little number of movies produced, from among 8 countries which have produced the most movies, Italy has the biggest mean rating."
   ]
  },
  {
   "cell_type": "code",
   "execution_count": null,
   "metadata": {},
   "outputs": [],
   "source": [
    "fig,axes = plt.subplots(figsize=(12,3))\n",
    "axes.plot(df1.groupby('num of famous actors and actresses').mean()['rating'])\n",
    "axes.set_ylabel('mean rating')\n",
    "axes.set_xlabel('num of famous actors and ctresses')\n",
    "plt.tight_layout()"
   ]
  },
  {
   "cell_type": "markdown",
   "metadata": {},
   "source": [
    "A number of famous actors doesn't seem to have a big impact on a rating, only movies with 8 and 9 famous actors has significantly bigger mean rating."
   ]
  },
  {
   "cell_type": "code",
   "execution_count": null,
   "metadata": {
    "scrolled": true
   },
   "outputs": [],
   "source": [
    "pd.DataFrame(df1.groupby('num of famous directors').mean().sort_values('rating',ascending=False)['rating'])"
   ]
  },
  {
   "cell_type": "code",
   "execution_count": null,
   "metadata": {},
   "outputs": [],
   "source": [
    "pd.DataFrame(df1.groupby('num of famous screenwriters').mean().sort_values('rating',ascending=False)['rating'])"
   ]
  },
  {
   "cell_type": "markdown",
   "metadata": {},
   "source": [
    "We can see that if we have at least one famous screenwriter or director then a mean rating is much bigger, but there is no difference if we have one or two famous screenwriters or directors."
   ]
  },
  {
   "cell_type": "code",
   "execution_count": null,
   "metadata": {},
   "outputs": [],
   "source": [
    "fig,axes=plt.subplots(figsize=(12,3))\n",
    "axes.plot(df1.groupby('date of production').mean()['rating'])\n",
    "axes.set_xlabel('date of production')\n",
    "axes.set_ylabel('mean rating')\n",
    "plt.tight_layout()"
   ]
  },
  {
   "cell_type": "markdown",
   "metadata": {},
   "source": [
    "The movies produced after around 1980 start to getting smaller mean rate and the biggest drop is between 2019 and 2020. Let's check a number of movies with rating above 7.5 which was produced before and after 1980."
   ]
  },
  {
   "cell_type": "code",
   "execution_count": null,
   "metadata": {},
   "outputs": [],
   "source": [
    "print('Number of movies with rating above 7.5 produced after 1980: {}'\n",
    "      .format(df1[(df1['date of production']>1980)&(df1['rating']>7.5)]['rating'].count()))"
   ]
  },
  {
   "cell_type": "code",
   "execution_count": null,
   "metadata": {},
   "outputs": [],
   "source": [
    "print('Number of movies with rating above 7.5 produced before 1980: {}'\n",
    "      .format(df1[(df1['date of production']<1980)&(df1['rating']>7.5)]['rating'].count()))"
   ]
  },
  {
   "cell_type": "markdown",
   "metadata": {},
   "source": [
    "We can see that even though a mean rating of movies produced after 1980 start to getting smaller, a number of movies with a rating above 7.5 is almost two times bigger. Now let's see what are the movies with the biggest revenue and how it depends on a number of famous actors, screenwriters and directors."
   ]
  },
  {
   "cell_type": "code",
   "execution_count": null,
   "metadata": {
    "scrolled": true
   },
   "outputs": [],
   "source": [
    "df[['title','revenue']].sort_values(by='revenue',ascending=False)"
   ]
  },
  {
   "cell_type": "code",
   "execution_count": null,
   "metadata": {},
   "outputs": [],
   "source": [
    "pd.DataFrame(df.groupby('num of famous actors and actresses').mean().sort_values('revenue',ascending=False)['revenue'])"
   ]
  },
  {
   "cell_type": "code",
   "execution_count": null,
   "metadata": {},
   "outputs": [],
   "source": [
    "pd.DataFrame(df.groupby('num of famous directors').mean().sort_values('revenue',ascending=False)['revenue'])"
   ]
  },
  {
   "cell_type": "code",
   "execution_count": null,
   "metadata": {},
   "outputs": [],
   "source": [
    "pd.DataFrame(df.groupby('num of famous screenwriters').mean().sort_values('revenue',ascending=False)['revenue'])"
   ]
  },
  {
   "cell_type": "markdown",
   "metadata": {},
   "source": [
    "Now we will create some models and try to predict a rating of a movie. In order to check which one is the best we will calculate a root mean square error."
   ]
  },
  {
   "cell_type": "markdown",
   "metadata": {},
   "source": [
    "## model 1- Support Vector Regression"
   ]
  },
  {
   "cell_type": "code",
   "execution_count": null,
   "metadata": {},
   "outputs": [],
   "source": [
    "df=pd.read_csv('filmweb_data')\n",
    "df1=pd.read_csv('filmweb_data2')"
   ]
  },
  {
   "cell_type": "code",
   "execution_count": null,
   "metadata": {},
   "outputs": [],
   "source": [
    "df1.drop(['Unnamed: 0','actors','premiere','production','directing','scenario','studio','title'],axis=1,inplace=True)\n",
    "df.drop(['Unnamed: 0','actors','premiere','production','directing','scenario','studio','title'],axis=1,inplace=True)"
   ]
  },
  {
   "cell_type": "code",
   "execution_count": null,
   "metadata": {},
   "outputs": [],
   "source": [
    "x=df1.drop('rating',axis=1)\n",
    "y=df1['rating']\n",
    "from sklearn.model_selection import train_test_split\n",
    "x_train,x_test,y_train,y_test=train_test_split(x,y,test_size=0.3)"
   ]
  },
  {
   "cell_type": "code",
   "execution_count": null,
   "metadata": {},
   "outputs": [],
   "source": [
    "from sklearn import svm\n",
    "regr = svm.SVR()\n",
    "regr.fit(x_train,y_train)\n",
    "pred=regr.predict(x_test)\n",
    "\n",
    "from sklearn import metrics\n",
    "import numpy as np\n",
    "print('RMSE:', np.sqrt(metrics.mean_squared_error(y_test, pred)))"
   ]
  },
  {
   "cell_type": "markdown",
   "metadata": {},
   "source": [
    "## model 2- KNeighborsRegressor"
   ]
  },
  {
   "cell_type": "code",
   "execution_count": null,
   "metadata": {},
   "outputs": [],
   "source": [
    "from sklearn.neighbors import KNeighborsRegressor\n",
    "model=KNeighborsRegressor()\n",
    "model.fit(x_train,y_train)\n",
    "pred=model.predict(x_test)\n",
    "\n",
    "print('RMSE:', np.sqrt(metrics.mean_squared_error(y_test, pred)))"
   ]
  },
  {
   "cell_type": "markdown",
   "metadata": {},
   "source": [
    "## model 3- GaussianProcessRegressor"
   ]
  },
  {
   "cell_type": "code",
   "execution_count": null,
   "metadata": {},
   "outputs": [],
   "source": [
    "from sklearn.gaussian_process import GaussianProcessRegressor\n",
    "model=GaussianProcessRegressor()\n",
    "model.fit(x_train,y_train)\n",
    "pred=model.predict(x_test)\n",
    "\n",
    "print('RMSE:', np.sqrt(metrics.mean_squared_error(y_test, pred)))"
   ]
  },
  {
   "cell_type": "markdown",
   "metadata": {},
   "source": [
    "## model 4- DecisionTreeRegressor"
   ]
  },
  {
   "cell_type": "code",
   "execution_count": null,
   "metadata": {},
   "outputs": [],
   "source": [
    "from sklearn.tree import DecisionTreeRegressor\n",
    "model=DecisionTreeRegressor()\n",
    "model.fit(x_train,y_train)\n",
    "pred=model.predict(x_test)\n",
    "\n",
    "print('RMSE:', np.sqrt(metrics.mean_squared_error(y_test, pred)))"
   ]
  },
  {
   "cell_type": "markdown",
   "metadata": {},
   "source": [
    "We can see that the best one is Support Vector Regression. Let's try to improve it with GridSearch."
   ]
  },
  {
   "cell_type": "code",
   "execution_count": null,
   "metadata": {},
   "outputs": [],
   "source": [
    "from sklearn.model_selection import GridSearchCV"
   ]
  },
  {
   "cell_type": "code",
   "execution_count": null,
   "metadata": {},
   "outputs": [],
   "source": [
    "param={'C':[0.001,0.01,0.1,1,10,100,1000],'epsilon':[0.001,0.01,0.1,1,10,100,1000]}\n",
    "grid = GridSearchCV(svm.SVR(),param,refit=True,verbose=3)"
   ]
  },
  {
   "cell_type": "code",
   "execution_count": null,
   "metadata": {},
   "outputs": [],
   "source": [
    "grid.fit(x_train,y_train)"
   ]
  },
  {
   "cell_type": "code",
   "execution_count": null,
   "metadata": {},
   "outputs": [],
   "source": [
    "grid.best_params_"
   ]
  },
  {
   "cell_type": "code",
   "execution_count": null,
   "metadata": {},
   "outputs": [],
   "source": [
    "pred=grid.predict(x_test)\n",
    "print('RMSE:', np.sqrt(metrics.mean_squared_error(y_test, pred)))"
   ]
  },
  {
   "cell_type": "markdown",
   "metadata": {},
   "source": [
    "Now let's try classification models. In order to do that, we will round up rating values so a type of them is int."
   ]
  },
  {
   "cell_type": "code",
   "execution_count": null,
   "metadata": {
    "scrolled": true
   },
   "outputs": [],
   "source": [
    "df1['rating'].value_counts()"
   ]
  },
  {
   "cell_type": "code",
   "execution_count": null,
   "metadata": {},
   "outputs": [],
   "source": [
    "for i in range(df1['rating'].count()):\n",
    "    if 3<=df1['rating'][i]<=3.4:\n",
    "        df1['rating'][i]=3\n",
    "    elif 3.5<=df1['rating'][i]<=4.4:\n",
    "        df1['rating'][i]=4\n",
    "    elif 4.5<=df1['rating'][i]<=5.4:\n",
    "        df1['rating'][i]=5\n",
    "    elif 5.5<=df1['rating'][i]<=6.4:\n",
    "        df1['rating'][i]=6\n",
    "    elif 6.5<=df1['rating'][i]<7.4:\n",
    "        df1['rating'][i]=7\n",
    "    elif 7.5<=df1['rating'][i]<=8.4:\n",
    "        df1['rating'][i]=8\n",
    "    else:\n",
    "        df1['rating'][i]=9"
   ]
  },
  {
   "cell_type": "code",
   "execution_count": null,
   "metadata": {},
   "outputs": [],
   "source": [
    "df1['rating'].value_counts()"
   ]
  },
  {
   "cell_type": "code",
   "execution_count": null,
   "metadata": {},
   "outputs": [],
   "source": [
    "x=df1.drop('rating',axis=1)\n",
    "y=df1['rating']\n",
    "\n",
    "from sklearn.model_selection import train_test_split\n",
    "from sklearn.metrics import confusion_matrix, classification_report\n",
    "x_train,x_test,y_train,y_test=train_test_split(x,y, test_size=0.3)"
   ]
  },
  {
   "cell_type": "markdown",
   "metadata": {},
   "source": [
    "## model 1- KNN"
   ]
  },
  {
   "cell_type": "code",
   "execution_count": null,
   "metadata": {},
   "outputs": [],
   "source": [
    "from sklearn.neighbors import KNeighborsClassifier\n",
    "error=[]\n",
    "for i in range(50):\n",
    "    model=KNeighborsClassifier(n_neighbors=i+1)\n",
    "    model.fit(x_train,y_train)\n",
    "    pred=model.predict(x_test)\n",
    "    error.append(np.mean(np.array(pred)!=np.array(y_test)))\n"
   ]
  },
  {
   "cell_type": "code",
   "execution_count": null,
   "metadata": {},
   "outputs": [],
   "source": [
    "plt.plot(error)"
   ]
  },
  {
   "cell_type": "code",
   "execution_count": null,
   "metadata": {
    "scrolled": true
   },
   "outputs": [],
   "source": [
    "model=KNeighborsClassifier(n_neighbors=49)\n",
    "model.fit(x_train,y_train)\n",
    "pred=model.predict(x_test)\n",
    "\n",
    "print(confusion_matrix(y_test,pred))\n",
    "print(classification_report(y_test,pred))"
   ]
  },
  {
   "cell_type": "markdown",
   "metadata": {},
   "source": [
    "## model 2- SVC"
   ]
  },
  {
   "cell_type": "code",
   "execution_count": null,
   "metadata": {
    "scrolled": true
   },
   "outputs": [],
   "source": [
    "from sklearn.svm import SVC\n",
    "model=SVC()\n",
    "model.fit(x_train,y_train)\n",
    "pred=model.predict(x_test)\n",
    "\n",
    "print(confusion_matrix(y_test,pred))\n",
    "print(classification_report(y_test,pred))"
   ]
  },
  {
   "cell_type": "markdown",
   "metadata": {},
   "source": [
    "## model 3- SGDC"
   ]
  },
  {
   "cell_type": "code",
   "execution_count": null,
   "metadata": {
    "scrolled": true
   },
   "outputs": [],
   "source": [
    "from sklearn.linear_model import SGDClassifier\n",
    "model=SGDClassifier()\n",
    "model.fit(x_train,y_train)\n",
    "pred=model.predict(x_test)\n",
    "\n",
    "print(confusion_matrix(y_test,pred))\n",
    "print(classification_report(y_test,pred))"
   ]
  },
  {
   "cell_type": "markdown",
   "metadata": {},
   "source": [
    "## model 4- GaussianNB"
   ]
  },
  {
   "cell_type": "code",
   "execution_count": null,
   "metadata": {},
   "outputs": [],
   "source": [
    "from sklearn.naive_bayes import GaussianNB\n",
    "model=GaussianNB()\n",
    "model.fit(x_train,y_train)\n",
    "pred=model.predict(x_test)\n",
    "\n",
    "print(confusion_matrix(y_test,pred))\n",
    "print(classification_report(y_test,pred))"
   ]
  },
  {
   "cell_type": "markdown",
   "metadata": {},
   "source": [
    "## model 5- Multinomial NB"
   ]
  },
  {
   "cell_type": "code",
   "execution_count": null,
   "metadata": {
    "scrolled": true
   },
   "outputs": [],
   "source": [
    "from sklearn.naive_bayes import MultinomialNB\n",
    "model=MultinomialNB()\n",
    "model.fit(x_train,y_train)\n",
    "pred=model.predict(x_test)\n",
    "\n",
    "print(confusion_matrix(y_test,pred))\n",
    "print(classification_report(y_test,pred))"
   ]
  },
  {
   "cell_type": "markdown",
   "metadata": {},
   "source": [
    " ## model 6- Complement NB"
   ]
  },
  {
   "cell_type": "code",
   "execution_count": null,
   "metadata": {},
   "outputs": [],
   "source": [
    "from sklearn.naive_bayes import ComplementNB\n",
    "model=ComplementNB()\n",
    "model.fit(x_train,y_train)\n",
    "pred=model.predict(x_test)\n",
    "\n",
    "print(confusion_matrix(y_test,pred))\n",
    "print(classification_report(y_test,pred))"
   ]
  },
  {
   "cell_type": "markdown",
   "metadata": {},
   "source": [
    "## model 7- Bernoulli NB"
   ]
  },
  {
   "cell_type": "code",
   "execution_count": null,
   "metadata": {},
   "outputs": [],
   "source": [
    "from sklearn.naive_bayes import BernoulliNB\n",
    "model=ComplementNB()\n",
    "model.fit(x_train,y_train)\n",
    "pred=model.predict(x_test)\n",
    "\n",
    "print(confusion_matrix(y_test,pred))\n",
    "print(classification_report(y_test,pred))"
   ]
  },
  {
   "cell_type": "markdown",
   "metadata": {},
   "source": [
    "## model 7- Random Forest"
   ]
  },
  {
   "cell_type": "code",
   "execution_count": null,
   "metadata": {
    "scrolled": true
   },
   "outputs": [],
   "source": [
    "from sklearn.ensemble import RandomForestClassifier\n",
    "model=RandomForestClassifier()\n",
    "model.fit(x_train,y_train)\n",
    "pred=model.predict(x_test)\n",
    "\n",
    "print(confusion_matrix(y_test,pred))\n",
    "print(classification_report(y_test,pred))"
   ]
  },
  {
   "cell_type": "markdown",
   "metadata": {},
   "source": [
    "## model 8- Logistic Regression"
   ]
  },
  {
   "cell_type": "code",
   "execution_count": null,
   "metadata": {
    "scrolled": true
   },
   "outputs": [],
   "source": [
    "from sklearn.linear_model import LogisticRegression\n",
    "model=LogisticRegression()\n",
    "model.fit(x_train,y_train)\n",
    "pred=model.predict(x_test)\n",
    "\n",
    "print(confusion_matrix(y_test,pred))\n",
    "print(classification_report(y_test,pred))"
   ]
  },
  {
   "cell_type": "markdown",
   "metadata": {},
   "source": [
    "## model 9- Decission Tree"
   ]
  },
  {
   "cell_type": "code",
   "execution_count": null,
   "metadata": {},
   "outputs": [],
   "source": [
    "from sklearn.tree import DecisionTreeClassifier\n",
    "model=DecisionTreeClassifier()\n",
    "model.fit(x_train,y_train)\n",
    "pred=model.predict(x_test)\n",
    "\n",
    "print(confusion_matrix(y_test,pred))\n",
    "print(classification_report(y_test,pred))"
   ]
  },
  {
   "cell_type": "markdown",
   "metadata": {},
   "source": [
    "## model 10- Gaussian Process"
   ]
  },
  {
   "cell_type": "code",
   "execution_count": null,
   "metadata": {
    "scrolled": true
   },
   "outputs": [],
   "source": [
    "from sklearn.gaussian_process import GaussianProcessClassifier\n",
    "model=GaussianProcessClassifier()\n",
    "model.fit(x_train,y_train)\n",
    "pred=model.predict(x_test)\n",
    "\n",
    "print(confusion_matrix(y_test,pred))\n",
    "print(classification_report(y_test,pred))"
   ]
  },
  {
   "cell_type": "markdown",
   "metadata": {},
   "source": [
    "It's quite diffucult to decide which model is the best. The logistic regression has the highest average f1- score but some of the other models are better for predicting some ratings, for example for predicting rating 4 the highest f1- score has the GaussianNB model which amounts 0.25."
   ]
  }
 ],
 "metadata": {
  "kernelspec": {
   "display_name": "Python 3",
   "language": "python",
   "name": "python3"
  }
 },
 "nbformat": 4,
 "nbformat_minor": 2
}
